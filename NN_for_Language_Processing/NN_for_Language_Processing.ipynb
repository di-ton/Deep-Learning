{
 "cells": [
  {
   "cell_type": "code",
   "execution_count": 56,
   "id": "f2fde781-d8fb-45b7-87f8-4ca8862c529d",
   "metadata": {},
   "outputs": [],
   "source": [
    "import tensorflow as tf\n",
    "\n",
    "from tensorflow.keras.models import Sequential\n",
    "from tensorflow.keras.layers import Input, SimpleRNN, GRU, LSTM, Bidirectional, Dense, Embedding, Attention"
   ]
  },
  {
   "cell_type": "markdown",
   "id": "0ebe7d90-a486-41e3-b1ff-9f3140915506",
   "metadata": {},
   "source": [
    "# Neural Networks for Language Processing"
   ]
  },
  {
   "cell_type": "markdown",
   "id": "c6ac2dec-65df-4519-a421-12660d6d9d3c",
   "metadata": {},
   "source": [
    "NLP (Natural Language Processing)\n",
    "+\n",
    "NLU (Natural Language Understanding /semantics/)\n",
    "=>\n",
    "NLG (Natural Language Generation)"
   ]
  },
  {
   "cell_type": "markdown",
   "id": "c36264bb-47c2-43df-bc27-69125fb3060c",
   "metadata": {},
   "source": [
    "## __Time-Dependent Model Examples__"
   ]
  },
  {
   "cell_type": "markdown",
   "id": "a9278ead-e5da-44d1-8875-68eb12e9a434",
   "metadata": {},
   "source": [
    "Usage: speech recognition (audio → transcript; encoder for audio and decoder for text), machine translation (text of one language) → text of another language), activity recognition (in a video → activity type e.g. walking); sentiment analysis (text → sentiment), generation (music generation, voice cloning, and text summarization)."
   ]
  },
  {
   "cell_type": "markdown",
   "id": "cc4da59a-dd83-4be4-86ed-495fa76a7c38",
   "metadata": {},
   "source": [
    "\"Standard\" models -> 𝑦 = 𝑓(𝑥); \n",
    "\n",
    "recurrent models -> 𝑦 = 𝑓(𝑥, 𝑠), s- current state"
   ]
  },
  {
   "cell_type": "code",
   "execution_count": 2,
   "id": "6bae196c-8a0a-4eed-af4b-5d13c3f15b12",
   "metadata": {},
   "outputs": [],
   "source": [
    "def f(x, current_world_state):\n",
    "    # do something\n",
    "    return result, new_world_state "
   ]
  },
  {
   "cell_type": "markdown",
   "id": "6e446b9e-b2d7-4560-b9f0-28cc065ea443",
   "metadata": {},
   "source": [
    "\"State\" is a parameter of the function. Here \"state\" is context."
   ]
  },
  {
   "cell_type": "markdown",
   "id": "936f38c4-b33a-476e-b34a-1c4185399a32",
   "metadata": {},
   "source": [
    "Autoregression: $ y(t, y^{<t-1>}) $\n",
    "\n",
    "$ y^{<t>}(t, y^{<t-1>}, y^{<t-2>},.....) $\n",
    "\n",
    "$ y^{<o>}, y^{<1>}(y^{<o>}), y^{<2>}(y^{<1>}).... $"
   ]
  },
  {
   "cell_type": "markdown",
   "id": "5f722de7-145e-4402-bf5b-7410642b43da",
   "metadata": {},
   "source": [
    "1-layer NN -> recurrent NN (2 entres, 2 exits) "
   ]
  },
  {
   "cell_type": "markdown",
   "id": "da0b3741-1ec1-4b21-84c8-ed56a913e808",
   "metadata": {},
   "source": [
    "Number of tokesn -> Input size \n",
    "\n",
    "One RNN sell processes one token. Many tokens need a layer.\n",
    "\n",
    "Backpropagation depends on time."
   ]
  },
  {
   "cell_type": "code",
   "execution_count": 12,
   "id": "5acc314f-5bed-43f6-83b3-bc47d46f654a",
   "metadata": {},
   "outputs": [],
   "source": [
    "model = Sequential([\n",
    "    Input((6, 20)), # (batch), steps, features\n",
    "    SimpleRNN(128, activation = \"relu\") # activation = None => regression\n",
    "])"
   ]
  },
  {
   "cell_type": "code",
   "execution_count": 9,
   "id": "6d1a2775-7eb2-4e31-ba45-b6ee20d5c497",
   "metadata": {},
   "outputs": [
    {
     "name": "stdout",
     "output_type": "stream",
     "text": [
      "Model: \"sequential_1\"\n",
      "_________________________________________________________________\n",
      " Layer (type)                Output Shape              Param #   \n",
      "=================================================================\n",
      " simple_rnn_1 (SimpleRNN)    (None, 128)               19072     \n",
      "                                                                 \n",
      "=================================================================\n",
      "Total params: 19072 (74.50 KB)\n",
      "Trainable params: 19072 (74.50 KB)\n",
      "Non-trainable params: 0 (0.00 Byte)\n",
      "_________________________________________________________________\n"
     ]
    }
   ],
   "source": [
    "model.summary()"
   ]
  },
  {
   "cell_type": "code",
   "execution_count": 10,
   "id": "d61a5834-a5f3-421b-a1c7-1c3ce8b8522d",
   "metadata": {},
   "outputs": [],
   "source": [
    "model_return = Sequential([\n",
    "    Input((6, 20)), \n",
    "    SimpleRNN(128, return_sequences = True) \n",
    "])"
   ]
  },
  {
   "cell_type": "code",
   "execution_count": 11,
   "id": "247ccc40-b048-42c1-812f-643b17026871",
   "metadata": {},
   "outputs": [
    {
     "name": "stdout",
     "output_type": "stream",
     "text": [
      "Model: \"sequential_2\"\n",
      "_________________________________________________________________\n",
      " Layer (type)                Output Shape              Param #   \n",
      "=================================================================\n",
      " simple_rnn_2 (SimpleRNN)    (None, 6, 128)            19072     \n",
      "                                                                 \n",
      "=================================================================\n",
      "Total params: 19072 (74.50 KB)\n",
      "Trainable params: 19072 (74.50 KB)\n",
      "Non-trainable params: 0 (0.00 Byte)\n",
      "_________________________________________________________________\n"
     ]
    }
   ],
   "source": [
    "model_return.summary()"
   ]
  },
  {
   "cell_type": "code",
   "execution_count": 13,
   "id": "7c37408c-af7a-49f5-b539-374f85d7317b",
   "metadata": {},
   "outputs": [],
   "source": [
    "model_return_2 = Sequential([\n",
    "    Input((6, 20)), \n",
    "    SimpleRNN(128, return_sequences = True),\n",
    "    SimpleRNN(64, return_sequences = True),\n",
    "])"
   ]
  },
  {
   "cell_type": "code",
   "execution_count": 14,
   "id": "d98832f4-508a-4d26-971d-25fb3cf4eb76",
   "metadata": {},
   "outputs": [
    {
     "name": "stdout",
     "output_type": "stream",
     "text": [
      "Model: \"sequential_4\"\n",
      "_________________________________________________________________\n",
      " Layer (type)                Output Shape              Param #   \n",
      "=================================================================\n",
      " simple_rnn_4 (SimpleRNN)    (None, 6, 128)            19072     \n",
      "                                                                 \n",
      " simple_rnn_5 (SimpleRNN)    (None, 6, 64)             12352     \n",
      "                                                                 \n",
      "=================================================================\n",
      "Total params: 31424 (122.75 KB)\n",
      "Trainable params: 31424 (122.75 KB)\n",
      "Non-trainable params: 0 (0.00 Byte)\n",
      "_________________________________________________________________\n"
     ]
    }
   ],
   "source": [
    "model_return_2.summary()"
   ]
  },
  {
   "cell_type": "markdown",
   "id": "6c5ea60d-79fd-4bf3-bf72-16aeddbe6f12",
   "metadata": {},
   "source": [
    "## __Architecture__"
   ]
  },
  {
   "cell_type": "markdown",
   "id": "c1ebb601-2034-4550-8fc5-446a268f0f96",
   "metadata": {},
   "source": [
    "\"one to one\" (standard model)\n",
    "\n",
    "\"one to many\" (generative model /completion model) (Mandatory two extres => if there is not second entry, it is given as a zero vector)\n",
    "\n",
    "\"many to one\" (e.g. sentiment analysis)\n",
    "\n",
    "\"many to many\" (e.g. named entity recognition (NER); completion models, LLM)\n",
    "\n",
    "There can be unused exits => they are calculated, but we ignore them."
   ]
  },
  {
   "cell_type": "code",
   "execution_count": 19,
   "id": "7c074d5e-49f8-42ab-90e3-3c26912a7e43",
   "metadata": {},
   "outputs": [],
   "source": [
    "# many to one => one output\n",
    "\n",
    "model_to_one = Sequential([\n",
    "    Input((6, 20)), \n",
    "    SimpleRNN(128, return_sequences = True),\n",
    "    SimpleRNN(64, return_sequences = True),\n",
    "    SimpleRNN(64, return_sequences = True),\n",
    "    SimpleRNN(64, return_sequences = False),\n",
    "])"
   ]
  },
  {
   "cell_type": "code",
   "execution_count": 20,
   "id": "419fe6ed-93bc-46cf-ac48-52b792274908",
   "metadata": {},
   "outputs": [
    {
     "name": "stdout",
     "output_type": "stream",
     "text": [
      "Model: \"sequential_7\"\n",
      "_________________________________________________________________\n",
      " Layer (type)                Output Shape              Param #   \n",
      "=================================================================\n",
      " simple_rnn_14 (SimpleRNN)   (None, 6, 128)            19072     \n",
      "                                                                 \n",
      " simple_rnn_15 (SimpleRNN)   (None, 6, 64)             12352     \n",
      "                                                                 \n",
      " simple_rnn_16 (SimpleRNN)   (None, 6, 64)             8256      \n",
      "                                                                 \n",
      " simple_rnn_17 (SimpleRNN)   (None, 64)                8256      \n",
      "                                                                 \n",
      "=================================================================\n",
      "Total params: 47936 (187.25 KB)\n",
      "Trainable params: 47936 (187.25 KB)\n",
      "Non-trainable params: 0 (0.00 Byte)\n",
      "_________________________________________________________________\n"
     ]
    }
   ],
   "source": [
    "model_to_one.summary()"
   ]
  },
  {
   "cell_type": "markdown",
   "id": "abe65066-6cde-4f70-9c66-c764f29b7da5",
   "metadata": {},
   "source": [
    "## __Language Models__"
   ]
  },
  {
   "cell_type": "markdown",
   "id": "7b693aa5-54b8-4203-9c76-d1b864236685",
   "metadata": {},
   "source": [
    "Training: tokanization, simple RNN, output: softmax\n",
    "\n",
    "First token: $ \\tilde{y} = 𝑃(𝑤_1) $ \n",
    "\n",
    "Second token: $ \\tilde{y} = 𝑃(𝑤_2|𝑤_1) $\n",
    "\n",
    "General: $ \\tilde{y} = 𝑃(𝑤_𝑘|𝑤_1, 𝑤_2, … , 𝑤_{𝑘−1}) $"
   ]
  },
  {
   "cell_type": "code",
   "execution_count": 25,
   "id": "78427bff-b3a0-49df-8e1e-e4a381018082",
   "metadata": {},
   "outputs": [],
   "source": [
    "# encoder that makes calssification\n",
    "model_class = Sequential([\n",
    "    Input((6, 20)), \n",
    "    SimpleRNN(128, return_sequences = True),\n",
    "    SimpleRNN(64, return_sequences = True),\n",
    "    SimpleRNN(64, return_sequences = True),\n",
    "    SimpleRNN(20, return_sequences = True, activation = \"softmax\"),\n",
    "])"
   ]
  },
  {
   "cell_type": "code",
   "execution_count": 26,
   "id": "56c61ac4-0f56-4d66-8c87-e150d81f0bdf",
   "metadata": {},
   "outputs": [
    {
     "name": "stdout",
     "output_type": "stream",
     "text": [
      "Model: \"sequential_10\"\n",
      "_________________________________________________________________\n",
      " Layer (type)                Output Shape              Param #   \n",
      "=================================================================\n",
      " simple_rnn_26 (SimpleRNN)   (None, 6, 128)            19072     \n",
      "                                                                 \n",
      " simple_rnn_27 (SimpleRNN)   (None, 6, 64)             12352     \n",
      "                                                                 \n",
      " simple_rnn_28 (SimpleRNN)   (None, 6, 64)             8256      \n",
      "                                                                 \n",
      " simple_rnn_29 (SimpleRNN)   (None, 6, 20)             1700      \n",
      "                                                                 \n",
      "=================================================================\n",
      "Total params: 41380 (161.64 KB)\n",
      "Trainable params: 41380 (161.64 KB)\n",
      "Non-trainable params: 0 (0.00 Byte)\n",
      "_________________________________________________________________\n"
     ]
    }
   ],
   "source": [
    "model_class.summary()"
   ]
  },
  {
   "cell_type": "markdown",
   "id": "94c393ab-bc77-41ae-8abf-99fe1b757301",
   "metadata": {},
   "source": [
    "The model calculates probabilities (which is the most probable next token).\n",
    "\n",
    "Generation: random sampling according to computed 𝑃.\n",
    "Input $ 𝑥^{<0>} = 0, 𝑎^{<0>} = 0 $; compute $ 𝑎^{<1>} $, $ \\tilde{y}^{<1>} $; choose a word $ 𝑤_1 $ ==> \n",
    "Input $ 𝑥^{<1>} ≡ 𝑤_1, 𝑎^{<1>} $; compute $ 𝑎^{<2>}, \\tilde{y}^{<2>} $; choose a word $ 𝑤_2 $ ==> \n",
    "… until you reach [.]"
   ]
  },
  {
   "cell_type": "markdown",
   "id": "c3ee02ef-c8e6-4d98-a00f-ce234f394791",
   "metadata": {},
   "source": [
    "__Vanishing gradients at backpropagation__"
   ]
  },
  {
   "cell_type": "markdown",
   "id": "19fc6d94-915f-486c-8fb9-1438e8dbca78",
   "metadata": {},
   "source": [
    "Gated recurrent unit (GRU)\n",
    "\n",
    "Long-Short Term Memory (LSTM)\n",
    "\n",
    "Bi-Directional Networks"
   ]
  },
  {
   "cell_type": "code",
   "execution_count": 36,
   "id": "1694acd5-7c4f-4e69-b443-8a32ec451567",
   "metadata": {},
   "outputs": [],
   "source": [
    "model_class = Sequential([\n",
    "    Input((6, 20)), \n",
    "    SimpleRNN(15),\n",
    "])"
   ]
  },
  {
   "cell_type": "code",
   "execution_count": 37,
   "id": "fa34e8aa-67dc-4806-b7d7-8c4a7f8744e1",
   "metadata": {},
   "outputs": [
    {
     "name": "stdout",
     "output_type": "stream",
     "text": [
      "Model: \"sequential_15\"\n",
      "_________________________________________________________________\n",
      " Layer (type)                Output Shape              Param #   \n",
      "=================================================================\n",
      " simple_rnn_34 (SimpleRNN)   (None, 15)                540       \n",
      "                                                                 \n",
      "=================================================================\n",
      "Total params: 540 (2.11 KB)\n",
      "Trainable params: 540 (2.11 KB)\n",
      "Non-trainable params: 0 (0.00 Byte)\n",
      "_________________________________________________________________\n"
     ]
    }
   ],
   "source": [
    "model_class.summary()"
   ]
  },
  {
   "cell_type": "code",
   "execution_count": 38,
   "id": "b9ceee88-009c-466d-8383-11d3512f7df7",
   "metadata": {},
   "outputs": [],
   "source": [
    "model_bi = Sequential([\n",
    "    Input((6, 20)), \n",
    "    Bidirectional(SimpleRNN(15))\n",
    "])"
   ]
  },
  {
   "cell_type": "code",
   "execution_count": 39,
   "id": "3223a80d-95f2-4d3c-8ff3-2bd6a10d9a8b",
   "metadata": {},
   "outputs": [
    {
     "name": "stdout",
     "output_type": "stream",
     "text": [
      "Model: \"sequential_16\"\n",
      "_________________________________________________________________\n",
      " Layer (type)                Output Shape              Param #   \n",
      "=================================================================\n",
      " bidirectional (Bidirection  (None, 30)                1080      \n",
      " al)                                                             \n",
      "                                                                 \n",
      "=================================================================\n",
      "Total params: 1080 (4.22 KB)\n",
      "Trainable params: 1080 (4.22 KB)\n",
      "Non-trainable params: 0 (0.00 Byte)\n",
      "_________________________________________________________________\n"
     ]
    }
   ],
   "source": [
    "model_bi.summary()"
   ]
  },
  {
   "cell_type": "markdown",
   "id": "cbe1cefd-22ee-40c6-a634-6c411ffc8bae",
   "metadata": {},
   "source": [
    "There are twice more inputs and parameters."
   ]
  },
  {
   "cell_type": "code",
   "execution_count": 41,
   "id": "72f08cf4-2866-4ba3-b134-37faf4157b60",
   "metadata": {},
   "outputs": [],
   "source": [
    "model_bi_sum = Sequential([\n",
    "    Input((6, 20)), \n",
    "    Bidirectional(SimpleRNN(15), merge_mode = \"sum\")\n",
    "])"
   ]
  },
  {
   "cell_type": "code",
   "execution_count": 42,
   "id": "9bbd6a15-1235-4c04-9c04-ff13b67235eb",
   "metadata": {},
   "outputs": [
    {
     "name": "stdout",
     "output_type": "stream",
     "text": [
      "Model: \"sequential_17\"\n",
      "_________________________________________________________________\n",
      " Layer (type)                Output Shape              Param #   \n",
      "=================================================================\n",
      " bidirectional_1 (Bidirecti  (None, 15)                1080      \n",
      " onal)                                                           \n",
      "                                                                 \n",
      "=================================================================\n",
      "Total params: 1080 (4.22 KB)\n",
      "Trainable params: 1080 (4.22 KB)\n",
      "Non-trainable params: 0 (0.00 Byte)\n",
      "_________________________________________________________________\n"
     ]
    }
   ],
   "source": [
    "model_bi_sum.summary()"
   ]
  },
  {
   "cell_type": "markdown",
   "id": "dfd4e8fa-6440-4ab1-920b-97ee92bb99b7",
   "metadata": {},
   "source": [
    "The number of parameters remain twice more, although inputs are 15. There are also two separate models.\n",
    "\n",
    "*Not applicable for forecasting."
   ]
  },
  {
   "cell_type": "markdown",
   "id": "e984da28-120e-4fe6-b89e-83ffc06fcdaf",
   "metadata": {},
   "source": [
    "## __Representing tokens__"
   ]
  },
  {
   "cell_type": "code",
   "execution_count": 43,
   "id": "39f11b18-1a57-46da-a579-6ca850bc140b",
   "metadata": {},
   "outputs": [],
   "source": [
    "model_tokens = Sequential([\n",
    "    Input((500, 20_000)),  # 500 tokens, vocabulary of 20000 words\n",
    "    SimpleRNN(15),\n",
    "])"
   ]
  },
  {
   "cell_type": "code",
   "execution_count": 44,
   "id": "6a9e5cf1-35b9-43f2-b71a-7ef8d78db81a",
   "metadata": {},
   "outputs": [
    {
     "name": "stdout",
     "output_type": "stream",
     "text": [
      "Model: \"sequential_18\"\n",
      "_________________________________________________________________\n",
      " Layer (type)                Output Shape              Param #   \n",
      "=================================================================\n",
      " simple_rnn_37 (SimpleRNN)   (None, 15)                300240    \n",
      "                                                                 \n",
      "=================================================================\n",
      "Total params: 300240 (1.15 MB)\n",
      "Trainable params: 300240 (1.15 MB)\n",
      "Non-trainable params: 0 (0.00 Byte)\n",
      "_________________________________________________________________\n"
     ]
    }
   ],
   "source": [
    "model_tokens.summary()"
   ]
  },
  {
   "cell_type": "markdown",
   "id": "956e3879-6ad9-4df5-85fe-62503e83dade",
   "metadata": {},
   "source": [
    "Only 1 layer but 300 000 parameters."
   ]
  },
  {
   "cell_type": "code",
   "execution_count": 47,
   "id": "c90e7eaa-692b-4f0f-816f-ddad986de776",
   "metadata": {},
   "outputs": [],
   "source": [
    "# vectorizing the input by Dense\n",
    "\n",
    "model_dense = Sequential([\n",
    "    Input((500, 20_000)),  # 500 tokens, vocabulary of 20000 words\n",
    "    Dense(128, use_bias = False),\n",
    "    SimpleRNN(15),\n",
    "])"
   ]
  },
  {
   "cell_type": "code",
   "execution_count": 48,
   "id": "e679e5bc-e0dd-4222-8618-4fac2e6fe0ac",
   "metadata": {},
   "outputs": [
    {
     "name": "stdout",
     "output_type": "stream",
     "text": [
      "Model: \"sequential_19\"\n",
      "_________________________________________________________________\n",
      " Layer (type)                Output Shape              Param #   \n",
      "=================================================================\n",
      " dense (Dense)               (None, 500, 128)          2560000   \n",
      "                                                                 \n",
      " simple_rnn_38 (SimpleRNN)   (None, 15)                2160      \n",
      "                                                                 \n",
      "=================================================================\n",
      "Total params: 2562160 (9.77 MB)\n",
      "Trainable params: 2562160 (9.77 MB)\n",
      "Non-trainable params: 0 (0.00 Byte)\n",
      "_________________________________________________________________\n"
     ]
    }
   ],
   "source": [
    "model_dense.summary()"
   ]
  },
  {
   "cell_type": "markdown",
   "id": "f1f4d187-1c00-494d-978f-5d43a381242a",
   "metadata": {},
   "source": [
    "The paramenters in the __Dense__ layer are much more, but thus, the SimpleRNN layer will get only 128 parameters.\n",
    "\n",
    "However, this could be done by using __Embedding__."
   ]
  },
  {
   "cell_type": "code",
   "execution_count": 53,
   "id": "bd3a77f0-f2f6-4cc6-b122-b76e20fae293",
   "metadata": {},
   "outputs": [],
   "source": [
    "model_embedding = Sequential([\n",
    "    Input((20_000),), # every token is received separately\n",
    "    Embedding(20000, 128),\n",
    "    SimpleRNN(15),\n",
    "])"
   ]
  },
  {
   "cell_type": "code",
   "execution_count": 54,
   "id": "d309e1d4-c8a5-4cd7-a8d9-c09d63dd099f",
   "metadata": {},
   "outputs": [
    {
     "name": "stdout",
     "output_type": "stream",
     "text": [
      "Model: \"sequential_21\"\n",
      "_________________________________________________________________\n",
      " Layer (type)                Output Shape              Param #   \n",
      "=================================================================\n",
      " embedding_1 (Embedding)     (None, 20000, 128)        2560000   \n",
      "                                                                 \n",
      " simple_rnn_40 (SimpleRNN)   (None, 15)                2160      \n",
      "                                                                 \n",
      "=================================================================\n",
      "Total params: 2562160 (9.77 MB)\n",
      "Trainable params: 2562160 (9.77 MB)\n",
      "Non-trainable params: 0 (0.00 Byte)\n",
      "_________________________________________________________________\n"
     ]
    }
   ],
   "source": [
    "model_embedding.summary()"
   ]
  },
  {
   "cell_type": "markdown",
   "id": "1d20cbcc-07a1-4679-b6d1-1e4c3ee0c956",
   "metadata": {},
   "source": [
    "Embedding makes dimensionality reduction. Embedding from a space with one dimension per word to a lower-dimensional space.\n",
    "\n",
    "Word2Vec and GloVe"
   ]
  },
  {
   "cell_type": "markdown",
   "id": "7b5e3f86-43ae-4410-b216-219539960585",
   "metadata": {},
   "source": [
    "## __Refinement Algorithms__"
   ]
  },
  {
   "cell_type": "markdown",
   "id": "16119935-5346-4071-855b-2b1cfe6f5a3e",
   "metadata": {},
   "source": [
    "_Beam search_\n",
    "\n",
    "Similar to generation:  $ \\tilde{y} = 𝑓(𝑥) $, maximize $ 𝑃(\\tilde{y}|𝑥) $\n",
    "\n",
    "_Multinomial sampling_\n",
    "\n",
    "Multinomial sampling is often used in tasks like classification or sequence generation, where the model predicts a probability distribution over k classes or outcomes. A sample is drawn from this distribution (e.g., using a softmax output) to select an outcome, commonly applied in reinforcement learning, generative models, or stochastic training strategies."
   ]
  },
  {
   "cell_type": "markdown",
   "id": "ee0a705a-47f7-4fb6-8e08-6b12ed634f41",
   "metadata": {},
   "source": [
    "__Attention__\n",
    "\n",
    "Attention deals with complicated input. The longer sentences have inherently lower probabilities so models tend to favor short sentences.\n",
    "There is no need to know the entire sequence in order to translate it.\n",
    "\n",
    "It is like a convolution filter.\n",
    "\n",
    "Attention is used in translation, image captioning, speech recognition, text summarization, etc.\n",
    "\n",
    "Dot product attention:\n",
    "\n",
    "$ A(Q, K, V) = \\text{softmax}\\left(\\frac{QK^T}{\\sqrt{d_k}}\\right)V $\n",
    "\n",
    "where $ d_k $​ is the dimension of q and k.\n",
    "\n",
    "Outputs have variance = 1"
   ]
  },
  {
   "cell_type": "code",
   "execution_count": 60,
   "id": "bf1099e2-f930-4d21-8f2c-a2d7e6cdabc3",
   "metadata": {},
   "outputs": [],
   "source": [
    "attention = Attention()\n",
    "\n",
    "# q = Embedding()(...)\n",
    "# v = Embedding()(...)\n",
    "\n",
    "# q_v = attention(q, v)"
   ]
  },
  {
   "cell_type": "markdown",
   "id": "e6595cd9-ffa6-42be-9039-1ded1bdf7325",
   "metadata": {},
   "source": [
    "_Transformers_\n",
    "\n",
    "Universal transofrmer: BERT It is bidirectional i.e. it works with whole sentences.\n",
    "\n",
    "Encoder BERT => Decoder GPT (Generative Pre-trained Transformer)"
   ]
  },
  {
   "cell_type": "code",
   "execution_count": null,
   "id": "918598cb-b061-4b9a-a698-1b2bec8c66f7",
   "metadata": {},
   "outputs": [],
   "source": []
  }
 ],
 "metadata": {
  "kernelspec": {
   "display_name": "Python 3 (ipykernel)",
   "language": "python",
   "name": "python3"
  },
  "language_info": {
   "codemirror_mode": {
    "name": "ipython",
    "version": 3
   },
   "file_extension": ".py",
   "mimetype": "text/x-python",
   "name": "python",
   "nbconvert_exporter": "python",
   "pygments_lexer": "ipython3",
   "version": "3.11.7"
  }
 },
 "nbformat": 4,
 "nbformat_minor": 5
}
