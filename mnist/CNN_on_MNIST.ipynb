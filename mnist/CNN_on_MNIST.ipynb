{
 "cells": [
  {
   "cell_type": "code",
   "execution_count": 1,
   "id": "8f030479-6912-4326-9417-078c38adf334",
   "metadata": {},
   "outputs": [],
   "source": [
    "%matplotlib inline"
   ]
  },
  {
   "cell_type": "code",
   "execution_count": 46,
   "id": "e95430a1-b1c4-4e8f-8e05-471adc17bcea",
   "metadata": {},
   "outputs": [],
   "source": [
    "import torch\n",
    "import torch.nn as nn\n",
    "import torch.nn.functional as F\n",
    "\n",
    "from torch.utils.data import DataLoader\n",
    "from torchvision import datasets, transforms\n",
    "from torchvision.utils import make_grid\n",
    "\n",
    "import numpy as np\n",
    "import pandas as pd\n",
    "\n",
    "from sklearn.metrics import confusion_matrix\n",
    "import matplotlib.pyplot as plt\n",
    "\n",
    "import time"
   ]
  },
  {
   "cell_type": "markdown",
   "id": "bc3f0194-f8ef-4464-be0d-ef78ca5af125",
   "metadata": {},
   "source": [
    "# __CNN on MNIST__"
   ]
  },
  {
   "cell_type": "markdown",
   "id": "ed0c71ec-d3ca-45d8-910e-86c27bb659b8",
   "metadata": {},
   "source": [
    "__Dataset__"
   ]
  },
  {
   "cell_type": "code",
   "execution_count": 7,
   "id": "b600de15-2026-438a-af83-0cb970eaee47",
   "metadata": {},
   "outputs": [],
   "source": [
    "transform = transforms.ToTensor()\n",
    "\n",
    "train_data = datasets.MNIST(root = '../Data', train = True, download = True, transform = transform)\n",
    "test_data = datasets.MNIST(root = '../Data', train = False, download = True, transform = transform)"
   ]
  },
  {
   "cell_type": "code",
   "execution_count": 8,
   "id": "f6fabc0d-3bac-4cee-ac34-5f11695ec97c",
   "metadata": {},
   "outputs": [],
   "source": [
    "train_loader = DataLoader(train_data, batch_size = 10, shuffle = True)\n",
    "test_loader = DataLoader(test_data, batch_size = 10, shuffle = False)"
   ]
  },
  {
   "cell_type": "code",
   "execution_count": 17,
   "id": "e85f89c6-ca32-422b-ac12-7148811809bb",
   "metadata": {},
   "outputs": [
    {
     "data": {
      "text/plain": [
       "(Dataset MNIST\n",
       "     Number of datapoints: 60000\n",
       "     Root location: ../Data\n",
       "     Split: Train\n",
       "     StandardTransform\n",
       " Transform: ToTensor(),\n",
       " Dataset MNIST\n",
       "     Number of datapoints: 10000\n",
       "     Root location: ../Data\n",
       "     Split: Test\n",
       "     StandardTransform\n",
       " Transform: ToTensor())"
      ]
     },
     "execution_count": 17,
     "metadata": {},
     "output_type": "execute_result"
    }
   ],
   "source": [
    "train_data, test_data"
   ]
  },
  {
   "cell_type": "markdown",
   "id": "0ef80996-236c-4c47-a816-faae1e08e33a",
   "metadata": {},
   "source": [
    "## __Layers__"
   ]
  },
  {
   "cell_type": "code",
   "execution_count": 18,
   "id": "e17ad13c-49c5-4122-a63b-d82dcda573b7",
   "metadata": {},
   "outputs": [],
   "source": [
    "conv1 = nn.Conv2d(1, 6, 3, 1) # color channel, number of filters (output channels), filter size (3 x 3), stride / step\n",
    "conv2 = nn.Conv2d(6, 16, 3, 1) # input filters from conv1, 16 output filters, 3x3 kernel, stride = 1"
   ]
  },
  {
   "cell_type": "code",
   "execution_count": 19,
   "id": "fc73e37b-3a86-48af-9116-da97ebc2e192",
   "metadata": {},
   "outputs": [],
   "source": [
    "for i, (X_train, y_train) in enumerate(train_data):\n",
    "    break"
   ]
  },
  {
   "cell_type": "code",
   "execution_count": 23,
   "id": "59a4d1c7-3207-4871-ace9-eb8b1fd04170",
   "metadata": {},
   "outputs": [
    {
     "data": {
      "text/plain": [
       "torch.Size([1, 28, 28])"
      ]
     },
     "execution_count": 23,
     "metadata": {},
     "output_type": "execute_result"
    }
   ],
   "source": [
    "X_train.shape # batch of 1 image"
   ]
  },
  {
   "cell_type": "code",
   "execution_count": 27,
   "id": "ceb629d0-df82-4f50-8101-a10f7c1d566c",
   "metadata": {},
   "outputs": [],
   "source": [
    "image_x = X_train.view(1, 1, 28, 28)"
   ]
  },
  {
   "cell_type": "code",
   "execution_count": 28,
   "id": "f1634d87-fc1a-4cc2-a420-1872f93fdfb3",
   "metadata": {},
   "outputs": [],
   "source": [
    "image_x = F.relu(conv1(image_x))"
   ]
  },
  {
   "cell_type": "code",
   "execution_count": 29,
   "id": "7f20ba22-d6b5-41d3-b7e2-bd0776df2617",
   "metadata": {},
   "outputs": [
    {
     "data": {
      "text/plain": [
       "torch.Size([1, 6, 26, 26])"
      ]
     },
     "execution_count": 29,
     "metadata": {},
     "output_type": "execute_result"
    }
   ],
   "source": [
    "image_x.shape"
   ]
  },
  {
   "cell_type": "code",
   "execution_count": 30,
   "id": "cf0aaa2a-6295-400c-9aa4-c4e2a81202c0",
   "metadata": {},
   "outputs": [],
   "source": [
    "image_x = F.max_pool2d(image_x, 2, 2) # ---> 2x2 kernel, stride= 2"
   ]
  },
  {
   "cell_type": "code",
   "execution_count": 31,
   "id": "ebcb9274-2632-4792-93ee-0e86617f6507",
   "metadata": {},
   "outputs": [
    {
     "data": {
      "text/plain": [
       "torch.Size([1, 6, 13, 13])"
      ]
     },
     "execution_count": 31,
     "metadata": {},
     "output_type": "execute_result"
    }
   ],
   "source": [
    "image_x.shape"
   ]
  },
  {
   "cell_type": "code",
   "execution_count": 32,
   "id": "b6e89a5f-46cc-47e6-97d2-51096fcef826",
   "metadata": {},
   "outputs": [],
   "source": [
    "image_x = F.relu(conv2(image_x))"
   ]
  },
  {
   "cell_type": "code",
   "execution_count": 33,
   "id": "66ef6bc5-6e18-48fc-bef9-2167da608b4f",
   "metadata": {},
   "outputs": [
    {
     "data": {
      "text/plain": [
       "torch.Size([1, 16, 11, 11])"
      ]
     },
     "execution_count": 33,
     "metadata": {},
     "output_type": "execute_result"
    }
   ],
   "source": [
    "image_x.shape"
   ]
  },
  {
   "cell_type": "code",
   "execution_count": 34,
   "id": "63f8d2fe-dd98-4c05-b698-1ebe67c73e3c",
   "metadata": {},
   "outputs": [],
   "source": [
    "image_x = F.max_pool2d(image_x, 2, 2)"
   ]
  },
  {
   "cell_type": "code",
   "execution_count": 36,
   "id": "8b957e99-d881-4dd6-86d0-48c06ed6f742",
   "metadata": {},
   "outputs": [
    {
     "data": {
      "text/plain": [
       "torch.Size([1, 16, 5, 5])"
      ]
     },
     "execution_count": 36,
     "metadata": {},
     "output_type": "execute_result"
    }
   ],
   "source": [
    "image_x.shape # 11 / 2 = 5.5 ----> rounding down hier"
   ]
  },
  {
   "cell_type": "code",
   "execution_count": 37,
   "id": "6be4991f-717e-47fe-b21b-d3becc4409a1",
   "metadata": {
    "scrolled": true
   },
   "outputs": [
    {
     "data": {
      "text/plain": [
       "tensor([[0.0000e+00, 7.5603e-02, 1.0693e-01, 7.7815e-02, 4.1972e-02, 0.0000e+00,\n",
       "         0.0000e+00, 0.0000e+00, 0.0000e+00, 0.0000e+00, 0.0000e+00, 0.0000e+00,\n",
       "         0.0000e+00, 5.3136e-02, 0.0000e+00, 0.0000e+00, 7.5892e-03, 1.8039e-02,\n",
       "         0.0000e+00, 0.0000e+00, 3.1725e-02, 6.5673e-02, 0.0000e+00, 0.0000e+00,\n",
       "         0.0000e+00, 8.3568e-02, 2.4940e-02, 7.4766e-02, 1.5545e-01, 2.9075e-01,\n",
       "         9.5699e-02, 1.0407e-01, 2.3933e-01, 3.6103e-01, 2.2226e-01, 1.1467e-01,\n",
       "         1.1425e-01, 1.2487e-01, 1.1507e-01, 2.2240e-01, 8.5807e-02, 9.5144e-02,\n",
       "         1.0336e-01, 3.8920e-01, 3.5808e-01, 4.7867e-02, 2.2624e-01, 3.3901e-01,\n",
       "         3.5645e-01, 1.9410e-01, 1.1219e-01, 1.9148e-01, 1.4904e-01, 1.4944e-01,\n",
       "         1.5022e-01, 1.5624e-01, 2.5718e-01, 3.4327e-01, 2.9932e-01, 3.0256e-01,\n",
       "         1.3180e-01, 1.6880e-01, 1.8904e-01, 1.6543e-01, 1.1106e-01, 1.1742e-01,\n",
       "         1.7413e-01, 3.0288e-01, 2.1066e-01, 1.6277e-01, 1.7328e-01, 1.3919e-01,\n",
       "         3.1047e-01, 3.3128e-01, 1.7361e-01, 1.7790e-02, 2.6613e-02, 1.3334e-01,\n",
       "         2.6834e-01, 3.2107e-01, 1.6964e-02, 1.5313e-01, 4.2673e-01, 3.6815e-01,\n",
       "         3.6708e-01, 1.7385e-02, 2.7212e-02, 1.2452e-01, 1.9916e-01, 2.2304e-01,\n",
       "         1.7385e-02, 1.7385e-02, 3.0640e-02, 2.5860e-01, 2.6600e-01, 0.0000e+00,\n",
       "         2.3245e-01, 3.2595e-01, 3.7181e-01, 1.4257e-01, 0.0000e+00, 0.0000e+00,\n",
       "         0.0000e+00, 5.8307e-03, 1.3761e-02, 0.0000e+00, 0.0000e+00, 0.0000e+00,\n",
       "         0.0000e+00, 0.0000e+00, 0.0000e+00, 0.0000e+00, 0.0000e+00, 1.2640e-01,\n",
       "         0.0000e+00, 0.0000e+00, 0.0000e+00, 0.0000e+00, 5.1118e-02, 6.3127e-02,\n",
       "         0.0000e+00, 0.0000e+00, 0.0000e+00, 0.0000e+00, 0.0000e+00, 1.2560e-01,\n",
       "         1.0185e-01, 1.1353e-01, 2.0323e-01, 2.9937e-01, 1.3001e-01, 1.7541e-01,\n",
       "         2.2847e-01, 3.6020e-01, 3.1687e-01, 1.3134e-01, 1.6365e-01, 3.6436e-01,\n",
       "         2.7590e-01, 2.1112e-01, 1.3134e-01, 1.3134e-01, 1.1791e-01, 3.3370e-01,\n",
       "         3.1465e-01, 1.1382e-01, 1.8299e-01, 2.5876e-01, 3.3482e-01, 3.4777e-01,\n",
       "         0.0000e+00, 0.0000e+00, 0.0000e+00, 0.0000e+00, 0.0000e+00, 0.0000e+00,\n",
       "         0.0000e+00, 5.1483e-02, 1.0029e-02, 1.3204e-01, 0.0000e+00, 0.0000e+00,\n",
       "         0.0000e+00, 0.0000e+00, 0.0000e+00, 0.0000e+00, 0.0000e+00, 0.0000e+00,\n",
       "         0.0000e+00, 4.5477e-02, 0.0000e+00, 0.0000e+00, 0.0000e+00, 1.1981e-03,\n",
       "         4.1773e-02, 0.0000e+00, 0.0000e+00, 0.0000e+00, 0.0000e+00, 0.0000e+00,\n",
       "         0.0000e+00, 0.0000e+00, 0.0000e+00, 0.0000e+00, 0.0000e+00, 0.0000e+00,\n",
       "         0.0000e+00, 0.0000e+00, 0.0000e+00, 0.0000e+00, 0.0000e+00, 0.0000e+00,\n",
       "         0.0000e+00, 0.0000e+00, 0.0000e+00, 0.0000e+00, 0.0000e+00, 0.0000e+00,\n",
       "         0.0000e+00, 0.0000e+00, 3.1029e-02, 0.0000e+00, 0.0000e+00, 0.0000e+00,\n",
       "         0.0000e+00, 1.4928e-01, 2.6477e-01, 2.3353e-01, 2.6021e-01, 1.5846e-01,\n",
       "         5.7411e-02, 2.6943e-01, 1.8161e-01, 1.4099e-01, 1.0723e-01, 2.9240e-02,\n",
       "         5.7109e-02, 1.5693e-01, 1.2712e-01, 1.2685e-01, 0.0000e+00, 0.0000e+00,\n",
       "         1.1733e-01, 2.1840e-01, 1.9005e-01, 6.3151e-02, 8.4704e-02, 7.7012e-02,\n",
       "         1.0236e-01, 8.4261e-02, 1.4414e-01, 2.4533e-01, 5.6623e-01, 3.3666e-01,\n",
       "         3.3736e-01, 8.7953e-02, 2.4934e-01, 2.8967e-01, 4.4306e-01, 2.3657e-01,\n",
       "         6.6224e-02, 8.2866e-02, 3.1719e-01, 2.8741e-01, 2.6098e-01, 5.9483e-02,\n",
       "         5.3858e-02, 1.0925e-01, 3.7094e-01, 3.1176e-01, 1.4330e-01, 6.8568e-02,\n",
       "         9.4789e-02, 7.6363e-02, 1.1987e-01, 1.9726e-01, 3.8425e-01, 1.9486e-01,\n",
       "         3.0316e-01, 2.1060e-01, 1.1655e-01, 3.2238e-01, 2.6902e-01, 1.1244e-01,\n",
       "         1.1642e-01, 6.4514e-02, 1.2528e-01, 2.7089e-01, 2.5251e-01, 1.4366e-01,\n",
       "         8.3820e-02, 1.1515e-01, 2.2012e-01, 2.1831e-01, 1.0226e-01, 0.0000e+00,\n",
       "         0.0000e+00, 0.0000e+00, 0.0000e+00, 0.0000e+00, 0.0000e+00, 0.0000e+00,\n",
       "         0.0000e+00, 6.8128e-05, 0.0000e+00, 0.0000e+00, 0.0000e+00, 0.0000e+00,\n",
       "         7.4166e-02, 0.0000e+00, 0.0000e+00, 0.0000e+00, 0.0000e+00, 0.0000e+00,\n",
       "         2.8621e-02, 0.0000e+00, 0.0000e+00, 0.0000e+00, 0.0000e+00, 5.1415e-02,\n",
       "         2.3308e-01, 3.1876e-01, 2.6973e-01, 2.6128e-01, 2.1395e-01, 9.6193e-02,\n",
       "         2.1777e-01, 6.4773e-02, 1.0120e-01, 0.0000e+00, 5.3030e-02, 7.9490e-02,\n",
       "         4.3240e-02, 2.2184e-01, 4.8039e-02, 6.0943e-02, 2.6578e-01, 2.5564e-01,\n",
       "         2.5808e-02, 1.2281e-01, 2.7214e-01, 2.7271e-01, 1.3640e-01, 0.0000e+00,\n",
       "         0.0000e+00, 5.4193e-02, 3.6061e-02, 9.6234e-02, 2.8503e-02, 4.1738e-02,\n",
       "         0.0000e+00, 0.0000e+00, 1.3005e-02, 0.0000e+00, 0.0000e+00, 2.2670e-03,\n",
       "         0.0000e+00, 5.9852e-02, 1.7138e-01, 1.1767e-01, 1.2893e-02, 5.4744e-02,\n",
       "         0.0000e+00, 6.2813e-02, 1.2173e-01, 2.4852e-02, 0.0000e+00, 0.0000e+00,\n",
       "         0.0000e+00, 0.0000e+00, 0.0000e+00, 0.0000e+00, 0.0000e+00, 0.0000e+00,\n",
       "         0.0000e+00, 0.0000e+00, 0.0000e+00, 0.0000e+00, 0.0000e+00, 0.0000e+00,\n",
       "         0.0000e+00, 0.0000e+00, 0.0000e+00, 0.0000e+00, 0.0000e+00, 0.0000e+00,\n",
       "         0.0000e+00, 0.0000e+00, 0.0000e+00, 0.0000e+00, 0.0000e+00, 0.0000e+00,\n",
       "         0.0000e+00, 0.0000e+00, 0.0000e+00, 2.2682e-01, 5.1737e-01, 5.1069e-01,\n",
       "         4.5572e-01, 4.0779e-01, 2.5219e-01, 4.2684e-01, 4.9668e-01, 2.7780e-01,\n",
       "         2.1212e-01, 1.9621e-01, 1.9667e-01, 3.6111e-01, 5.4528e-01, 3.8681e-01,\n",
       "         1.9621e-01, 3.1437e-01, 3.7226e-01, 5.2237e-01, 4.3072e-01, 4.3971e-01,\n",
       "         4.6931e-01, 4.4841e-01, 3.4064e-01, 1.7141e-01]],\n",
       "       grad_fn=<ViewBackward0>)"
      ]
     },
     "execution_count": 37,
     "metadata": {},
     "output_type": "execute_result"
    }
   ],
   "source": [
    "image_x.view(-1, 16*5*5)"
   ]
  },
  {
   "cell_type": "code",
   "execution_count": 38,
   "id": "71dddcf7-00d9-468d-8b58-f0d1424fd55c",
   "metadata": {},
   "outputs": [
    {
     "data": {
      "text/plain": [
       "torch.Size([1, 400])"
      ]
     },
     "execution_count": 38,
     "metadata": {},
     "output_type": "execute_result"
    }
   ],
   "source": [
    "image_x.view(-1, 16*5*5).shape"
   ]
  },
  {
   "cell_type": "markdown",
   "id": "981bb4fe-5c75-4079-9adf-77d99b780ab8",
   "metadata": {},
   "source": [
    "## __CNN model__"
   ]
  },
  {
   "cell_type": "code",
   "execution_count": 48,
   "id": "76588bb5-8d18-4d6c-a2f0-fe0d3f636c12",
   "metadata": {},
   "outputs": [],
   "source": [
    "class ConvolutionalNetwork(nn.Module):\n",
    "    def __init__(self):\n",
    "        super().__init__()\n",
    "        self.conv1 = nn.Conv2d(1, 6, 3, 1)\n",
    "        self.conv2 = nn.Conv2d(6, 16, 3, 1)\n",
    "        self.fc1 = nn.Linear(400, 120) # 16*5*5 = 400\n",
    "        self.fc2 = nn.Linear(120, 84)\n",
    "        self.fc3 = nn.Linear(84, 10)\n",
    "\n",
    "    def forward(self, image_x):\n",
    "        image_x = F.relu(self.conv1(image_x))\n",
    "        image_x = F.max_pool2d(image_x, 2, 2)\n",
    "        image_x = F.relu(self.conv2(image_x))\n",
    "        image_x = F.max_pool2d(image_x, 2, 2)\n",
    "        image_x = image_x.view(-1, 400) # flatten to enter the fully connected layer\n",
    "        image_x = F.relu(self.fc1(image_x))\n",
    "        image_x = F.relu(self.fc2(image_x))\n",
    "        image_x = self.fc3(image_x)\n",
    "        return F.log_softmax(image_x, dim = 1)"
   ]
  },
  {
   "cell_type": "code",
   "execution_count": 49,
   "id": "9cb64c88-a41a-44bf-a992-6fca8f707175",
   "metadata": {},
   "outputs": [
    {
     "data": {
      "text/plain": [
       "ConvolutionalNetwork(\n",
       "  (conv1): Conv2d(1, 6, kernel_size=(3, 3), stride=(1, 1))\n",
       "  (conv2): Conv2d(6, 16, kernel_size=(3, 3), stride=(1, 1))\n",
       "  (fc1): Linear(in_features=400, out_features=120, bias=True)\n",
       "  (fc2): Linear(in_features=120, out_features=84, bias=True)\n",
       "  (fc3): Linear(in_features=84, out_features=10, bias=True)\n",
       ")"
      ]
     },
     "execution_count": 49,
     "metadata": {},
     "output_type": "execute_result"
    }
   ],
   "source": [
    "torch.manual_seed(53)\n",
    "\n",
    "cnn_model = ConvolutionalNetwork()\n",
    "cnn_model"
   ]
  },
  {
   "cell_type": "code",
   "execution_count": 50,
   "id": "6ce38ca5-bdbf-4040-8295-97cc40848ba0",
   "metadata": {},
   "outputs": [
    {
     "name": "stdout",
     "output_type": "stream",
     "text": [
      "54\n",
      "6\n",
      "864\n",
      "16\n",
      "48000\n",
      "120\n",
      "10080\n",
      "84\n",
      "840\n",
      "10\n"
     ]
    }
   ],
   "source": [
    "for param in cnn_model.parameters():\n",
    "    print(param.numel())"
   ]
  },
  {
   "cell_type": "code",
   "execution_count": 51,
   "id": "a0e8c388-e706-488d-afd9-c33b075096b1",
   "metadata": {},
   "outputs": [],
   "source": [
    "criterion = nn.CrossEntropyLoss()\n",
    "optimizer = torch.optim.Adam(cnn_model.parameters(), lr = 0.001)"
   ]
  },
  {
   "cell_type": "markdown",
   "id": "56ce1433-cfad-44bb-8d69-2a5689a73fa2",
   "metadata": {},
   "source": [
    "## __Training__"
   ]
  },
  {
   "cell_type": "code",
   "execution_count": 52,
   "id": "f46ef8e9-2db5-4c54-b7ce-f5f8f82c4012",
   "metadata": {
    "scrolled": true
   },
   "outputs": [
    {
     "name": "stdout",
     "output_type": "stream",
     "text": [
      "Epoch: 0; batch: 100; loss: 1.222152; accuracy: 4.440\n",
      "Epoch: 0; batch: 200; loss: 0.621281; accuracy: 6.165\n",
      "Epoch: 0; batch: 300; loss: 0.503847; accuracy: 7.017\n",
      "Epoch: 0; batch: 400; loss: 0.585247; accuracy: 7.460\n",
      "Epoch: 0; batch: 500; loss: 0.382176; accuracy: 7.782\n",
      "Epoch: 0; batch: 600; loss: 0.123733; accuracy: 8.023\n",
      "Epoch: 0; batch: 700; loss: 0.272137; accuracy: 8.187\n",
      "Epoch: 0; batch: 800; loss: 0.418517; accuracy: 8.318\n",
      "Epoch: 0; batch: 900; loss: 0.083477; accuracy: 8.406\n",
      "Epoch: 0; batch: 1000; loss: 0.243989; accuracy: 8.495\n",
      "Epoch: 0; batch: 1100; loss: 0.015769; accuracy: 8.585\n",
      "Epoch: 0; batch: 1200; loss: 0.073449; accuracy: 8.650\n",
      "Epoch: 0; batch: 1300; loss: 0.178541; accuracy: 8.720\n",
      "Epoch: 0; batch: 1400; loss: 0.626904; accuracy: 8.769\n",
      "Epoch: 0; batch: 1500; loss: 0.026592; accuracy: 8.817\n",
      "Epoch: 0; batch: 1600; loss: 0.060796; accuracy: 8.848\n",
      "Epoch: 0; batch: 1700; loss: 0.061693; accuracy: 8.889\n",
      "Epoch: 0; batch: 1800; loss: 0.045581; accuracy: 8.922\n",
      "Epoch: 0; batch: 1900; loss: 0.670032; accuracy: 8.952\n",
      "Epoch: 0; batch: 2000; loss: 0.099417; accuracy: 8.986\n",
      "Epoch: 0; batch: 2100; loss: 0.060701; accuracy: 9.012\n",
      "Epoch: 0; batch: 2200; loss: 0.020314; accuracy: 9.037\n",
      "Epoch: 0; batch: 2300; loss: 0.068374; accuracy: 9.059\n",
      "Epoch: 0; batch: 2400; loss: 0.018106; accuracy: 9.080\n",
      "Epoch: 0; batch: 2500; loss: 0.005025; accuracy: 9.107\n",
      "Epoch: 0; batch: 2600; loss: 0.865770; accuracy: 9.128\n",
      "Epoch: 0; batch: 2700; loss: 0.007353; accuracy: 9.143\n",
      "Epoch: 0; batch: 2800; loss: 0.100908; accuracy: 9.162\n",
      "Epoch: 0; batch: 2900; loss: 0.011500; accuracy: 9.181\n",
      "Epoch: 0; batch: 3000; loss: 0.036311; accuracy: 9.195\n",
      "Epoch: 0; batch: 3100; loss: 0.194404; accuracy: 9.212\n",
      "Epoch: 0; batch: 3200; loss: 0.008317; accuracy: 9.226\n",
      "Epoch: 0; batch: 3300; loss: 0.032086; accuracy: 9.241\n",
      "Epoch: 0; batch: 3400; loss: 0.005681; accuracy: 9.253\n",
      "Epoch: 0; batch: 3500; loss: 0.003886; accuracy: 9.266\n",
      "Epoch: 0; batch: 3600; loss: 0.380456; accuracy: 9.276\n",
      "Epoch: 0; batch: 3700; loss: 0.046963; accuracy: 9.286\n",
      "Epoch: 0; batch: 3800; loss: 0.083591; accuracy: 9.297\n",
      "Epoch: 0; batch: 3900; loss: 0.395546; accuracy: 9.309\n",
      "Epoch: 0; batch: 4000; loss: 0.009066; accuracy: 9.320\n",
      "Epoch: 0; batch: 4100; loss: 0.827120; accuracy: 9.332\n",
      "Epoch: 0; batch: 4200; loss: 0.001268; accuracy: 9.341\n",
      "Epoch: 0; batch: 4300; loss: 0.067289; accuracy: 9.349\n",
      "Epoch: 0; batch: 4400; loss: 0.005422; accuracy: 9.357\n",
      "Epoch: 0; batch: 4500; loss: 0.056232; accuracy: 9.364\n",
      "Epoch: 0; batch: 4600; loss: 0.009740; accuracy: 9.369\n",
      "Epoch: 0; batch: 4700; loss: 0.008432; accuracy: 9.378\n",
      "Epoch: 0; batch: 4800; loss: 0.024478; accuracy: 9.386\n",
      "Epoch: 0; batch: 4900; loss: 0.022373; accuracy: 9.390\n",
      "Epoch: 0; batch: 5000; loss: 0.001813; accuracy: 9.398\n",
      "Epoch: 0; batch: 5100; loss: 0.001250; accuracy: 9.405\n",
      "Epoch: 0; batch: 5200; loss: 0.012440; accuracy: 9.411\n",
      "Epoch: 0; batch: 5300; loss: 0.006576; accuracy: 9.416\n",
      "Epoch: 0; batch: 5400; loss: 0.015985; accuracy: 9.421\n",
      "Epoch: 0; batch: 5500; loss: 0.004008; accuracy: 9.428\n",
      "Epoch: 0; batch: 5600; loss: 0.029398; accuracy: 9.435\n",
      "Epoch: 0; batch: 5700; loss: 0.003562; accuracy: 9.441\n",
      "Epoch: 0; batch: 5800; loss: 0.014891; accuracy: 9.448\n",
      "Epoch: 0; batch: 5900; loss: 0.000445; accuracy: 9.452\n",
      "Epoch: 0; batch: 6000; loss: 0.458121; accuracy: 9.457\n",
      "Epoch: 1; batch: 100; loss: 0.017037; accuracy: 9.800\n",
      "Epoch: 1; batch: 200; loss: 0.001689; accuracy: 9.840\n",
      "Epoch: 1; batch: 300; loss: 0.000200; accuracy: 9.833\n",
      "Epoch: 1; batch: 400; loss: 0.007147; accuracy: 9.812\n",
      "Epoch: 1; batch: 500; loss: 0.049806; accuracy: 9.820\n",
      "Epoch: 1; batch: 600; loss: 0.020864; accuracy: 9.820\n",
      "Epoch: 1; batch: 700; loss: 0.002711; accuracy: 9.811\n",
      "Epoch: 1; batch: 800; loss: 0.000489; accuracy: 9.810\n",
      "Epoch: 1; batch: 900; loss: 0.129532; accuracy: 9.810\n",
      "Epoch: 1; batch: 1000; loss: 0.060815; accuracy: 9.810\n",
      "Epoch: 1; batch: 1100; loss: 0.181224; accuracy: 9.802\n",
      "Epoch: 1; batch: 1200; loss: 0.007350; accuracy: 9.793\n",
      "Epoch: 1; batch: 1300; loss: 0.021938; accuracy: 9.798\n",
      "Epoch: 1; batch: 1400; loss: 0.079873; accuracy: 9.799\n",
      "Epoch: 1; batch: 1500; loss: 0.109548; accuracy: 9.787\n",
      "Epoch: 1; batch: 1600; loss: 0.011191; accuracy: 9.785\n",
      "Epoch: 1; batch: 1700; loss: 0.001379; accuracy: 9.784\n",
      "Epoch: 1; batch: 1800; loss: 0.006046; accuracy: 9.782\n",
      "Epoch: 1; batch: 1900; loss: 0.204773; accuracy: 9.782\n",
      "Epoch: 1; batch: 2000; loss: 0.016899; accuracy: 9.784\n",
      "Epoch: 1; batch: 2100; loss: 0.012543; accuracy: 9.787\n",
      "Epoch: 1; batch: 2200; loss: 0.009665; accuracy: 9.785\n",
      "Epoch: 1; batch: 2300; loss: 0.009910; accuracy: 9.786\n",
      "Epoch: 1; batch: 2400; loss: 0.007509; accuracy: 9.783\n",
      "Epoch: 1; batch: 2500; loss: 0.033109; accuracy: 9.784\n",
      "Epoch: 1; batch: 2600; loss: 0.001572; accuracy: 9.785\n",
      "Epoch: 1; batch: 2700; loss: 0.004672; accuracy: 9.789\n",
      "Epoch: 1; batch: 2800; loss: 0.076690; accuracy: 9.789\n",
      "Epoch: 1; batch: 2900; loss: 0.275548; accuracy: 9.789\n",
      "Epoch: 1; batch: 3000; loss: 0.157341; accuracy: 9.789\n",
      "Epoch: 1; batch: 3100; loss: 0.120058; accuracy: 9.792\n",
      "Epoch: 1; batch: 3200; loss: 0.049061; accuracy: 9.793\n",
      "Epoch: 1; batch: 3300; loss: 0.001721; accuracy: 9.792\n",
      "Epoch: 1; batch: 3400; loss: 0.142417; accuracy: 9.791\n",
      "Epoch: 1; batch: 3500; loss: 0.013803; accuracy: 9.794\n",
      "Epoch: 1; batch: 3600; loss: 0.019750; accuracy: 9.795\n",
      "Epoch: 1; batch: 3700; loss: 0.000264; accuracy: 9.796\n",
      "Epoch: 1; batch: 3800; loss: 0.000273; accuracy: 9.797\n",
      "Epoch: 1; batch: 3900; loss: 0.113850; accuracy: 9.798\n",
      "Epoch: 1; batch: 4000; loss: 0.100742; accuracy: 9.798\n",
      "Epoch: 1; batch: 4100; loss: 0.280687; accuracy: 9.796\n",
      "Epoch: 1; batch: 4200; loss: 0.001749; accuracy: 9.796\n",
      "Epoch: 1; batch: 4300; loss: 0.000041; accuracy: 9.798\n",
      "Epoch: 1; batch: 4400; loss: 0.002469; accuracy: 9.797\n",
      "Epoch: 1; batch: 4500; loss: 0.319481; accuracy: 9.798\n",
      "Epoch: 1; batch: 4600; loss: 0.021974; accuracy: 9.799\n",
      "Epoch: 1; batch: 4700; loss: 0.489620; accuracy: 9.799\n",
      "Epoch: 1; batch: 4800; loss: 0.004015; accuracy: 9.800\n",
      "Epoch: 1; batch: 4900; loss: 0.000187; accuracy: 9.801\n",
      "Epoch: 1; batch: 5000; loss: 0.000822; accuracy: 9.801\n",
      "Epoch: 1; batch: 5100; loss: 0.000461; accuracy: 9.802\n",
      "Epoch: 1; batch: 5200; loss: 0.001016; accuracy: 9.805\n",
      "Epoch: 1; batch: 5300; loss: 0.000182; accuracy: 9.807\n",
      "Epoch: 1; batch: 5400; loss: 0.070415; accuracy: 9.806\n",
      "Epoch: 1; batch: 5500; loss: 0.001989; accuracy: 9.805\n",
      "Epoch: 1; batch: 5600; loss: 0.072431; accuracy: 9.806\n",
      "Epoch: 1; batch: 5700; loss: 0.001988; accuracy: 9.807\n",
      "Epoch: 1; batch: 5800; loss: 0.005193; accuracy: 9.806\n",
      "Epoch: 1; batch: 5900; loss: 0.017280; accuracy: 9.807\n",
      "Epoch: 1; batch: 6000; loss: 0.187063; accuracy: 9.808\n",
      "Epoch: 2; batch: 100; loss: 0.023013; accuracy: 9.830\n",
      "Epoch: 2; batch: 200; loss: 0.000532; accuracy: 9.850\n",
      "Epoch: 2; batch: 300; loss: 0.144188; accuracy: 9.860\n",
      "Epoch: 2; batch: 400; loss: 0.007124; accuracy: 9.860\n",
      "Epoch: 2; batch: 500; loss: 0.065470; accuracy: 9.862\n",
      "Epoch: 2; batch: 600; loss: 0.000528; accuracy: 9.858\n",
      "Epoch: 2; batch: 700; loss: 0.007415; accuracy: 9.863\n",
      "Epoch: 2; batch: 800; loss: 0.008484; accuracy: 9.863\n",
      "Epoch: 2; batch: 900; loss: 0.001049; accuracy: 9.862\n",
      "Epoch: 2; batch: 1000; loss: 0.052349; accuracy: 9.859\n",
      "Epoch: 2; batch: 1100; loss: 0.005933; accuracy: 9.857\n",
      "Epoch: 2; batch: 1200; loss: 0.009089; accuracy: 9.855\n",
      "Epoch: 2; batch: 1300; loss: 0.012801; accuracy: 9.858\n",
      "Epoch: 2; batch: 1400; loss: 0.001449; accuracy: 9.855\n",
      "Epoch: 2; batch: 1500; loss: 0.000271; accuracy: 9.853\n",
      "Epoch: 2; batch: 1600; loss: 0.009455; accuracy: 9.851\n",
      "Epoch: 2; batch: 1700; loss: 0.010320; accuracy: 9.851\n",
      "Epoch: 2; batch: 1800; loss: 0.314926; accuracy: 9.847\n",
      "Epoch: 2; batch: 1900; loss: 0.057375; accuracy: 9.847\n",
      "Epoch: 2; batch: 2000; loss: 0.042727; accuracy: 9.847\n",
      "Epoch: 2; batch: 2100; loss: 0.291356; accuracy: 9.848\n",
      "Epoch: 2; batch: 2200; loss: 0.010663; accuracy: 9.848\n",
      "Epoch: 2; batch: 2300; loss: 0.059586; accuracy: 9.847\n",
      "Epoch: 2; batch: 2400; loss: 0.001889; accuracy: 9.850\n",
      "Epoch: 2; batch: 2500; loss: 0.000251; accuracy: 9.850\n",
      "Epoch: 2; batch: 2600; loss: 0.002152; accuracy: 9.849\n",
      "Epoch: 2; batch: 2700; loss: 0.033251; accuracy: 9.850\n",
      "Epoch: 2; batch: 2800; loss: 0.039782; accuracy: 9.850\n",
      "Epoch: 2; batch: 2900; loss: 0.047552; accuracy: 9.850\n",
      "Epoch: 2; batch: 3000; loss: 0.000198; accuracy: 9.851\n",
      "Epoch: 2; batch: 3100; loss: 0.003486; accuracy: 9.852\n",
      "Epoch: 2; batch: 3200; loss: 0.009494; accuracy: 9.852\n",
      "Epoch: 2; batch: 3300; loss: 0.017777; accuracy: 9.851\n",
      "Epoch: 2; batch: 3400; loss: 0.000239; accuracy: 9.850\n",
      "Epoch: 2; batch: 3500; loss: 0.003306; accuracy: 9.853\n",
      "Epoch: 2; batch: 3600; loss: 0.010056; accuracy: 9.853\n",
      "Epoch: 2; batch: 3700; loss: 0.000102; accuracy: 9.854\n",
      "Epoch: 2; batch: 3800; loss: 0.005310; accuracy: 9.853\n",
      "Epoch: 2; batch: 3900; loss: 0.013625; accuracy: 9.851\n",
      "Epoch: 2; batch: 4000; loss: 0.000715; accuracy: 9.852\n",
      "Epoch: 2; batch: 4100; loss: 0.430203; accuracy: 9.851\n",
      "Epoch: 2; batch: 4200; loss: 0.025870; accuracy: 9.851\n",
      "Epoch: 2; batch: 4300; loss: 0.115116; accuracy: 9.851\n",
      "Epoch: 2; batch: 4400; loss: 0.360480; accuracy: 9.850\n",
      "Epoch: 2; batch: 4500; loss: 0.062960; accuracy: 9.852\n",
      "Epoch: 2; batch: 4600; loss: 0.000073; accuracy: 9.851\n",
      "Epoch: 2; batch: 4700; loss: 0.012394; accuracy: 9.851\n",
      "Epoch: 2; batch: 4800; loss: 0.000128; accuracy: 9.852\n",
      "Epoch: 2; batch: 4900; loss: 0.000106; accuracy: 9.853\n",
      "Epoch: 2; batch: 5000; loss: 0.001112; accuracy: 9.854\n",
      "Epoch: 2; batch: 5100; loss: 0.005080; accuracy: 9.855\n",
      "Epoch: 2; batch: 5200; loss: 0.003078; accuracy: 9.855\n",
      "Epoch: 2; batch: 5300; loss: 0.001120; accuracy: 9.855\n",
      "Epoch: 2; batch: 5400; loss: 0.002956; accuracy: 9.856\n",
      "Epoch: 2; batch: 5500; loss: 0.224124; accuracy: 9.855\n",
      "Epoch: 2; batch: 5600; loss: 0.001998; accuracy: 9.854\n",
      "Epoch: 2; batch: 5700; loss: 0.019471; accuracy: 9.854\n",
      "Epoch: 2; batch: 5800; loss: 0.000261; accuracy: 9.854\n",
      "Epoch: 2; batch: 5900; loss: 0.000220; accuracy: 9.855\n",
      "Epoch: 2; batch: 6000; loss: 0.000563; accuracy: 9.857\n",
      "Epoch: 3; batch: 100; loss: 0.002129; accuracy: 9.890\n",
      "Epoch: 3; batch: 200; loss: 0.034051; accuracy: 9.875\n",
      "Epoch: 3; batch: 300; loss: 0.008651; accuracy: 9.887\n",
      "Epoch: 3; batch: 400; loss: 0.000897; accuracy: 9.895\n",
      "Epoch: 3; batch: 500; loss: 0.003416; accuracy: 9.892\n",
      "Epoch: 3; batch: 600; loss: 0.016744; accuracy: 9.895\n",
      "Epoch: 3; batch: 700; loss: 0.007119; accuracy: 9.889\n",
      "Epoch: 3; batch: 800; loss: 0.003493; accuracy: 9.898\n",
      "Epoch: 3; batch: 900; loss: 0.001062; accuracy: 9.894\n",
      "Epoch: 3; batch: 1000; loss: 0.001000; accuracy: 9.894\n",
      "Epoch: 3; batch: 1100; loss: 0.181912; accuracy: 9.887\n",
      "Epoch: 3; batch: 1200; loss: 0.472328; accuracy: 9.887\n",
      "Epoch: 3; batch: 1300; loss: 0.000056; accuracy: 9.888\n",
      "Epoch: 3; batch: 1400; loss: 0.000109; accuracy: 9.887\n",
      "Epoch: 3; batch: 1500; loss: 0.347753; accuracy: 9.893\n",
      "Epoch: 3; batch: 1600; loss: 0.000231; accuracy: 9.895\n",
      "Epoch: 3; batch: 1700; loss: 0.006833; accuracy: 9.896\n",
      "Epoch: 3; batch: 1800; loss: 0.000127; accuracy: 9.896\n",
      "Epoch: 3; batch: 1900; loss: 0.001518; accuracy: 9.892\n",
      "Epoch: 3; batch: 2000; loss: 0.000843; accuracy: 9.893\n",
      "Epoch: 3; batch: 2100; loss: 0.000036; accuracy: 9.895\n",
      "Epoch: 3; batch: 2200; loss: 0.000040; accuracy: 9.894\n",
      "Epoch: 3; batch: 2300; loss: 0.012569; accuracy: 9.893\n",
      "Epoch: 3; batch: 2400; loss: 0.000011; accuracy: 9.892\n",
      "Epoch: 3; batch: 2500; loss: 0.000189; accuracy: 9.892\n",
      "Epoch: 3; batch: 2600; loss: 0.140024; accuracy: 9.892\n",
      "Epoch: 3; batch: 2700; loss: 0.004169; accuracy: 9.892\n",
      "Epoch: 3; batch: 2800; loss: 0.000195; accuracy: 9.894\n",
      "Epoch: 3; batch: 2900; loss: 0.000227; accuracy: 9.893\n",
      "Epoch: 3; batch: 3000; loss: 0.002696; accuracy: 9.893\n",
      "Epoch: 3; batch: 3100; loss: 0.000197; accuracy: 9.895\n",
      "Epoch: 3; batch: 3200; loss: 0.001948; accuracy: 9.896\n",
      "Epoch: 3; batch: 3300; loss: 0.000126; accuracy: 9.898\n",
      "Epoch: 3; batch: 3400; loss: 0.000675; accuracy: 9.897\n",
      "Epoch: 3; batch: 3500; loss: 0.021404; accuracy: 9.897\n",
      "Epoch: 3; batch: 3600; loss: 0.069477; accuracy: 9.897\n",
      "Epoch: 3; batch: 3700; loss: 0.005353; accuracy: 9.897\n",
      "Epoch: 3; batch: 3800; loss: 0.001938; accuracy: 9.896\n",
      "Epoch: 3; batch: 3900; loss: 0.054830; accuracy: 9.896\n",
      "Epoch: 3; batch: 4000; loss: 0.004535; accuracy: 9.894\n",
      "Epoch: 3; batch: 4100; loss: 0.003140; accuracy: 9.893\n",
      "Epoch: 3; batch: 4200; loss: 0.002159; accuracy: 9.892\n",
      "Epoch: 3; batch: 4300; loss: 0.000099; accuracy: 9.891\n",
      "Epoch: 3; batch: 4400; loss: 0.000212; accuracy: 9.891\n",
      "Epoch: 3; batch: 4500; loss: 0.001142; accuracy: 9.892\n",
      "Epoch: 3; batch: 4600; loss: 0.000190; accuracy: 9.892\n",
      "Epoch: 3; batch: 4700; loss: 0.039302; accuracy: 9.893\n",
      "Epoch: 3; batch: 4800; loss: 0.001315; accuracy: 9.890\n",
      "Epoch: 3; batch: 4900; loss: 0.000527; accuracy: 9.890\n",
      "Epoch: 3; batch: 5000; loss: 0.042143; accuracy: 9.889\n",
      "Epoch: 3; batch: 5100; loss: 0.002227; accuracy: 9.889\n",
      "Epoch: 3; batch: 5200; loss: 0.001505; accuracy: 9.889\n",
      "Epoch: 3; batch: 5300; loss: 0.221166; accuracy: 9.888\n",
      "Epoch: 3; batch: 5400; loss: 0.003681; accuracy: 9.888\n",
      "Epoch: 3; batch: 5500; loss: 0.009924; accuracy: 9.887\n",
      "Epoch: 3; batch: 5600; loss: 0.116517; accuracy: 9.888\n",
      "Epoch: 3; batch: 5700; loss: 0.002771; accuracy: 9.888\n",
      "Epoch: 3; batch: 5800; loss: 0.000951; accuracy: 9.887\n",
      "Epoch: 3; batch: 5900; loss: 0.001141; accuracy: 9.887\n",
      "Epoch: 3; batch: 6000; loss: 0.002413; accuracy: 9.885\n",
      "Epoch: 4; batch: 100; loss: 0.003380; accuracy: 9.940\n",
      "Epoch: 4; batch: 200; loss: 0.000139; accuracy: 9.930\n",
      "Epoch: 4; batch: 300; loss: 0.031537; accuracy: 9.937\n",
      "Epoch: 4; batch: 400; loss: 0.000451; accuracy: 9.932\n",
      "Epoch: 4; batch: 500; loss: 0.000912; accuracy: 9.920\n",
      "Epoch: 4; batch: 600; loss: 0.000359; accuracy: 9.928\n",
      "Epoch: 4; batch: 700; loss: 0.249615; accuracy: 9.926\n",
      "Epoch: 4; batch: 800; loss: 0.000004; accuracy: 9.924\n",
      "Epoch: 4; batch: 900; loss: 0.020819; accuracy: 9.927\n",
      "Epoch: 4; batch: 1000; loss: 0.208408; accuracy: 9.919\n",
      "Epoch: 4; batch: 1100; loss: 0.000802; accuracy: 9.920\n",
      "Epoch: 4; batch: 1200; loss: 0.006310; accuracy: 9.921\n",
      "Epoch: 4; batch: 1300; loss: 0.099148; accuracy: 9.921\n",
      "Epoch: 4; batch: 1400; loss: 0.001504; accuracy: 9.919\n",
      "Epoch: 4; batch: 1500; loss: 0.000638; accuracy: 9.919\n",
      "Epoch: 4; batch: 1600; loss: 0.319261; accuracy: 9.920\n",
      "Epoch: 4; batch: 1700; loss: 0.003872; accuracy: 9.921\n",
      "Epoch: 4; batch: 1800; loss: 0.005952; accuracy: 9.922\n",
      "Epoch: 4; batch: 1900; loss: 0.000152; accuracy: 9.920\n",
      "Epoch: 4; batch: 2000; loss: 0.000548; accuracy: 9.919\n",
      "Epoch: 4; batch: 2100; loss: 0.000007; accuracy: 9.919\n",
      "Epoch: 4; batch: 2200; loss: 0.029800; accuracy: 9.919\n",
      "Epoch: 4; batch: 2300; loss: 0.000077; accuracy: 9.920\n",
      "Epoch: 4; batch: 2400; loss: 0.858181; accuracy: 9.919\n",
      "Epoch: 4; batch: 2500; loss: 0.008870; accuracy: 9.918\n",
      "Epoch: 4; batch: 2600; loss: 0.000864; accuracy: 9.915\n",
      "Epoch: 4; batch: 2700; loss: 0.100412; accuracy: 9.916\n",
      "Epoch: 4; batch: 2800; loss: 0.001591; accuracy: 9.915\n",
      "Epoch: 4; batch: 2900; loss: 0.000016; accuracy: 9.913\n",
      "Epoch: 4; batch: 3000; loss: 0.011546; accuracy: 9.913\n",
      "Epoch: 4; batch: 3100; loss: 0.000582; accuracy: 9.912\n",
      "Epoch: 4; batch: 3200; loss: 0.000240; accuracy: 9.910\n",
      "Epoch: 4; batch: 3300; loss: 0.000055; accuracy: 9.911\n",
      "Epoch: 4; batch: 3400; loss: 0.002274; accuracy: 9.910\n",
      "Epoch: 4; batch: 3500; loss: 0.000205; accuracy: 9.910\n",
      "Epoch: 4; batch: 3600; loss: 0.043387; accuracy: 9.910\n",
      "Epoch: 4; batch: 3700; loss: 0.000572; accuracy: 9.911\n",
      "Epoch: 4; batch: 3800; loss: 0.001446; accuracy: 9.911\n",
      "Epoch: 4; batch: 3900; loss: 0.000203; accuracy: 9.910\n",
      "Epoch: 4; batch: 4000; loss: 0.000075; accuracy: 9.911\n",
      "Epoch: 4; batch: 4100; loss: 0.001680; accuracy: 9.909\n",
      "Epoch: 4; batch: 4200; loss: 0.091614; accuracy: 9.909\n",
      "Epoch: 4; batch: 4300; loss: 0.013100; accuracy: 9.908\n",
      "Epoch: 4; batch: 4400; loss: 0.000167; accuracy: 9.908\n",
      "Epoch: 4; batch: 4500; loss: 0.001310; accuracy: 9.908\n",
      "Epoch: 4; batch: 4600; loss: 0.000169; accuracy: 9.908\n",
      "Epoch: 4; batch: 4700; loss: 0.000199; accuracy: 9.908\n",
      "Epoch: 4; batch: 4800; loss: 0.043402; accuracy: 9.908\n",
      "Epoch: 4; batch: 4900; loss: 0.020370; accuracy: 9.908\n",
      "Epoch: 4; batch: 5000; loss: 0.019123; accuracy: 9.908\n",
      "Epoch: 4; batch: 5100; loss: 0.037901; accuracy: 9.908\n",
      "Epoch: 4; batch: 5200; loss: 0.000109; accuracy: 9.908\n",
      "Epoch: 4; batch: 5300; loss: 0.069141; accuracy: 9.909\n",
      "Epoch: 4; batch: 5400; loss: 0.000595; accuracy: 9.909\n",
      "Epoch: 4; batch: 5500; loss: 0.001125; accuracy: 9.909\n",
      "Epoch: 4; batch: 5600; loss: 0.000396; accuracy: 9.911\n",
      "Epoch: 4; batch: 5700; loss: 0.000383; accuracy: 9.910\n",
      "Epoch: 4; batch: 5800; loss: 0.000322; accuracy: 9.909\n",
      "Epoch: 4; batch: 5900; loss: 0.000141; accuracy: 9.910\n",
      "Epoch: 4; batch: 6000; loss: 0.000430; accuracy: 9.910\n",
      "Epoch: 5; batch: 100; loss: 0.004151; accuracy: 9.940\n",
      "Epoch: 5; batch: 200; loss: 0.000035; accuracy: 9.960\n",
      "Epoch: 5; batch: 300; loss: 0.000446; accuracy: 9.940\n",
      "Epoch: 5; batch: 400; loss: 0.001745; accuracy: 9.945\n",
      "Epoch: 5; batch: 500; loss: 0.000100; accuracy: 9.942\n",
      "Epoch: 5; batch: 600; loss: 0.000035; accuracy: 9.930\n",
      "Epoch: 5; batch: 700; loss: 0.082970; accuracy: 9.927\n",
      "Epoch: 5; batch: 800; loss: 0.299240; accuracy: 9.926\n",
      "Epoch: 5; batch: 900; loss: 0.002876; accuracy: 9.929\n",
      "Epoch: 5; batch: 1000; loss: 0.000868; accuracy: 9.928\n",
      "Epoch: 5; batch: 1100; loss: 0.000298; accuracy: 9.929\n",
      "Epoch: 5; batch: 1200; loss: 0.001236; accuracy: 9.931\n",
      "Epoch: 5; batch: 1300; loss: 0.012298; accuracy: 9.932\n",
      "Epoch: 5; batch: 1400; loss: 0.060651; accuracy: 9.931\n",
      "Epoch: 5; batch: 1500; loss: 0.003438; accuracy: 9.928\n",
      "Epoch: 5; batch: 1600; loss: 0.089342; accuracy: 9.929\n",
      "Epoch: 5; batch: 1700; loss: 0.000202; accuracy: 9.929\n",
      "Epoch: 5; batch: 1800; loss: 0.000572; accuracy: 9.931\n",
      "Epoch: 5; batch: 1900; loss: 0.232927; accuracy: 9.929\n",
      "Epoch: 5; batch: 2000; loss: 0.001260; accuracy: 9.929\n",
      "Epoch: 5; batch: 2100; loss: 0.000117; accuracy: 9.929\n",
      "Epoch: 5; batch: 2200; loss: 0.011967; accuracy: 9.928\n",
      "Epoch: 5; batch: 2300; loss: 0.001260; accuracy: 9.927\n",
      "Epoch: 5; batch: 2400; loss: 0.000047; accuracy: 9.926\n",
      "Epoch: 5; batch: 2500; loss: 0.001588; accuracy: 9.927\n",
      "Epoch: 5; batch: 2600; loss: 0.000018; accuracy: 9.925\n",
      "Epoch: 5; batch: 2700; loss: 0.002591; accuracy: 9.925\n",
      "Epoch: 5; batch: 2800; loss: 0.000046; accuracy: 9.925\n",
      "Epoch: 5; batch: 2900; loss: 0.028366; accuracy: 9.926\n",
      "Epoch: 5; batch: 3000; loss: 0.008382; accuracy: 9.925\n",
      "Epoch: 5; batch: 3100; loss: 0.005274; accuracy: 9.925\n",
      "Epoch: 5; batch: 3200; loss: 0.000100; accuracy: 9.925\n",
      "Epoch: 5; batch: 3300; loss: 0.000740; accuracy: 9.925\n",
      "Epoch: 5; batch: 3400; loss: 0.002532; accuracy: 9.925\n",
      "Epoch: 5; batch: 3500; loss: 0.000088; accuracy: 9.926\n",
      "Epoch: 5; batch: 3600; loss: 0.006136; accuracy: 9.925\n",
      "Epoch: 5; batch: 3700; loss: 0.000045; accuracy: 9.925\n",
      "Epoch: 5; batch: 3800; loss: 0.000035; accuracy: 9.926\n",
      "Epoch: 5; batch: 3900; loss: 0.000071; accuracy: 9.926\n",
      "Epoch: 5; batch: 4000; loss: 0.000215; accuracy: 9.926\n",
      "Epoch: 5; batch: 4100; loss: 0.018189; accuracy: 9.926\n",
      "Epoch: 5; batch: 4200; loss: 0.000150; accuracy: 9.925\n",
      "Epoch: 5; batch: 4300; loss: 0.058866; accuracy: 9.926\n",
      "Epoch: 5; batch: 4400; loss: 0.013791; accuracy: 9.926\n",
      "Epoch: 5; batch: 4500; loss: 0.001090; accuracy: 9.926\n",
      "Epoch: 5; batch: 4600; loss: 0.001303; accuracy: 9.926\n",
      "Epoch: 5; batch: 4700; loss: 0.124570; accuracy: 9.925\n",
      "Epoch: 5; batch: 4800; loss: 0.000916; accuracy: 9.925\n",
      "Epoch: 5; batch: 4900; loss: 0.000097; accuracy: 9.924\n",
      "Epoch: 5; batch: 5000; loss: 0.001013; accuracy: 9.924\n",
      "Epoch: 5; batch: 5100; loss: 0.000014; accuracy: 9.925\n",
      "Epoch: 5; batch: 5200; loss: 0.099730; accuracy: 9.924\n",
      "Epoch: 5; batch: 5300; loss: 0.171090; accuracy: 9.922\n",
      "Epoch: 5; batch: 5400; loss: 0.003268; accuracy: 9.923\n",
      "Epoch: 5; batch: 5500; loss: 0.003161; accuracy: 9.924\n",
      "Epoch: 5; batch: 5600; loss: 0.000402; accuracy: 9.923\n",
      "Epoch: 5; batch: 5700; loss: 0.063148; accuracy: 9.923\n",
      "Epoch: 5; batch: 5800; loss: 0.000095; accuracy: 9.923\n",
      "Epoch: 5; batch: 5900; loss: 0.036870; accuracy: 9.923\n",
      "Epoch: 5; batch: 6000; loss: 0.039559; accuracy: 9.921\n",
      "Epoch: 6; batch: 100; loss: 0.011961; accuracy: 9.970\n",
      "Epoch: 6; batch: 200; loss: 0.002707; accuracy: 9.950\n",
      "Epoch: 6; batch: 300; loss: 0.000176; accuracy: 9.950\n",
      "Epoch: 6; batch: 400; loss: 0.301854; accuracy: 9.945\n",
      "Epoch: 6; batch: 500; loss: 0.000201; accuracy: 9.934\n",
      "Epoch: 6; batch: 600; loss: 0.000430; accuracy: 9.937\n",
      "Epoch: 6; batch: 700; loss: 0.000401; accuracy: 9.937\n",
      "Epoch: 6; batch: 800; loss: 0.002082; accuracy: 9.943\n",
      "Epoch: 6; batch: 900; loss: 0.002257; accuracy: 9.942\n",
      "Epoch: 6; batch: 1000; loss: 0.006280; accuracy: 9.942\n",
      "Epoch: 6; batch: 1100; loss: 0.007072; accuracy: 9.946\n",
      "Epoch: 6; batch: 1200; loss: 0.000025; accuracy: 9.943\n",
      "Epoch: 6; batch: 1300; loss: 0.000129; accuracy: 9.944\n",
      "Epoch: 6; batch: 1400; loss: 0.267920; accuracy: 9.944\n",
      "Epoch: 6; batch: 1500; loss: 0.000000; accuracy: 9.942\n",
      "Epoch: 6; batch: 1600; loss: 0.000014; accuracy: 9.939\n",
      "Epoch: 6; batch: 1700; loss: 0.004075; accuracy: 9.936\n",
      "Epoch: 6; batch: 1800; loss: 0.000002; accuracy: 9.938\n",
      "Epoch: 6; batch: 1900; loss: 0.000072; accuracy: 9.939\n",
      "Epoch: 6; batch: 2000; loss: 0.000012; accuracy: 9.940\n",
      "Epoch: 6; batch: 2100; loss: 0.000008; accuracy: 9.940\n",
      "Epoch: 6; batch: 2200; loss: 0.000039; accuracy: 9.939\n",
      "Epoch: 6; batch: 2300; loss: 0.009832; accuracy: 9.938\n",
      "Epoch: 6; batch: 2400; loss: 0.000191; accuracy: 9.936\n",
      "Epoch: 6; batch: 2500; loss: 0.000847; accuracy: 9.936\n",
      "Epoch: 6; batch: 2600; loss: 0.000580; accuracy: 9.935\n",
      "Epoch: 6; batch: 2700; loss: 0.023150; accuracy: 9.934\n",
      "Epoch: 6; batch: 2800; loss: 0.000684; accuracy: 9.934\n",
      "Epoch: 6; batch: 2900; loss: 0.005077; accuracy: 9.933\n",
      "Epoch: 6; batch: 3000; loss: 0.000037; accuracy: 9.934\n",
      "Epoch: 6; batch: 3100; loss: 0.000287; accuracy: 9.934\n",
      "Epoch: 6; batch: 3200; loss: 0.000011; accuracy: 9.934\n",
      "Epoch: 6; batch: 3300; loss: 0.000072; accuracy: 9.933\n",
      "Epoch: 6; batch: 3400; loss: 0.000003; accuracy: 9.934\n",
      "Epoch: 6; batch: 3500; loss: 0.000055; accuracy: 9.935\n",
      "Epoch: 6; batch: 3600; loss: 0.003684; accuracy: 9.933\n",
      "Epoch: 6; batch: 3700; loss: 0.259349; accuracy: 9.931\n",
      "Epoch: 6; batch: 3800; loss: 0.000131; accuracy: 9.931\n",
      "Epoch: 6; batch: 3900; loss: 0.000832; accuracy: 9.931\n",
      "Epoch: 6; batch: 4000; loss: 0.000172; accuracy: 9.931\n",
      "Epoch: 6; batch: 4100; loss: 0.000010; accuracy: 9.933\n",
      "Epoch: 6; batch: 4200; loss: 0.000145; accuracy: 9.934\n",
      "Epoch: 6; batch: 4300; loss: 0.000172; accuracy: 9.933\n",
      "Epoch: 6; batch: 4400; loss: 0.004714; accuracy: 9.933\n",
      "Epoch: 6; batch: 4500; loss: 0.000057; accuracy: 9.933\n",
      "Epoch: 6; batch: 4600; loss: 0.000070; accuracy: 9.933\n",
      "Epoch: 6; batch: 4700; loss: 0.000451; accuracy: 9.932\n",
      "Epoch: 6; batch: 4800; loss: 0.000078; accuracy: 9.931\n",
      "Epoch: 6; batch: 4900; loss: 0.000014; accuracy: 9.932\n",
      "Epoch: 6; batch: 5000; loss: 0.000165; accuracy: 9.932\n",
      "Epoch: 6; batch: 5100; loss: 0.000045; accuracy: 9.932\n",
      "Epoch: 6; batch: 5200; loss: 0.003504; accuracy: 9.933\n",
      "Epoch: 6; batch: 5300; loss: 0.003332; accuracy: 9.933\n",
      "Epoch: 6; batch: 5400; loss: 0.000376; accuracy: 9.933\n",
      "Epoch: 6; batch: 5500; loss: 0.001902; accuracy: 9.932\n",
      "Epoch: 6; batch: 5600; loss: 0.415707; accuracy: 9.932\n",
      "Epoch: 6; batch: 5700; loss: 0.001808; accuracy: 9.932\n",
      "Epoch: 6; batch: 5800; loss: 0.007077; accuracy: 9.932\n",
      "Epoch: 6; batch: 5900; loss: 0.002956; accuracy: 9.932\n",
      "Epoch: 6; batch: 6000; loss: 0.000295; accuracy: 9.931\n",
      "Epoch: 7; batch: 100; loss: 0.000416; accuracy: 9.940\n",
      "Epoch: 7; batch: 200; loss: 0.000052; accuracy: 9.925\n",
      "Epoch: 7; batch: 300; loss: 0.000045; accuracy: 9.927\n",
      "Epoch: 7; batch: 400; loss: 0.000023; accuracy: 9.945\n",
      "Epoch: 7; batch: 500; loss: 0.000046; accuracy: 9.954\n",
      "Epoch: 7; batch: 600; loss: 0.000042; accuracy: 9.957\n",
      "Epoch: 7; batch: 700; loss: 0.005159; accuracy: 9.956\n",
      "Epoch: 7; batch: 800; loss: 0.004306; accuracy: 9.957\n",
      "Epoch: 7; batch: 900; loss: 0.000038; accuracy: 9.957\n",
      "Epoch: 7; batch: 1000; loss: 0.001593; accuracy: 9.957\n",
      "Epoch: 7; batch: 1100; loss: 0.000030; accuracy: 9.956\n",
      "Epoch: 7; batch: 1200; loss: 0.002334; accuracy: 9.957\n",
      "Epoch: 7; batch: 1300; loss: 0.001823; accuracy: 9.958\n",
      "Epoch: 7; batch: 1400; loss: 0.000086; accuracy: 9.957\n",
      "Epoch: 7; batch: 1500; loss: 0.000432; accuracy: 9.957\n",
      "Epoch: 7; batch: 1600; loss: 0.000013; accuracy: 9.951\n",
      "Epoch: 7; batch: 1700; loss: 0.000202; accuracy: 9.946\n",
      "Epoch: 7; batch: 1800; loss: 0.001768; accuracy: 9.946\n",
      "Epoch: 7; batch: 1900; loss: 0.034101; accuracy: 9.945\n",
      "Epoch: 7; batch: 2000; loss: 0.000207; accuracy: 9.944\n",
      "Epoch: 7; batch: 2100; loss: 0.000497; accuracy: 9.944\n",
      "Epoch: 7; batch: 2200; loss: 0.000015; accuracy: 9.944\n",
      "Epoch: 7; batch: 2300; loss: 0.000006; accuracy: 9.946\n",
      "Epoch: 7; batch: 2400; loss: 0.000030; accuracy: 9.946\n",
      "Epoch: 7; batch: 2500; loss: 0.000014; accuracy: 9.946\n",
      "Epoch: 7; batch: 2600; loss: 0.000265; accuracy: 9.944\n",
      "Epoch: 7; batch: 2700; loss: 0.000762; accuracy: 9.943\n",
      "Epoch: 7; batch: 2800; loss: 0.114886; accuracy: 9.944\n",
      "Epoch: 7; batch: 2900; loss: 0.000062; accuracy: 9.943\n",
      "Epoch: 7; batch: 3000; loss: 0.000021; accuracy: 9.942\n",
      "Epoch: 7; batch: 3100; loss: 0.330793; accuracy: 9.942\n",
      "Epoch: 7; batch: 3200; loss: 0.013170; accuracy: 9.942\n",
      "Epoch: 7; batch: 3300; loss: 0.022351; accuracy: 9.943\n",
      "Epoch: 7; batch: 3400; loss: 0.000658; accuracy: 9.941\n",
      "Epoch: 7; batch: 3500; loss: 0.000097; accuracy: 9.941\n",
      "Epoch: 7; batch: 3600; loss: 0.000269; accuracy: 9.942\n",
      "Epoch: 7; batch: 3700; loss: 0.000015; accuracy: 9.942\n",
      "Epoch: 7; batch: 3800; loss: 0.000316; accuracy: 9.942\n",
      "Epoch: 7; batch: 3900; loss: 0.000149; accuracy: 9.943\n",
      "Epoch: 7; batch: 4000; loss: 0.000001; accuracy: 9.943\n",
      "Epoch: 7; batch: 4100; loss: 0.017958; accuracy: 9.944\n",
      "Epoch: 7; batch: 4200; loss: 0.012792; accuracy: 9.944\n",
      "Epoch: 7; batch: 4300; loss: 0.000763; accuracy: 9.944\n",
      "Epoch: 7; batch: 4400; loss: 0.000248; accuracy: 9.944\n",
      "Epoch: 7; batch: 4500; loss: 0.000103; accuracy: 9.944\n",
      "Epoch: 7; batch: 4600; loss: 0.000046; accuracy: 9.944\n",
      "Epoch: 7; batch: 4700; loss: 0.009264; accuracy: 9.944\n",
      "Epoch: 7; batch: 4800; loss: 0.000033; accuracy: 9.943\n",
      "Epoch: 7; batch: 4900; loss: 0.000262; accuracy: 9.942\n",
      "Epoch: 7; batch: 5000; loss: 0.000044; accuracy: 9.942\n",
      "Epoch: 7; batch: 5100; loss: 0.000287; accuracy: 9.942\n",
      "Epoch: 7; batch: 5200; loss: 0.000265; accuracy: 9.943\n",
      "Epoch: 7; batch: 5300; loss: 0.000050; accuracy: 9.942\n",
      "Epoch: 7; batch: 5400; loss: 0.008707; accuracy: 9.942\n",
      "Epoch: 7; batch: 5500; loss: 0.000033; accuracy: 9.942\n",
      "Epoch: 7; batch: 5600; loss: 0.000154; accuracy: 9.942\n",
      "Epoch: 7; batch: 5700; loss: 0.033995; accuracy: 9.943\n",
      "Epoch: 7; batch: 5800; loss: 0.002867; accuracy: 9.941\n",
      "Epoch: 7; batch: 5900; loss: 0.000073; accuracy: 9.942\n",
      "Epoch: 7; batch: 6000; loss: 0.001582; accuracy: 9.941\n",
      "Epoch: 8; batch: 100; loss: 0.000113; accuracy: 9.940\n",
      "Epoch: 8; batch: 200; loss: 0.001223; accuracy: 9.955\n",
      "Epoch: 8; batch: 300; loss: 0.021025; accuracy: 9.947\n",
      "Epoch: 8; batch: 400; loss: 0.000073; accuracy: 9.947\n",
      "Epoch: 8; batch: 500; loss: 0.000003; accuracy: 9.950\n",
      "Epoch: 8; batch: 600; loss: 0.014704; accuracy: 9.953\n",
      "Epoch: 8; batch: 700; loss: 0.000007; accuracy: 9.959\n",
      "Epoch: 8; batch: 800; loss: 0.000001; accuracy: 9.960\n",
      "Epoch: 8; batch: 900; loss: 0.000075; accuracy: 9.962\n",
      "Epoch: 8; batch: 1000; loss: 0.000283; accuracy: 9.958\n",
      "Epoch: 8; batch: 1100; loss: 0.000248; accuracy: 9.961\n",
      "Epoch: 8; batch: 1200; loss: 0.000095; accuracy: 9.960\n",
      "Epoch: 8; batch: 1300; loss: 0.000000; accuracy: 9.961\n",
      "Epoch: 8; batch: 1400; loss: 0.000003; accuracy: 9.962\n",
      "Epoch: 8; batch: 1500; loss: 0.000118; accuracy: 9.961\n",
      "Epoch: 8; batch: 1600; loss: 0.000563; accuracy: 9.962\n",
      "Epoch: 8; batch: 1700; loss: 0.000065; accuracy: 9.962\n",
      "Epoch: 8; batch: 1800; loss: 0.000164; accuracy: 9.962\n",
      "Epoch: 8; batch: 1900; loss: 0.000458; accuracy: 9.963\n",
      "Epoch: 8; batch: 2000; loss: 0.000249; accuracy: 9.962\n",
      "Epoch: 8; batch: 2100; loss: 0.041877; accuracy: 9.960\n",
      "Epoch: 8; batch: 2200; loss: 0.170872; accuracy: 9.959\n",
      "Epoch: 8; batch: 2300; loss: 0.019641; accuracy: 9.957\n",
      "Epoch: 8; batch: 2400; loss: 0.001755; accuracy: 9.957\n",
      "Epoch: 8; batch: 2500; loss: 0.000009; accuracy: 9.954\n",
      "Epoch: 8; batch: 2600; loss: 0.112045; accuracy: 9.953\n",
      "Epoch: 8; batch: 2700; loss: 0.000006; accuracy: 9.951\n",
      "Epoch: 8; batch: 2800; loss: 0.000065; accuracy: 9.950\n",
      "Epoch: 8; batch: 2900; loss: 0.000671; accuracy: 9.949\n",
      "Epoch: 8; batch: 3000; loss: 0.000375; accuracy: 9.948\n",
      "Epoch: 8; batch: 3100; loss: 0.000712; accuracy: 9.948\n",
      "Epoch: 8; batch: 3200; loss: 0.000049; accuracy: 9.949\n",
      "Epoch: 8; batch: 3300; loss: 0.000006; accuracy: 9.949\n",
      "Epoch: 8; batch: 3400; loss: 0.000042; accuracy: 9.949\n",
      "Epoch: 8; batch: 3500; loss: 0.000117; accuracy: 9.948\n",
      "Epoch: 8; batch: 3600; loss: 0.000020; accuracy: 9.947\n",
      "Epoch: 8; batch: 3700; loss: 0.002572; accuracy: 9.948\n",
      "Epoch: 8; batch: 3800; loss: 0.000052; accuracy: 9.948\n",
      "Epoch: 8; batch: 3900; loss: 0.008998; accuracy: 9.946\n",
      "Epoch: 8; batch: 4000; loss: 0.000132; accuracy: 9.947\n",
      "Epoch: 8; batch: 4100; loss: 0.000010; accuracy: 9.947\n",
      "Epoch: 8; batch: 4200; loss: 0.000014; accuracy: 9.947\n",
      "Epoch: 8; batch: 4300; loss: 0.000005; accuracy: 9.947\n",
      "Epoch: 8; batch: 4400; loss: 0.000004; accuracy: 9.946\n",
      "Epoch: 8; batch: 4500; loss: 0.000059; accuracy: 9.946\n",
      "Epoch: 8; batch: 4600; loss: 0.000173; accuracy: 9.946\n",
      "Epoch: 8; batch: 4700; loss: 0.001377; accuracy: 9.945\n",
      "Epoch: 8; batch: 4800; loss: 0.000045; accuracy: 9.945\n",
      "Epoch: 8; batch: 4900; loss: 0.000163; accuracy: 9.946\n",
      "Epoch: 8; batch: 5000; loss: 0.004980; accuracy: 9.945\n",
      "Epoch: 8; batch: 5100; loss: 0.000043; accuracy: 9.945\n",
      "Epoch: 8; batch: 5200; loss: 0.000013; accuracy: 9.945\n",
      "Epoch: 8; batch: 5300; loss: 0.000007; accuracy: 9.945\n",
      "Epoch: 8; batch: 5400; loss: 0.048984; accuracy: 9.944\n",
      "Epoch: 8; batch: 5500; loss: 0.000327; accuracy: 9.945\n",
      "Epoch: 8; batch: 5600; loss: 0.000327; accuracy: 9.945\n",
      "Epoch: 8; batch: 5700; loss: 0.048888; accuracy: 9.945\n",
      "Epoch: 8; batch: 5800; loss: 0.000010; accuracy: 9.945\n",
      "Epoch: 8; batch: 5900; loss: 0.000043; accuracy: 9.945\n",
      "Epoch: 8; batch: 6000; loss: 0.000008; accuracy: 9.945\n",
      "Epoch: 9; batch: 100; loss: 0.168018; accuracy: 9.980\n",
      "Epoch: 9; batch: 200; loss: 0.000041; accuracy: 9.965\n",
      "Epoch: 9; batch: 300; loss: 0.000014; accuracy: 9.953\n",
      "Epoch: 9; batch: 400; loss: 0.000191; accuracy: 9.947\n",
      "Epoch: 9; batch: 500; loss: 0.000901; accuracy: 9.946\n",
      "Epoch: 9; batch: 600; loss: 0.000093; accuracy: 9.952\n",
      "Epoch: 9; batch: 700; loss: 0.000041; accuracy: 9.950\n",
      "Epoch: 9; batch: 800; loss: 0.000011; accuracy: 9.951\n",
      "Epoch: 9; batch: 900; loss: 0.000495; accuracy: 9.954\n",
      "Epoch: 9; batch: 1000; loss: 0.000004; accuracy: 9.953\n",
      "Epoch: 9; batch: 1100; loss: 0.000046; accuracy: 9.952\n",
      "Epoch: 9; batch: 1200; loss: 0.023171; accuracy: 9.952\n",
      "Epoch: 9; batch: 1300; loss: 0.000805; accuracy: 9.954\n",
      "Epoch: 9; batch: 1400; loss: 0.000000; accuracy: 9.955\n",
      "Epoch: 9; batch: 1500; loss: 0.000000; accuracy: 9.955\n",
      "Epoch: 9; batch: 1600; loss: 0.000080; accuracy: 9.957\n",
      "Epoch: 9; batch: 1700; loss: 0.000395; accuracy: 9.958\n",
      "Epoch: 9; batch: 1800; loss: 0.000141; accuracy: 9.955\n",
      "Epoch: 9; batch: 1900; loss: 0.000004; accuracy: 9.954\n",
      "Epoch: 9; batch: 2000; loss: 0.017266; accuracy: 9.955\n",
      "Epoch: 9; batch: 2100; loss: 0.016584; accuracy: 9.955\n",
      "Epoch: 9; batch: 2200; loss: 0.000043; accuracy: 9.956\n",
      "Epoch: 9; batch: 2300; loss: 0.000318; accuracy: 9.957\n",
      "Epoch: 9; batch: 2400; loss: 0.000244; accuracy: 9.956\n",
      "Epoch: 9; batch: 2500; loss: 0.043241; accuracy: 9.955\n",
      "Epoch: 9; batch: 2600; loss: 0.004326; accuracy: 9.955\n",
      "Epoch: 9; batch: 2700; loss: 0.012383; accuracy: 9.955\n",
      "Epoch: 9; batch: 2800; loss: 0.000088; accuracy: 9.955\n",
      "Epoch: 9; batch: 2900; loss: 0.000441; accuracy: 9.957\n",
      "Epoch: 9; batch: 3000; loss: 0.000001; accuracy: 9.956\n",
      "Epoch: 9; batch: 3100; loss: 0.000158; accuracy: 9.956\n",
      "Epoch: 9; batch: 3200; loss: 0.000000; accuracy: 9.956\n",
      "Epoch: 9; batch: 3300; loss: 0.000000; accuracy: 9.957\n",
      "Epoch: 9; batch: 3400; loss: 0.000171; accuracy: 9.956\n",
      "Epoch: 9; batch: 3500; loss: 0.005221; accuracy: 9.956\n",
      "Epoch: 9; batch: 3600; loss: 0.000161; accuracy: 9.955\n",
      "Epoch: 9; batch: 3700; loss: 0.000005; accuracy: 9.956\n",
      "Epoch: 9; batch: 3800; loss: 0.000028; accuracy: 9.956\n",
      "Epoch: 9; batch: 3900; loss: 0.002631; accuracy: 9.956\n",
      "Epoch: 9; batch: 4000; loss: 0.000004; accuracy: 9.957\n",
      "Epoch: 9; batch: 4100; loss: 0.000063; accuracy: 9.957\n",
      "Epoch: 9; batch: 4200; loss: 0.000106; accuracy: 9.957\n",
      "Epoch: 9; batch: 4300; loss: 0.000956; accuracy: 9.957\n",
      "Epoch: 9; batch: 4400; loss: 0.001314; accuracy: 9.956\n",
      "Epoch: 9; batch: 4500; loss: 0.000004; accuracy: 9.955\n",
      "Epoch: 9; batch: 4600; loss: 0.010574; accuracy: 9.955\n",
      "Epoch: 9; batch: 4700; loss: 0.001135; accuracy: 9.955\n",
      "Epoch: 9; batch: 4800; loss: 0.526585; accuracy: 9.955\n",
      "Epoch: 9; batch: 4900; loss: 0.000047; accuracy: 9.955\n",
      "Epoch: 9; batch: 5000; loss: 0.000649; accuracy: 9.955\n",
      "Epoch: 9; batch: 5100; loss: 0.000013; accuracy: 9.953\n",
      "Epoch: 9; batch: 5200; loss: 0.001571; accuracy: 9.953\n",
      "Epoch: 9; batch: 5300; loss: 0.007894; accuracy: 9.953\n",
      "Epoch: 9; batch: 5400; loss: 0.000096; accuracy: 9.953\n",
      "Epoch: 9; batch: 5500; loss: 0.000151; accuracy: 9.953\n",
      "Epoch: 9; batch: 5600; loss: 0.000289; accuracy: 9.953\n",
      "Epoch: 9; batch: 5700; loss: 0.034115; accuracy: 9.952\n",
      "Epoch: 9; batch: 5800; loss: 0.000004; accuracy: 9.951\n",
      "Epoch: 9; batch: 5900; loss: 0.000017; accuracy: 9.951\n",
      "Epoch: 9; batch: 6000; loss: 0.000049; accuracy: 9.950\n",
      "Duration: 3.091 minutes\n"
     ]
    }
   ],
   "source": [
    "start_time = time.time()\n",
    "\n",
    "epochs = 10\n",
    "\n",
    "train_losses = []\n",
    "test_losses = []\n",
    "\n",
    "train_correct = []\n",
    "test_correct = []\n",
    "\n",
    "for i in range(epochs):\n",
    "    train_corr = 0\n",
    "    test_corr = 0\n",
    "\n",
    "    for b, (X_train, y_train) in enumerate(train_loader):\n",
    "        b += 1\n",
    "\n",
    "        y_pred = cnn_model(X_train)\n",
    "        loss = criterion(y_pred, y_train)\n",
    "\n",
    "        predicted = torch.max(y_pred.detach(), dim = 1)[1] # values: [0.1, 0.0,..., 0.8]; indices: [0, 1,..., 9] ----> 9\n",
    "        \n",
    "        batch_correct = (predicted == y_train).sum()\n",
    "        \n",
    "        train_corr += batch_correct\n",
    "\n",
    "        optimizer.zero_grad()\n",
    "        loss.backward()\n",
    "        optimizer.step()\n",
    "\n",
    "        if b % 100 == 0:\n",
    "            accuracy = train_corr.item() * 100 / (100 * b)\n",
    "            print(f\"Epoch: {i}; batch: {b}; loss: {loss.item():.6f}; accuracy: {accuracy:.3f}\")\n",
    "        \n",
    "    train_losses.append(loss)\n",
    "    train_correct.append(train_corr)\n",
    "\n",
    "    with torch.no_grad():\n",
    "        \n",
    "        for b, (X_test, y_test) in enumerate(test_loader):\n",
    "            y_val = cnn_model(X_test)\n",
    "            predicted = torch.max(y_val.detach(), 1)[1]\n",
    "            test_corr += (predicted == y_test).sum()\n",
    "\n",
    "    loss = criterion(y_val, y_test)\n",
    "    test_losses.append(loss)\n",
    "    test_correct.append(test_corr)\n",
    "\n",
    "\n",
    "total_time = time.time() - start_time\n",
    "print(f\"Duration: {total_time / 60:.3f} minutes\")"
   ]
  },
  {
   "cell_type": "markdown",
   "id": "c98bad8a-58d6-454d-84d8-b235dd959033",
   "metadata": {},
   "source": [
    "## __Evaluation__"
   ]
  },
  {
   "cell_type": "code",
   "execution_count": 53,
   "id": "e730475b-4ede-4bb3-8ff4-dc0b5cced1f9",
   "metadata": {},
   "outputs": [
    {
     "data": {
      "image/png": "[encoded data removed]",
      "text/plain": [
       "<Figure size 640x480 with 1 Axes>"
      ]
     },
     "metadata": {},
     "output_type": "display_data"
    }
   ],
   "source": [
    "plt.plot([trl.detach().numpy() for trl in train_losses], label = \"Training loss\")\n",
    "plt.plot([tsl.detach().numpy() for tsl in test_losses], label = \"Validating loss\")\n",
    "\n",
    "plt.legend()\n",
    "plt.show()"
   ]
  },
  {
   "cell_type": "code",
   "execution_count": 54,
   "id": "e8c75184-7ba5-4cdf-88c9-75eef445a05c",
   "metadata": {},
   "outputs": [],
   "source": [
    "train_accuracy = [t / 600 for t in train_correct]\n",
    "val_accuracy = [t / 100 for t in test_correct]"
   ]
  },
  {
   "cell_type": "code",
   "execution_count": 55,
   "id": "3f53c6ce-e2ce-4443-99eb-478949bd5803",
   "metadata": {},
   "outputs": [
    {
     "data": {
      "image/png": "[encoded data removed]",
      "text/plain": [
       "<Figure size 640x480 with 1 Axes>"
      ]
     },
     "metadata": {},
     "output_type": "display_data"
    }
   ],
   "source": [
    "plt.plot(train_accuracy, label = \"Training accuracy\")\n",
    "plt.plot(val_accuracy, label = \"Validating accuracy\")\n",
    "\n",
    "plt.legend()\n",
    "plt.show()"
   ]
  },
  {
   "cell_type": "markdown",
   "id": "f3413193-7584-43de-b321-87b931b5fe8f",
   "metadata": {},
   "source": [
    "## __Testing with new data__\n"
   ]
  },
  {
   "cell_type": "code",
   "execution_count": 56,
   "id": "1e7d7641-882b-4a41-9a0a-6cfa51396ac9",
   "metadata": {},
   "outputs": [],
   "source": [
    "all_data_test_load = DataLoader(test_data, batch_size = 10000, shuffle = False)"
   ]
  },
  {
   "cell_type": "code",
   "execution_count": 59,
   "id": "7b565951-2fc6-4f79-a270-bd905a564a11",
   "metadata": {},
   "outputs": [],
   "source": [
    "with torch.no_grad():\n",
    "    correct = 0\n",
    "    \n",
    "    for X_test, y_test in all_data_test_load:\n",
    "        y_testing = cnn_model(X_test)\n",
    "        predicted = torch.max(y_testing.detach(), 1)[1]\n",
    "        correct += (predicted == y_test).sum()\n"
   ]
  },
  {
   "cell_type": "code",
   "execution_count": 60,
   "id": "e323b7a2-3a9d-4b73-918c-0b637295f83d",
   "metadata": {},
   "outputs": [
    {
     "data": {
      "text/plain": [
       "98.28"
      ]
     },
     "execution_count": 60,
     "metadata": {},
     "output_type": "execute_result"
    }
   ],
   "source": [
    "# total accuracy on the test dataset\n",
    "\n",
    "correct.item() / len(test_data) * 100"
   ]
  },
  {
   "cell_type": "code",
   "execution_count": 61,
   "id": "85667301-f4b3-4875-9115-c4b93c712b2b",
   "metadata": {},
   "outputs": [
    {
     "data": {
      "text/plain": [
       "array([[ 976,    1,    1,    0,    0,    1,    5,    2,    2,    3],\n",
       "       [   0, 1119,    1,    0,    0,    0,    1,    3,    0,    0],\n",
       "       [   0,    1, 1021,    4,    0,    1,    0,   13,    1,    0],\n",
       "       [   0,    4,    0, 1000,    0,   10,    0,    1,    1,    0],\n",
       "       [   0,    1,    1,    0,  965,    0,    3,    3,    0,    5],\n",
       "       [   0,    1,    0,    1,    0,  872,    2,    0,    1,    5],\n",
       "       [   2,    3,    3,    0,    5,    2,  946,    0,    0,    0],\n",
       "       [   1,    0,    3,    0,    0,    1,    0, 1000,    0,    2],\n",
       "       [   1,    5,    2,    4,    3,    5,    1,    4,  969,   34],\n",
       "       [   0,    0,    0,    1,    9,    0,    0,    2,    0,  960]],\n",
       "      dtype=int64)"
      ]
     },
     "execution_count": 61,
     "metadata": {},
     "output_type": "execute_result"
    }
   ],
   "source": [
    "confusion_matrix(predicted.flatten(), y_test.flatten())"
   ]
  },
  {
   "cell_type": "markdown",
   "id": "c82bacbf-3568-49ed-982d-a66dafd7ab12",
   "metadata": {},
   "source": [
    "## __Testing only one image__"
   ]
  },
  {
   "cell_type": "code",
   "execution_count": 63,
   "id": "a65c36a9-a603-4432-bf61-f7fd8949513d",
   "metadata": {
    "scrolled": true
   },
   "outputs": [
    {
     "data": {
      "text/plain": [
       "<matplotlib.image.AxesImage at 0x2f0f8435e50>"
      ]
     },
     "execution_count": 63,
     "metadata": {},
     "output_type": "execute_result"
    },
    {
     "data": {
      "image/png": "[encoded data removed]",
      "text/plain": [
       "<Figure size 640x480 with 1 Axes>"
      ]
     },
     "metadata": {},
     "output_type": "display_data"
    }
   ],
   "source": [
    "plt.imshow(test_data[2025][0].reshape(28, 28))"
   ]
  },
  {
   "cell_type": "code",
   "execution_count": 64,
   "id": "fb624342-8ddd-49c7-9be6-263c002073c0",
   "metadata": {},
   "outputs": [],
   "source": [
    "cnn_model.eval()\n",
    "with torch.no_grad():\n",
    "    new_prediction = cnn_model(test_data[2025][0].view(1, 1, 28, 28))"
   ]
  },
  {
   "cell_type": "code",
   "execution_count": 65,
   "id": "ff4b6476-b801-4ef4-83b0-17f608e36214",
   "metadata": {},
   "outputs": [
    {
     "data": {
      "text/plain": [
       "tensor([[-2.1069e+01, -1.6624e+01, -1.5061e+01, -1.1678e-03, -2.2749e+01,\n",
       "         -9.1645e+00, -1.5655e+01, -1.9339e+01, -6.8476e+00, -1.7055e+01]])"
      ]
     },
     "execution_count": 65,
     "metadata": {},
     "output_type": "execute_result"
    }
   ],
   "source": [
    "new_prediction"
   ]
  },
  {
   "cell_type": "code",
   "execution_count": 66,
   "id": "302bf5ba-1863-4da3-9fee-b1f9c07f4133",
   "metadata": {},
   "outputs": [
    {
     "data": {
      "text/plain": [
       "tensor(3)"
      ]
     },
     "execution_count": 66,
     "metadata": {},
     "output_type": "execute_result"
    }
   ],
   "source": [
    "new_prediction.argmax()"
   ]
  },
  {
   "cell_type": "code",
   "execution_count": null,
   "id": "df7e89e3-0aa3-42c4-a23a-67604928bb1e",
   "metadata": {},
   "outputs": [],
   "source": []
  },
  {
   "cell_type": "code",
   "execution_count": 75,
   "id": "5a53753a-0ebf-4cd0-9ee5-cf2eb89ccf0b",
   "metadata": {
    "scrolled": true
   },
   "outputs": [
    {
     "data": {
      "text/plain": [
       "<matplotlib.image.AxesImage at 0x2f0f849da90>"
      ]
     },
     "execution_count": 75,
     "metadata": {},
     "output_type": "execute_result"
    },
    {
     "data": {
      "image/png": "[encoded data removed]",
      "text/plain": [
       "<Figure size 640x480 with 1 Axes>"
      ]
     },
     "metadata": {},
     "output_type": "display_data"
    }
   ],
   "source": [
    "plt.imshow(test_data[1563][0].reshape(28, 28))"
   ]
  },
  {
   "cell_type": "code",
   "execution_count": 76,
   "id": "bf055594-d2ad-4647-8ef5-77965741aea1",
   "metadata": {},
   "outputs": [],
   "source": [
    "cnn_model.eval()\n",
    "with torch.no_grad():\n",
    "    new_prediction = cnn_model(test_data[1563][0].view(1, 1, 28, 28))"
   ]
  },
  {
   "cell_type": "code",
   "execution_count": 77,
   "id": "98e07052-0a4a-4780-ae70-97b9119686eb",
   "metadata": {},
   "outputs": [
    {
     "data": {
      "text/plain": [
       "tensor([[-2.5858e+01, -1.5487e+01, -1.5820e+01, -1.6698e+01, -1.2647e+01,\n",
       "         -2.2885e+01, -4.2483e+01, -8.3446e-06, -1.8695e+01, -1.2246e+01]])"
      ]
     },
     "execution_count": 77,
     "metadata": {},
     "output_type": "execute_result"
    }
   ],
   "source": [
    "new_prediction"
   ]
  },
  {
   "cell_type": "code",
   "execution_count": 78,
   "id": "63e405c2-05c3-4ea3-880c-f481dc4d372d",
   "metadata": {},
   "outputs": [
    {
     "data": {
      "text/plain": [
       "tensor(7)"
      ]
     },
     "execution_count": 78,
     "metadata": {},
     "output_type": "execute_result"
    }
   ],
   "source": [
    "new_prediction.argmax()"
   ]
  },
  {
   "cell_type": "code",
   "execution_count": null,
   "id": "83c3c9b7-c6c2-45b8-ad7e-ceee44d90285",
   "metadata": {},
   "outputs": [],
   "source": []
  },
  {
   "cell_type": "code",
   "execution_count": 79,
   "id": "1376cf72-2d6e-4d13-b150-3c189ce7c073",
   "metadata": {
    "scrolled": true
   },
   "outputs": [
    {
     "data": {
      "text/plain": [
       "<matplotlib.image.AxesImage at 0x2f0f84e0310>"
      ]
     },
     "execution_count": 79,
     "metadata": {},
     "output_type": "execute_result"
    },
    {
     "data": {
      "image/png": "[encoded data removed]",
      "text/plain": [
       "<Figure size 640x480 with 1 Axes>"
      ]
     },
     "metadata": {},
     "output_type": "display_data"
    }
   ],
   "source": [
    "plt.imshow(test_data[888][0].reshape(28, 28))"
   ]
  },
  {
   "cell_type": "code",
   "execution_count": 80,
   "id": "2fe62acf-20c8-411d-8546-afe9ca2c545d",
   "metadata": {},
   "outputs": [],
   "source": [
    "cnn_model.eval()\n",
    "with torch.no_grad():\n",
    "    new_prediction = cnn_model(test_data[888][0].view(1, 1, 28, 28))"
   ]
  },
  {
   "cell_type": "code",
   "execution_count": 81,
   "id": "c0763cfa-b7c8-410a-a2a6-9e9834fe7c57",
   "metadata": {},
   "outputs": [
    {
     "data": {
      "text/plain": [
       "tensor([[-23.1621, -27.2245,   0.0000, -17.1081, -20.2469, -35.1046, -30.8921,\n",
       "         -19.3526, -21.0239, -25.5059]])"
      ]
     },
     "execution_count": 81,
     "metadata": {},
     "output_type": "execute_result"
    }
   ],
   "source": [
    "new_prediction"
   ]
  },
  {
   "cell_type": "code",
   "execution_count": 82,
   "id": "71618f18-5c12-4201-acc2-d2040f1b6a14",
   "metadata": {},
   "outputs": [
    {
     "data": {
      "text/plain": [
       "tensor(2)"
      ]
     },
     "execution_count": 82,
     "metadata": {},
     "output_type": "execute_result"
    }
   ],
   "source": [
    "new_prediction.argmax()"
   ]
  },
  {
   "cell_type": "markdown",
   "id": "7cd37fda-5b31-4c55-aed1-ec0de2367502",
   "metadata": {},
   "source": [
    "## __Incorrect guesses__"
   ]
  },
  {
   "cell_type": "code",
   "execution_count": 83,
   "id": "27e4d6b5-c640-464f-a39f-6a915fb91c08",
   "metadata": {},
   "outputs": [
    {
     "data": {
      "text/plain": [
       "172"
      ]
     },
     "execution_count": 83,
     "metadata": {},
     "output_type": "execute_result"
    }
   ],
   "source": [
    "incorrect = np.array([])\n",
    "for i in range(len(predicted.flatten())):\n",
    "    if predicted[i] != y_test[i]:\n",
    "        incorrect = np.append(incorrect,i).astype('int64')\n",
    "        \n",
    "# the number of incorrect predictions\n",
    "len(incorrect)"
   ]
  },
  {
   "cell_type": "code",
   "execution_count": 84,
   "id": "8251f1b6-5367-4a87-a860-ef2d27e82a69",
   "metadata": {},
   "outputs": [],
   "source": [
    "r = 10\n",
    "batch = iter(np.array_split(incorrect,len(incorrect)//r+1))"
   ]
  },
  {
   "cell_type": "code",
   "execution_count": 86,
   "id": "2a3e7f15-27bf-481e-b73f-2814f6c5036a",
   "metadata": {},
   "outputs": [
    {
     "name": "stdout",
     "output_type": "stream",
     "text": [
      "Index: [582 593 619 646 659 717 720 726 813 881]\n",
      "Label: [8 9 1 2 2 0 5 7 9 4]\n",
      "Guess: [2 8 8 6 7 6 8 3 8 9]\n"
     ]
    },
    {
     "data": {
      "image/png": "[encoded data removed]",
      "text/plain": [
       "<Figure size 1400x800 with 1 Axes>"
      ]
     },
     "metadata": {},
     "output_type": "display_data"
    }
   ],
   "source": [
    "nextrow = next(batch)\n",
    "print(\"Index:\", nextrow)\n",
    "print(\"Label:\", y_test.index_select(0, torch.tensor(nextrow)).numpy())\n",
    "print(\"Guess:\", predicted.index_select(0, torch.tensor(nextrow)).numpy())\n",
    "\n",
    "images = X_test.index_select(0, torch.tensor(nextrow))\n",
    "im = make_grid(images, nrow = r)\n",
    "plt.figure(figsize = (14, 8))\n",
    "plt.imshow(np.transpose(im.numpy(), (1, 2, 0)))\n",
    "plt.show()"
   ]
  },
  {
   "cell_type": "code",
   "execution_count": null,
   "id": "de40d7bd-ce3f-4df1-a03c-da2684f3472a",
   "metadata": {},
   "outputs": [],
   "source": []
  }
 ],
 "metadata": {
  "kernelspec": {
   "display_name": "Python 3 (ipykernel)",
   "language": "python",
   "name": "python3"
  },
  "language_info": {
   "codemirror_mode": {
    "name": "ipython",
    "version": 3
   },
   "file_extension": ".py",
   "mimetype": "text/x-python",
   "name": "python",
   "nbconvert_exporter": "python",
   "pygments_lexer": "ipython3",
   "version": "3.11.7"
  }
 },
 "nbformat": 4,
 "nbformat_minor": 5
}
