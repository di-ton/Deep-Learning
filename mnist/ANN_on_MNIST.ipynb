{
 "cells": [
  {
   "cell_type": "code",
   "execution_count": 1,
   "id": "57b67a0a-442e-439e-ad21-ba13a049a384",
   "metadata": {},
   "outputs": [],
   "source": [
    "%matplotlib inline"
   ]
  },
  {
   "cell_type": "code",
   "execution_count": 2,
   "id": "b43563b9-defb-4248-96c2-d3fa78215d24",
   "metadata": {},
   "outputs": [],
   "source": [
    "import torch\n",
    "import torch.nn as nn\n",
    "import torch.nn.functional as F\n",
    "\n",
    "from torch.utils.data import DataLoader\n",
    "from torchvision import datasets, transforms\n",
    "from torchvision.utils import make_grid\n",
    "\n",
    "import numpy as np\n",
    "import pandas as pd\n",
    "\n",
    "from sklearn.metrics import confusion_matrix\n",
    "import matplotlib.pyplot as plt\n",
    "\n",
    "import time"
   ]
  },
  {
   "cell_type": "markdown",
   "id": "6e6d58e2-601c-4101-bb79-9b015af7022f",
   "metadata": {},
   "source": [
    "# ANN on MNIST"
   ]
  },
  {
   "cell_type": "code",
   "execution_count": 3,
   "id": "3e1d8073-8358-4eb1-9aad-59453a362e86",
   "metadata": {},
   "outputs": [],
   "source": [
    "transform = transforms.ToTensor()"
   ]
  },
  {
   "cell_type": "code",
   "execution_count": 4,
   "id": "99167e7b-ffb2-4514-adad-1991e88d45f4",
   "metadata": {},
   "outputs": [],
   "source": [
    "train_data = datasets.MNIST(root = \"../Data\", train = True, download = True, transform = transform)"
   ]
  },
  {
   "cell_type": "code",
   "execution_count": 5,
   "id": "82e50943-f116-40c4-873c-67833828950b",
   "metadata": {},
   "outputs": [],
   "source": [
    "test_data = datasets.MNIST(root = \"../Data\", train = False, download = True, transform = transform)"
   ]
  },
  {
   "cell_type": "code",
   "execution_count": 6,
   "id": "45faa0ac-a190-4a76-8c64-38ce91618dd0",
   "metadata": {},
   "outputs": [
    {
     "data": {
      "text/plain": [
       "Dataset MNIST\n",
       "    Number of datapoints: 60000\n",
       "    Root location: ../Data\n",
       "    Split: Train\n",
       "    StandardTransform\n",
       "Transform: ToTensor()"
      ]
     },
     "execution_count": 6,
     "metadata": {},
     "output_type": "execute_result"
    }
   ],
   "source": [
    "train_data"
   ]
  },
  {
   "cell_type": "code",
   "execution_count": 7,
   "id": "8c99ae83-c390-422b-86d1-7be4dfacacea",
   "metadata": {},
   "outputs": [
    {
     "data": {
      "text/plain": [
       "Dataset MNIST\n",
       "    Number of datapoints: 10000\n",
       "    Root location: ../Data\n",
       "    Split: Test\n",
       "    StandardTransform\n",
       "Transform: ToTensor()"
      ]
     },
     "execution_count": 7,
     "metadata": {},
     "output_type": "execute_result"
    }
   ],
   "source": [
    "test_data"
   ]
  },
  {
   "cell_type": "code",
   "execution_count": 8,
   "id": "3f173d9f-6e43-470d-8602-a881a01c6cfa",
   "metadata": {},
   "outputs": [
    {
     "data": {
      "text/plain": [
       "torchvision.datasets.mnist.MNIST"
      ]
     },
     "execution_count": 8,
     "metadata": {},
     "output_type": "execute_result"
    }
   ],
   "source": [
    "type(train_data)"
   ]
  },
  {
   "cell_type": "code",
   "execution_count": 9,
   "id": "66e23880-6817-40c6-b22e-ee4c4787ec88",
   "metadata": {
    "scrolled": true
   },
   "outputs": [
    {
     "data": {
      "text/plain": [
       "tensor([[[0.0000, 0.0000, 0.0000, 0.0000, 0.0000, 0.0000, 0.0000, 0.0000,\n",
       "          0.0000, 0.0000, 0.0000, 0.0000, 0.0000, 0.0000, 0.0000, 0.0000,\n",
       "          0.0000, 0.0000, 0.0000, 0.0000, 0.0000, 0.0000, 0.0000, 0.0000,\n",
       "          0.0000, 0.0000, 0.0000, 0.0000],\n",
       "         [0.0000, 0.0000, 0.0000, 0.0000, 0.0000, 0.0000, 0.0000, 0.0000,\n",
       "          0.0000, 0.0000, 0.0000, 0.0000, 0.0000, 0.0000, 0.0000, 0.0000,\n",
       "          0.0000, 0.0000, 0.0000, 0.0000, 0.0000, 0.0000, 0.0000, 0.0000,\n",
       "          0.0000, 0.0000, 0.0000, 0.0000],\n",
       "         [0.0000, 0.0000, 0.0000, 0.0000, 0.0000, 0.0000, 0.0000, 0.0000,\n",
       "          0.0000, 0.0000, 0.0000, 0.0000, 0.0000, 0.0000, 0.0000, 0.0000,\n",
       "          0.0000, 0.0000, 0.0000, 0.0000, 0.0000, 0.0000, 0.0000, 0.0000,\n",
       "          0.0000, 0.0000, 0.0000, 0.0000],\n",
       "         [0.0000, 0.0000, 0.0000, 0.0000, 0.0000, 0.0000, 0.0000, 0.0000,\n",
       "          0.0000, 0.0000, 0.0000, 0.0000, 0.0000, 0.0000, 0.0000, 0.0000,\n",
       "          0.0000, 0.0000, 0.0000, 0.0000, 0.0000, 0.0000, 0.0000, 0.0000,\n",
       "          0.0000, 0.0000, 0.0000, 0.0000],\n",
       "         [0.0000, 0.0000, 0.0000, 0.0000, 0.0000, 0.0000, 0.0000, 0.0000,\n",
       "          0.0000, 0.0000, 0.0000, 0.0000, 0.0000, 0.0000, 0.0000, 0.0000,\n",
       "          0.0000, 0.0000, 0.0000, 0.0000, 0.0000, 0.0000, 0.0000, 0.0000,\n",
       "          0.0000, 0.0000, 0.0000, 0.0000],\n",
       "         [0.0000, 0.0000, 0.0000, 0.0000, 0.0000, 0.0000, 0.0000, 0.0000,\n",
       "          0.0000, 0.0000, 0.0000, 0.0000, 0.0118, 0.0706, 0.0706, 0.0706,\n",
       "          0.4941, 0.5333, 0.6863, 0.1020, 0.6510, 1.0000, 0.9686, 0.4980,\n",
       "          0.0000, 0.0000, 0.0000, 0.0000],\n",
       "         [0.0000, 0.0000, 0.0000, 0.0000, 0.0000, 0.0000, 0.0000, 0.0000,\n",
       "          0.1176, 0.1412, 0.3686, 0.6039, 0.6667, 0.9922, 0.9922, 0.9922,\n",
       "          0.9922, 0.9922, 0.8824, 0.6745, 0.9922, 0.9490, 0.7647, 0.2510,\n",
       "          0.0000, 0.0000, 0.0000, 0.0000],\n",
       "         [0.0000, 0.0000, 0.0000, 0.0000, 0.0000, 0.0000, 0.0000, 0.1922,\n",
       "          0.9333, 0.9922, 0.9922, 0.9922, 0.9922, 0.9922, 0.9922, 0.9922,\n",
       "          0.9922, 0.9843, 0.3647, 0.3216, 0.3216, 0.2196, 0.1529, 0.0000,\n",
       "          0.0000, 0.0000, 0.0000, 0.0000],\n",
       "         [0.0000, 0.0000, 0.0000, 0.0000, 0.0000, 0.0000, 0.0000, 0.0706,\n",
       "          0.8588, 0.9922, 0.9922, 0.9922, 0.9922, 0.9922, 0.7765, 0.7137,\n",
       "          0.9686, 0.9451, 0.0000, 0.0000, 0.0000, 0.0000, 0.0000, 0.0000,\n",
       "          0.0000, 0.0000, 0.0000, 0.0000],\n",
       "         [0.0000, 0.0000, 0.0000, 0.0000, 0.0000, 0.0000, 0.0000, 0.0000,\n",
       "          0.3137, 0.6118, 0.4196, 0.9922, 0.9922, 0.8039, 0.0431, 0.0000,\n",
       "          0.1686, 0.6039, 0.0000, 0.0000, 0.0000, 0.0000, 0.0000, 0.0000,\n",
       "          0.0000, 0.0000, 0.0000, 0.0000],\n",
       "         [0.0000, 0.0000, 0.0000, 0.0000, 0.0000, 0.0000, 0.0000, 0.0000,\n",
       "          0.0000, 0.0549, 0.0039, 0.6039, 0.9922, 0.3529, 0.0000, 0.0000,\n",
       "          0.0000, 0.0000, 0.0000, 0.0000, 0.0000, 0.0000, 0.0000, 0.0000,\n",
       "          0.0000, 0.0000, 0.0000, 0.0000],\n",
       "         [0.0000, 0.0000, 0.0000, 0.0000, 0.0000, 0.0000, 0.0000, 0.0000,\n",
       "          0.0000, 0.0000, 0.0000, 0.5451, 0.9922, 0.7451, 0.0078, 0.0000,\n",
       "          0.0000, 0.0000, 0.0000, 0.0000, 0.0000, 0.0000, 0.0000, 0.0000,\n",
       "          0.0000, 0.0000, 0.0000, 0.0000],\n",
       "         [0.0000, 0.0000, 0.0000, 0.0000, 0.0000, 0.0000, 0.0000, 0.0000,\n",
       "          0.0000, 0.0000, 0.0000, 0.0431, 0.7451, 0.9922, 0.2745, 0.0000,\n",
       "          0.0000, 0.0000, 0.0000, 0.0000, 0.0000, 0.0000, 0.0000, 0.0000,\n",
       "          0.0000, 0.0000, 0.0000, 0.0000],\n",
       "         [0.0000, 0.0000, 0.0000, 0.0000, 0.0000, 0.0000, 0.0000, 0.0000,\n",
       "          0.0000, 0.0000, 0.0000, 0.0000, 0.1373, 0.9451, 0.8824, 0.6275,\n",
       "          0.4235, 0.0039, 0.0000, 0.0000, 0.0000, 0.0000, 0.0000, 0.0000,\n",
       "          0.0000, 0.0000, 0.0000, 0.0000],\n",
       "         [0.0000, 0.0000, 0.0000, 0.0000, 0.0000, 0.0000, 0.0000, 0.0000,\n",
       "          0.0000, 0.0000, 0.0000, 0.0000, 0.0000, 0.3176, 0.9412, 0.9922,\n",
       "          0.9922, 0.4667, 0.0980, 0.0000, 0.0000, 0.0000, 0.0000, 0.0000,\n",
       "          0.0000, 0.0000, 0.0000, 0.0000],\n",
       "         [0.0000, 0.0000, 0.0000, 0.0000, 0.0000, 0.0000, 0.0000, 0.0000,\n",
       "          0.0000, 0.0000, 0.0000, 0.0000, 0.0000, 0.0000, 0.1765, 0.7294,\n",
       "          0.9922, 0.9922, 0.5882, 0.1059, 0.0000, 0.0000, 0.0000, 0.0000,\n",
       "          0.0000, 0.0000, 0.0000, 0.0000],\n",
       "         [0.0000, 0.0000, 0.0000, 0.0000, 0.0000, 0.0000, 0.0000, 0.0000,\n",
       "          0.0000, 0.0000, 0.0000, 0.0000, 0.0000, 0.0000, 0.0000, 0.0627,\n",
       "          0.3647, 0.9882, 0.9922, 0.7333, 0.0000, 0.0000, 0.0000, 0.0000,\n",
       "          0.0000, 0.0000, 0.0000, 0.0000],\n",
       "         [0.0000, 0.0000, 0.0000, 0.0000, 0.0000, 0.0000, 0.0000, 0.0000,\n",
       "          0.0000, 0.0000, 0.0000, 0.0000, 0.0000, 0.0000, 0.0000, 0.0000,\n",
       "          0.0000, 0.9765, 0.9922, 0.9765, 0.2510, 0.0000, 0.0000, 0.0000,\n",
       "          0.0000, 0.0000, 0.0000, 0.0000],\n",
       "         [0.0000, 0.0000, 0.0000, 0.0000, 0.0000, 0.0000, 0.0000, 0.0000,\n",
       "          0.0000, 0.0000, 0.0000, 0.0000, 0.0000, 0.0000, 0.1804, 0.5098,\n",
       "          0.7176, 0.9922, 0.9922, 0.8118, 0.0078, 0.0000, 0.0000, 0.0000,\n",
       "          0.0000, 0.0000, 0.0000, 0.0000],\n",
       "         [0.0000, 0.0000, 0.0000, 0.0000, 0.0000, 0.0000, 0.0000, 0.0000,\n",
       "          0.0000, 0.0000, 0.0000, 0.0000, 0.1529, 0.5804, 0.8980, 0.9922,\n",
       "          0.9922, 0.9922, 0.9804, 0.7137, 0.0000, 0.0000, 0.0000, 0.0000,\n",
       "          0.0000, 0.0000, 0.0000, 0.0000],\n",
       "         [0.0000, 0.0000, 0.0000, 0.0000, 0.0000, 0.0000, 0.0000, 0.0000,\n",
       "          0.0000, 0.0000, 0.0941, 0.4471, 0.8667, 0.9922, 0.9922, 0.9922,\n",
       "          0.9922, 0.7882, 0.3059, 0.0000, 0.0000, 0.0000, 0.0000, 0.0000,\n",
       "          0.0000, 0.0000, 0.0000, 0.0000],\n",
       "         [0.0000, 0.0000, 0.0000, 0.0000, 0.0000, 0.0000, 0.0000, 0.0000,\n",
       "          0.0902, 0.2588, 0.8353, 0.9922, 0.9922, 0.9922, 0.9922, 0.7765,\n",
       "          0.3176, 0.0078, 0.0000, 0.0000, 0.0000, 0.0000, 0.0000, 0.0000,\n",
       "          0.0000, 0.0000, 0.0000, 0.0000],\n",
       "         [0.0000, 0.0000, 0.0000, 0.0000, 0.0000, 0.0000, 0.0706, 0.6706,\n",
       "          0.8588, 0.9922, 0.9922, 0.9922, 0.9922, 0.7647, 0.3137, 0.0353,\n",
       "          0.0000, 0.0000, 0.0000, 0.0000, 0.0000, 0.0000, 0.0000, 0.0000,\n",
       "          0.0000, 0.0000, 0.0000, 0.0000],\n",
       "         [0.0000, 0.0000, 0.0000, 0.0000, 0.2157, 0.6745, 0.8863, 0.9922,\n",
       "          0.9922, 0.9922, 0.9922, 0.9569, 0.5216, 0.0431, 0.0000, 0.0000,\n",
       "          0.0000, 0.0000, 0.0000, 0.0000, 0.0000, 0.0000, 0.0000, 0.0000,\n",
       "          0.0000, 0.0000, 0.0000, 0.0000],\n",
       "         [0.0000, 0.0000, 0.0000, 0.0000, 0.5333, 0.9922, 0.9922, 0.9922,\n",
       "          0.8314, 0.5294, 0.5176, 0.0627, 0.0000, 0.0000, 0.0000, 0.0000,\n",
       "          0.0000, 0.0000, 0.0000, 0.0000, 0.0000, 0.0000, 0.0000, 0.0000,\n",
       "          0.0000, 0.0000, 0.0000, 0.0000],\n",
       "         [0.0000, 0.0000, 0.0000, 0.0000, 0.0000, 0.0000, 0.0000, 0.0000,\n",
       "          0.0000, 0.0000, 0.0000, 0.0000, 0.0000, 0.0000, 0.0000, 0.0000,\n",
       "          0.0000, 0.0000, 0.0000, 0.0000, 0.0000, 0.0000, 0.0000, 0.0000,\n",
       "          0.0000, 0.0000, 0.0000, 0.0000],\n",
       "         [0.0000, 0.0000, 0.0000, 0.0000, 0.0000, 0.0000, 0.0000, 0.0000,\n",
       "          0.0000, 0.0000, 0.0000, 0.0000, 0.0000, 0.0000, 0.0000, 0.0000,\n",
       "          0.0000, 0.0000, 0.0000, 0.0000, 0.0000, 0.0000, 0.0000, 0.0000,\n",
       "          0.0000, 0.0000, 0.0000, 0.0000],\n",
       "         [0.0000, 0.0000, 0.0000, 0.0000, 0.0000, 0.0000, 0.0000, 0.0000,\n",
       "          0.0000, 0.0000, 0.0000, 0.0000, 0.0000, 0.0000, 0.0000, 0.0000,\n",
       "          0.0000, 0.0000, 0.0000, 0.0000, 0.0000, 0.0000, 0.0000, 0.0000,\n",
       "          0.0000, 0.0000, 0.0000, 0.0000]]])"
      ]
     },
     "execution_count": 9,
     "metadata": {},
     "output_type": "execute_result"
    }
   ],
   "source": [
    "train_data[0][0] #image"
   ]
  },
  {
   "cell_type": "code",
   "execution_count": 10,
   "id": "4abc596c-ff37-42ff-8386-0b378d2880cf",
   "metadata": {},
   "outputs": [
    {
     "data": {
      "text/plain": [
       "5"
      ]
     },
     "execution_count": 10,
     "metadata": {},
     "output_type": "execute_result"
    }
   ],
   "source": [
    "train_data[0][1] # label"
   ]
  },
  {
   "cell_type": "code",
   "execution_count": 11,
   "id": "58ea4759-2ae4-463a-95f3-a8e5951f8470",
   "metadata": {},
   "outputs": [],
   "source": [
    "image, label = train_data[0]"
   ]
  },
  {
   "cell_type": "code",
   "execution_count": 12,
   "id": "3455d9a0-d9f6-42a2-8dc8-4ec131b7961b",
   "metadata": {},
   "outputs": [
    {
     "data": {
      "text/plain": [
       "torch.Size([1, 28, 28])"
      ]
     },
     "execution_count": 12,
     "metadata": {},
     "output_type": "execute_result"
    }
   ],
   "source": [
    "image.shape # 1-> grayscale image"
   ]
  },
  {
   "cell_type": "code",
   "execution_count": 13,
   "id": "3f5cc1eb-98d6-421d-99f8-9fed7a671205",
   "metadata": {},
   "outputs": [
    {
     "data": {
      "text/plain": [
       "5"
      ]
     },
     "execution_count": 13,
     "metadata": {},
     "output_type": "execute_result"
    }
   ],
   "source": [
    "label"
   ]
  },
  {
   "cell_type": "code",
   "execution_count": 14,
   "id": "1423e375-6d4f-40b4-b76c-99a22833301c",
   "metadata": {},
   "outputs": [
    {
     "data": {
      "text/plain": [
       "<matplotlib.image.AxesImage at 0x20891b82250>"
      ]
     },
     "execution_count": 14,
     "metadata": {},
     "output_type": "execute_result"
    },
    {
     "data": {
      "image/png": "[encoded data removed]",
      "text/plain": [
       "<Figure size 640x480 with 1 Axes>"
      ]
     },
     "metadata": {},
     "output_type": "display_data"
    }
   ],
   "source": [
    "plt.imshow(image.reshape((28,28))) # default colormapping is \"viridis\""
   ]
  },
  {
   "cell_type": "code",
   "execution_count": 15,
   "id": "fbf0a048-da58-409e-ae83-f19ec363887b",
   "metadata": {},
   "outputs": [
    {
     "data": {
      "text/plain": [
       "<matplotlib.image.AxesImage at 0x20891c1f050>"
      ]
     },
     "execution_count": 15,
     "metadata": {},
     "output_type": "execute_result"
    },
    {
     "data": {
      "image/png": "[encoded data removed]",
      "text/plain": [
       "<Figure size 640x480 with 1 Axes>"
      ]
     },
     "metadata": {},
     "output_type": "display_data"
    }
   ],
   "source": [
    "plt.imshow(image.reshape((28,28)), cmap = \"gray\")"
   ]
  },
  {
   "cell_type": "code",
   "execution_count": 16,
   "id": "1689ed62-96a1-450f-99b3-2345a1f38b59",
   "metadata": {},
   "outputs": [
    {
     "data": {
      "text/plain": [
       "<matplotlib.image.AxesImage at 0x20891cbbd90>"
      ]
     },
     "execution_count": 16,
     "metadata": {},
     "output_type": "execute_result"
    },
    {
     "data": {
      "image/png": "[encoded data removed]",
      "text/plain": [
       "<Figure size 640x480 with 1 Axes>"
      ]
     },
     "metadata": {},
     "output_type": "display_data"
    }
   ],
   "source": [
    "plt.imshow(image.reshape((28,28)), cmap = \"gist_yarg\") # negative to the above image"
   ]
  },
  {
   "cell_type": "code",
   "execution_count": 17,
   "id": "d7fd1e0a-3adf-4cda-b009-4ab9283e71d1",
   "metadata": {},
   "outputs": [],
   "source": [
    "torch.manual_seed(53)\n",
    "\n",
    "train_loader = DataLoader(train_data, batch_size = 100, shuffle = True)\n",
    "test_loader = DataLoader(test_data, batch_size = 500, shuffle = False)"
   ]
  },
  {
   "cell_type": "code",
   "execution_count": 18,
   "id": "cdb7fffb-f70c-422c-89b4-4f510493a592",
   "metadata": {},
   "outputs": [],
   "source": [
    "np.set_printoptions(formatter = dict(int=lambda x: f\"{x: 4}\"))"
   ]
  },
  {
   "cell_type": "code",
   "execution_count": 19,
   "id": "1a039088-1d42-440e-8dcd-40101ca33e99",
   "metadata": {},
   "outputs": [],
   "source": [
    "# first batch\n",
    "for images, labels in train_loader:\n",
    "    break"
   ]
  },
  {
   "cell_type": "code",
   "execution_count": 20,
   "id": "7b3e4af7-76fb-46a9-b81b-0b32d0841d9a",
   "metadata": {},
   "outputs": [
    {
     "data": {
      "text/plain": [
       "(torch.Size([100, 1, 28, 28]), torch.Size([100]))"
      ]
     },
     "execution_count": 20,
     "metadata": {},
     "output_type": "execute_result"
    }
   ],
   "source": [
    "images.shape, labels.shape # the number of images and labels is equal to the batch size"
   ]
  },
  {
   "cell_type": "code",
   "execution_count": 21,
   "id": "1929e008-d0ed-459c-a5dc-c992112b2ff0",
   "metadata": {},
   "outputs": [
    {
     "name": "stdout",
     "output_type": "stream",
     "text": [
      "Labels:  [   9    7    1    6    0    1    6    0    7    9]\n"
     ]
    }
   ],
   "source": [
    "print('Labels: ', labels[:10].numpy()) # printing the first ten labels"
   ]
  },
  {
   "cell_type": "code",
   "execution_count": 22,
   "id": "3e3a3ff0-d2c1-4267-b59b-9541d92d10f4",
   "metadata": {},
   "outputs": [
    {
     "data": {
      "text/plain": [
       "<matplotlib.image.AxesImage at 0x20891d35ed0>"
      ]
     },
     "execution_count": 22,
     "metadata": {},
     "output_type": "execute_result"
    },
    {
     "data": {
      "image/png": "[encoded data removed]",
      "text/plain": [
       "<Figure size 1200x600 with 1 Axes>"
      ]
     },
     "metadata": {},
     "output_type": "display_data"
    }
   ],
   "source": [
    "im = make_grid(images[:10], nrow=10)  # the default nrow is 8\n",
    "plt.figure(figsize=(12,6)) \n",
    "plt.imshow(np.transpose(im.numpy(), (1, 2, 0))) # transpose the images from (channel, width, height) to WHC"
   ]
  },
  {
   "cell_type": "markdown",
   "id": "3a8afea1-fa41-42ac-a639-33f155146718",
   "metadata": {},
   "source": [
    "## __ANN__"
   ]
  },
  {
   "cell_type": "code",
   "execution_count": 23,
   "id": "a3638e9a-2637-4dd1-b49e-af9b779a5e7e",
   "metadata": {},
   "outputs": [],
   "source": [
    "class MultilayerPerceptron(nn. Module):\n",
    "    def __init__(self, input_size = 784, output_size = 10, layers = [120, 84]):\n",
    "        super().__init__()\n",
    "        self.fc1 = nn.Linear(input_size, layers[0])\n",
    "        self.fc2 = nn.Linear(layers[0], layers[1])\n",
    "        self.fc3 = nn.Linear(layers[1], output_size)\n",
    "\n",
    "    def forward(self, X):\n",
    "        X = F.relu(self.fc1(X))\n",
    "        X = F.relu(self.fc2(X))\n",
    "        X = F.log_softmax(self.fc3(X), dim = 1)\n",
    "\n",
    "        return X"
   ]
  },
  {
   "cell_type": "code",
   "execution_count": 24,
   "id": "25b5d114-ea79-4f32-a907-f5055adbf84d",
   "metadata": {},
   "outputs": [
    {
     "data": {
      "text/plain": [
       "MultilayerPerceptron(\n",
       "  (fc1): Linear(in_features=784, out_features=120, bias=True)\n",
       "  (fc2): Linear(in_features=120, out_features=84, bias=True)\n",
       "  (fc3): Linear(in_features=84, out_features=10, bias=True)\n",
       ")"
      ]
     },
     "execution_count": 24,
     "metadata": {},
     "output_type": "execute_result"
    }
   ],
   "source": [
    "torch.manual_seed(53)\n",
    "\n",
    "model = MultilayerPerceptron()\n",
    "model"
   ]
  },
  {
   "cell_type": "code",
   "execution_count": 25,
   "id": "3538e67a-2f6f-4a3f-baf0-9716c3a83036",
   "metadata": {},
   "outputs": [
    {
     "name": "stdout",
     "output_type": "stream",
     "text": [
      "94080\n",
      "120\n",
      "10080\n",
      "84\n",
      "840\n",
      "10\n"
     ]
    }
   ],
   "source": [
    "for param in model.parameters():\n",
    "    print(param.numel())"
   ]
  },
  {
   "cell_type": "code",
   "execution_count": 26,
   "id": "4013e8fe-e994-41ea-b107-157e6ecff717",
   "metadata": {},
   "outputs": [],
   "source": [
    "criterion = nn.CrossEntropyLoss()\n",
    "optimizer = torch.optim.Adam(model.parameters(), lr = 0.001)"
   ]
  },
  {
   "cell_type": "code",
   "execution_count": 27,
   "id": "8285f2f9-8264-464a-897e-862ff6c07e37",
   "metadata": {
    "scrolled": true
   },
   "outputs": [
    {
     "data": {
      "text/plain": [
       "torch.Size([100, 1, 28, 28])"
      ]
     },
     "execution_count": 27,
     "metadata": {},
     "output_type": "execute_result"
    }
   ],
   "source": [
    "images.shape"
   ]
  },
  {
   "cell_type": "markdown",
   "id": "64431642-9d24-4fbc-9d6b-038882fce9b5",
   "metadata": {},
   "source": [
    " ---> [100, 784] by using .view"
   ]
  },
  {
   "cell_type": "code",
   "execution_count": 28,
   "id": "7db2452b-3911-4354-b5e3-a3d3298344b5",
   "metadata": {},
   "outputs": [
    {
     "data": {
      "text/plain": [
       "torch.Size([100, 784])"
      ]
     },
     "execution_count": 28,
     "metadata": {},
     "output_type": "execute_result"
    }
   ],
   "source": [
    "images.view(100, -1).shape"
   ]
  },
  {
   "cell_type": "markdown",
   "id": "db79a9c7-1e68-42eb-86be-7fdba211cbe7",
   "metadata": {},
   "source": [
    "## __Training__"
   ]
  },
  {
   "cell_type": "code",
   "execution_count": 30,
   "id": "8cc1e428-9236-435a-abe9-d0fe87124528",
   "metadata": {},
   "outputs": [
    {
     "name": "stdout",
     "output_type": "stream",
     "text": [
      "Epoch: 0; batch: 100; loss: 0.35879042744636536; accuracy: 76.470\n",
      "Epoch: 0; batch: 200; loss: 0.32136619091033936; accuracy: 83.025\n",
      "Epoch: 0; batch: 300; loss: 0.17121189832687378; accuracy: 85.850\n",
      "Epoch: 0; batch: 400; loss: 0.3657015860080719; accuracy: 87.480\n",
      "Epoch: 0; batch: 500; loss: 0.18691512942314148; accuracy: 88.678\n",
      "Epoch: 0; batch: 600; loss: 0.1862039566040039; accuracy: 89.527\n",
      "Epoch: 1; batch: 100; loss: 0.21774528920650482; accuracy: 94.560\n",
      "Epoch: 1; batch: 200; loss: 0.12937648594379425; accuracy: 94.800\n",
      "Epoch: 1; batch: 300; loss: 0.064856618642807; accuracy: 94.930\n",
      "Epoch: 1; batch: 400; loss: 0.19661453366279602; accuracy: 95.130\n",
      "Epoch: 1; batch: 500; loss: 0.09931490570306778; accuracy: 95.222\n",
      "Epoch: 1; batch: 600; loss: 0.05101988464593887; accuracy: 95.375\n",
      "Epoch: 2; batch: 100; loss: 0.11635231971740723; accuracy: 96.800\n",
      "Epoch: 2; batch: 200; loss: 0.11780258268117905; accuracy: 96.645\n",
      "Epoch: 2; batch: 300; loss: 0.053029388189315796; accuracy: 96.747\n",
      "Epoch: 2; batch: 400; loss: 0.07754859328269958; accuracy: 96.735\n",
      "Epoch: 2; batch: 500; loss: 0.11385328322649002; accuracy: 96.754\n",
      "Epoch: 2; batch: 600; loss: 0.1948632448911667; accuracy: 96.758\n",
      "Epoch: 3; batch: 100; loss: 0.03733769804239273; accuracy: 97.670\n",
      "Epoch: 3; batch: 200; loss: 0.04909290373325348; accuracy: 97.515\n",
      "Epoch: 3; batch: 300; loss: 0.12978199124336243; accuracy: 97.537\n",
      "Epoch: 3; batch: 400; loss: 0.03942488878965378; accuracy: 97.528\n",
      "Epoch: 3; batch: 500; loss: 0.14872410893440247; accuracy: 97.594\n",
      "Epoch: 3; batch: 600; loss: 0.043496374040842056; accuracy: 97.550\n",
      "Epoch: 4; batch: 100; loss: 0.040799278765916824; accuracy: 98.070\n",
      "Epoch: 4; batch: 200; loss: 0.15702587366104126; accuracy: 98.035\n",
      "Epoch: 4; batch: 300; loss: 0.021686920896172523; accuracy: 98.080\n",
      "Epoch: 4; batch: 400; loss: 0.010385340079665184; accuracy: 98.080\n",
      "Epoch: 4; batch: 500; loss: 0.08212354779243469; accuracy: 98.076\n",
      "Epoch: 4; batch: 600; loss: 0.020244086161255836; accuracy: 98.032\n",
      "Epoch: 5; batch: 100; loss: 0.08955198526382446; accuracy: 98.260\n",
      "Epoch: 5; batch: 200; loss: 0.04655357822775841; accuracy: 98.415\n",
      "Epoch: 5; batch: 300; loss: 0.09117398411035538; accuracy: 98.373\n",
      "Epoch: 5; batch: 400; loss: 0.04756404832005501; accuracy: 98.400\n",
      "Epoch: 5; batch: 500; loss: 0.01580692268908024; accuracy: 98.364\n",
      "Epoch: 5; batch: 600; loss: 0.07599727809429169; accuracy: 98.332\n",
      "Epoch: 6; batch: 100; loss: 0.05440725386142731; accuracy: 98.710\n",
      "Epoch: 6; batch: 200; loss: 0.01828860118985176; accuracy: 98.750\n",
      "Epoch: 6; batch: 300; loss: 0.08351124078035355; accuracy: 98.727\n",
      "Epoch: 6; batch: 400; loss: 0.026215048506855965; accuracy: 98.672\n",
      "Epoch: 6; batch: 500; loss: 0.011913467198610306; accuracy: 98.664\n",
      "Epoch: 6; batch: 600; loss: 0.058571577072143555; accuracy: 98.650\n",
      "Epoch: 7; batch: 100; loss: 0.006969242822378874; accuracy: 99.240\n",
      "Epoch: 7; batch: 200; loss: 0.04327933490276337; accuracy: 99.075\n",
      "Epoch: 7; batch: 300; loss: 0.008034493774175644; accuracy: 99.073\n",
      "Epoch: 7; batch: 400; loss: 0.05329035222530365; accuracy: 99.017\n",
      "Epoch: 7; batch: 500; loss: 0.04242541640996933; accuracy: 98.942\n",
      "Epoch: 7; batch: 600; loss: 0.015358836390078068; accuracy: 98.890\n",
      "Epoch: 8; batch: 100; loss: 0.0493389330804348; accuracy: 98.920\n",
      "Epoch: 8; batch: 200; loss: 0.028403259813785553; accuracy: 99.050\n",
      "Epoch: 8; batch: 300; loss: 0.018959207460284233; accuracy: 99.043\n",
      "Epoch: 8; batch: 400; loss: 0.02927185222506523; accuracy: 99.078\n",
      "Epoch: 8; batch: 500; loss: 0.04401981830596924; accuracy: 99.084\n",
      "Epoch: 8; batch: 600; loss: 0.018270809203386307; accuracy: 99.063\n",
      "Epoch: 9; batch: 100; loss: 0.009532714262604713; accuracy: 99.420\n",
      "Epoch: 9; batch: 200; loss: 0.009287386201322079; accuracy: 99.370\n",
      "Epoch: 9; batch: 300; loss: 0.013995273038744926; accuracy: 99.270\n",
      "Epoch: 9; batch: 400; loss: 0.021189196035265923; accuracy: 99.233\n",
      "Epoch: 9; batch: 500; loss: 0.010356642305850983; accuracy: 99.208\n",
      "Epoch: 9; batch: 600; loss: 0.048448268324136734; accuracy: 99.188\n",
      "Duration: 0.918 minutes\n"
     ]
    }
   ],
   "source": [
    "start_time = time.time()\n",
    "\n",
    "epochs = 10\n",
    "\n",
    "train_losses = []\n",
    "test_losses = []\n",
    "\n",
    "train_correct = []\n",
    "test_correct = []\n",
    "\n",
    "for i in range(epochs):\n",
    "    train_corr = 0\n",
    "    test_corr = 0\n",
    "\n",
    "    for b, (X_train, y_train) in enumerate(train_loader):\n",
    "        b += 1\n",
    "\n",
    "        y_pred = model(X_train.view(100, -1))\n",
    "        loss = criterion(y_pred, y_train)\n",
    "\n",
    "        predicted = torch.max(y_pred.detach(), dim = 1)[1] # values: [0.1, 0.0,..., 0.8]; indices: [0, 1,..., 9] ----> 9\n",
    "        # dim = 1 ----> the highest probability for each sample in the batch\n",
    "        # print(y_pred.detach())\n",
    "        \n",
    "        batch_correct = (predicted == y_train).sum()\n",
    "        # print(batch_correct)\n",
    "        \n",
    "        train_corr += batch_correct\n",
    "\n",
    "        optimizer.zero_grad()\n",
    "        loss.backward()\n",
    "        optimizer.step()\n",
    "\n",
    "        if b % 100 == 0:\n",
    "            accuracy = train_corr.item() * 100 / (100 * b)\n",
    "            print(f\"Epoch: {i}; batch: {b}; loss: {loss.item()}; accuracy: {accuracy:.3f}\")\n",
    "        \n",
    "    train_losses.append(loss)\n",
    "    train_correct.append(train_corr)\n",
    "\n",
    "    with torch.no_grad():\n",
    "        \n",
    "        for b, (X_test, y_test) in enumerate(test_loader):\n",
    "            y_val = model(X_test.view(500, -1))\n",
    "            predicted = torch.max(y_val.detach(), 1)[1]\n",
    "            test_corr += (predicted == y_test).sum()\n",
    "\n",
    "    loss = criterion(y_val, y_test)\n",
    "    test_losses.append(loss)\n",
    "    test_correct.append(test_corr)\n",
    "\n",
    "\n",
    "total_time = time.time() - start_time\n",
    "print(f\"Duration: {total_time / 60:.3f} minutes\")"
   ]
  },
  {
   "cell_type": "markdown",
   "id": "0fa4dcbc-6d82-4d29-bcb5-606a04f7652c",
   "metadata": {},
   "source": [
    "## __Evaluation__"
   ]
  },
  {
   "cell_type": "code",
   "execution_count": 39,
   "id": "adbf0db2-8e07-4234-8979-4a0dd696b793",
   "metadata": {},
   "outputs": [
    {
     "data": {
      "image/png": "[encoded data removed]",
      "text/plain": [
       "<Figure size 640x480 with 1 Axes>"
      ]
     },
     "metadata": {},
     "output_type": "display_data"
    }
   ],
   "source": [
    "plt.plot([trl.detach().numpy() for trl in train_losses], label = \"Training loss\")\n",
    "plt.plot([tsl.detach().numpy() for tsl in test_losses], label = \"Validating loss\")\n",
    "\n",
    "plt.legend()\n",
    "plt.show()"
   ]
  },
  {
   "cell_type": "code",
   "execution_count": 40,
   "id": "d9cf8deb-f550-4142-8acb-0ec2a9c85df2",
   "metadata": {},
   "outputs": [
    {
     "data": {
      "text/plain": [
       "[tensor(89.5267),\n",
       " tensor(95.3750),\n",
       " tensor(96.7583),\n",
       " tensor(97.5500),\n",
       " tensor(98.0317),\n",
       " tensor(98.3317),\n",
       " tensor(98.6500),\n",
       " tensor(98.8900),\n",
       " tensor(99.0633),\n",
       " tensor(99.1883)]"
      ]
     },
     "execution_count": 40,
     "metadata": {},
     "output_type": "execute_result"
    }
   ],
   "source": [
    "train_accuracy = [t / 600 for t in train_correct]\n",
    "train_accuracy"
   ]
  },
  {
   "cell_type": "code",
   "execution_count": 41,
   "id": "f3fb844a-564e-4a2a-b0f0-d6224c150e6a",
   "metadata": {},
   "outputs": [
    {
     "data": {
      "text/plain": [
       "[tensor(94.6500),\n",
       " tensor(96.0100),\n",
       " tensor(97.0400),\n",
       " tensor(96.8200),\n",
       " tensor(97.1300),\n",
       " tensor(97.7900),\n",
       " tensor(97.4800),\n",
       " tensor(97.3400),\n",
       " tensor(97.5900),\n",
       " tensor(97.5400)]"
      ]
     },
     "execution_count": 41,
     "metadata": {},
     "output_type": "execute_result"
    }
   ],
   "source": [
    "val_accuracy = [t / 100 for t in test_correct]\n",
    "val_accuracy"
   ]
  },
  {
   "cell_type": "code",
   "execution_count": 42,
   "id": "3da12a70-05a2-4cd6-a3bd-8b592ae1a537",
   "metadata": {},
   "outputs": [
    {
     "data": {
      "image/png": "[encoded data removed]",
      "text/plain": [
       "<Figure size 640x480 with 1 Axes>"
      ]
     },
     "metadata": {},
     "output_type": "display_data"
    }
   ],
   "source": [
    "plt.plot(train_accuracy, label = \"Training accuracy\")\n",
    "plt.plot(val_accuracy, label = \"Validating accuracy\")\n",
    "\n",
    "plt.legend()\n",
    "plt.show()"
   ]
  },
  {
   "cell_type": "markdown",
   "id": "25200d1a-f9f9-42e1-93c8-68c9312dd263",
   "metadata": {},
   "source": [
    "## __Testing with new data__"
   ]
  },
  {
   "cell_type": "code",
   "execution_count": 44,
   "id": "6c3c7402-937d-4842-ac70-15ca7c1f64d6",
   "metadata": {},
   "outputs": [],
   "source": [
    "all_data_test_load = DataLoader(test_data, batch_size = 10000, shuffle = False)"
   ]
  },
  {
   "cell_type": "code",
   "execution_count": 48,
   "id": "f95e5dba-fefc-402a-8daf-de1ffa4547dd",
   "metadata": {},
   "outputs": [],
   "source": [
    "with torch.no_grad():\n",
    "    correct = 0\n",
    "    \n",
    "    for X_test, y_test in all_data_test_load:\n",
    "        y_testing = model(X_test.view(len(X_test), -1))\n",
    "        predicted = torch.max(y_testing.detach(), 1)[1]\n",
    "        correct += (predicted == y_test).sum()\n"
   ]
  },
  {
   "cell_type": "code",
   "execution_count": 52,
   "id": "be4b3875-286b-4cd4-8a14-0b5abe403131",
   "metadata": {},
   "outputs": [
    {
     "data": {
      "text/plain": [
       "97.54"
      ]
     },
     "execution_count": 52,
     "metadata": {},
     "output_type": "execute_result"
    }
   ],
   "source": [
    "# total accuracy on the test dataset\n",
    "\n",
    "correct.item() / len(test_data) * 100"
   ]
  },
  {
   "cell_type": "code",
   "execution_count": 60,
   "id": "35df8481-5a75-44b0-b910-a6a417cb26ee",
   "metadata": {},
   "outputs": [
    {
     "name": "stdout",
     "output_type": "stream",
     "text": [
      "tensor([7, 2, 1,  ..., 4, 5, 6])\n"
     ]
    }
   ],
   "source": [
    "print(predicted.view(-1))"
   ]
  },
  {
   "cell_type": "code",
   "execution_count": 61,
   "id": "572bf2d7-01e1-4f7f-8658-a04a58b8a512",
   "metadata": {},
   "outputs": [
    {
     "data": {
      "text/plain": [
       "array([[ 973,    1,    5,    1,    2,    3,    8,    2,   13,    3],\n",
       "       [   0,  1123,    2,    0,    0,    0,    3,    1,    1,    2],\n",
       "       [   2,    1,  1004,    6,    2,    0,    1,    7,    2,    0],\n",
       "       [   1,    4,    4,  985,    1,    6,    1,    2,    9,    5],\n",
       "       [   0,    0,    3,    0,  964,    1,    9,    2,    5,   10],\n",
       "       [   0,    1,    0,    5,    0,  872,    4,    0,    8,    1],\n",
       "       [   1,    2,    1,    0,    3,    6,  930,    0,    4,    0],\n",
       "       [   0,    0,    7,    3,    1,    0,    0,  1002,    5,    5],\n",
       "       [   1,    3,    5,    1,    0,    3,    2,    3,  920,    2],\n",
       "       [   2,    0,    1,    9,    9,    1,    0,    9,    7,  981]],\n",
       "      dtype=int64)"
      ]
     },
     "execution_count": 61,
     "metadata": {},
     "output_type": "execute_result"
    }
   ],
   "source": [
    "confusion_matrix(predicted.view(-1), y_test.view(-1))"
   ]
  },
  {
   "cell_type": "code",
   "execution_count": 62,
   "id": "339f4907-aa7c-4a13-950c-0147b2a9632b",
   "metadata": {},
   "outputs": [
    {
     "data": {
      "text/plain": [
       "array([[ 973,    1,    5,    1,    2,    3,    8,    2,   13,    3],\n",
       "       [   0,  1123,    2,    0,    0,    0,    3,    1,    1,    2],\n",
       "       [   2,    1,  1004,    6,    2,    0,    1,    7,    2,    0],\n",
       "       [   1,    4,    4,  985,    1,    6,    1,    2,    9,    5],\n",
       "       [   0,    0,    3,    0,  964,    1,    9,    2,    5,   10],\n",
       "       [   0,    1,    0,    5,    0,  872,    4,    0,    8,    1],\n",
       "       [   1,    2,    1,    0,    3,    6,  930,    0,    4,    0],\n",
       "       [   0,    0,    7,    3,    1,    0,    0,  1002,    5,    5],\n",
       "       [   1,    3,    5,    1,    0,    3,    2,    3,  920,    2],\n",
       "       [   2,    0,    1,    9,    9,    1,    0,    9,    7,  981]],\n",
       "      dtype=int64)"
      ]
     },
     "execution_count": 62,
     "metadata": {},
     "output_type": "execute_result"
    }
   ],
   "source": [
    "confusion_matrix(predicted.flatten(), y_test.flatten())"
   ]
  },
  {
   "cell_type": "markdown",
   "id": "6f5f328d-ad88-4376-9ae0-433ec88eccb4",
   "metadata": {},
   "source": [
    "## __Incorrect guesses__"
   ]
  },
  {
   "cell_type": "code",
   "execution_count": 64,
   "id": "26312974-1209-4d8e-95d3-06284064eb9a",
   "metadata": {},
   "outputs": [
    {
     "data": {
      "text/plain": [
       "246"
      ]
     },
     "execution_count": 64,
     "metadata": {},
     "output_type": "execute_result"
    }
   ],
   "source": [
    "incorrect = np.array([])\n",
    "for i in range(len(predicted.flatten())):\n",
    "    if predicted[i] != y_test[i]:\n",
    "        incorrect = np.append(incorrect,i).astype('int64')\n",
    "        \n",
    "# Display the number of misses\n",
    "len(incorrect)"
   ]
  },
  {
   "cell_type": "code",
   "execution_count": 65,
   "id": "8bc469ed-cf56-411a-bbcb-37678d07a851",
   "metadata": {},
   "outputs": [],
   "source": [
    "# Set up an iterator to feed batched rows\n",
    "r = 10\n",
    "batch = iter(np.array_split(incorrect,len(incorrect)//r+1))"
   ]
  },
  {
   "cell_type": "code",
   "execution_count": 70,
   "id": "951404c0-6c62-45e7-865e-e101588ac461",
   "metadata": {},
   "outputs": [
    {
     "name": "stdout",
     "output_type": "stream",
     "text": [
      "Index: [ 1395  1414  1464  1494  1522  1530  1549  1553  1609  1681]\n",
      "Label: [   2    9    8    7    7    8    4    9    2    3]\n",
      "Guess: [   3    7    3    0    9    7    6    3    3    7]\n"
     ]
    },
    {
     "data": {
      "image/png": "[encoded data removed]",
      "text/plain": [
       "<Figure size 1400x800 with 1 Axes>"
      ]
     },
     "metadata": {},
     "output_type": "display_data"
    }
   ],
   "source": [
    "nextrow = next(batch)\n",
    "print(\"Index:\", nextrow)\n",
    "print(\"Label:\", y_test.index_select(0,torch.tensor(nextrow)).numpy())\n",
    "print(\"Guess:\", predicted.index_select(0,torch.tensor(nextrow)).numpy())\n",
    "\n",
    "images = X_test.index_select(0, torch.tensor(nextrow))\n",
    "im = make_grid(images, nrow = r)\n",
    "plt.figure(figsize = (14, 8))\n",
    "plt.imshow(np.transpose(im.numpy(), (1, 2, 0)))\n",
    "plt.show()"
   ]
  },
  {
   "cell_type": "code",
   "execution_count": null,
   "id": "5a0c9da2-4224-4d5c-919a-bfe6dec27198",
   "metadata": {},
   "outputs": [],
   "source": []
  }
 ],
 "metadata": {
  "kernelspec": {
   "display_name": "Python 3 (ipykernel)",
   "language": "python",
   "name": "python3"
  },
  "language_info": {
   "codemirror_mode": {
    "name": "ipython",
    "version": 3
   },
   "file_extension": ".py",
   "mimetype": "text/x-python",
   "name": "python",
   "nbconvert_exporter": "python",
   "pygments_lexer": "ipython3",
   "version": "3.11.7"
  }
 },
 "nbformat": 4,
 "nbformat_minor": 5
}
