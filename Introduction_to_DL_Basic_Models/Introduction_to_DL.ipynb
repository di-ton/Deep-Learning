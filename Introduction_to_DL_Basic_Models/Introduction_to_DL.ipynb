{
 "cells": [
  {
   "cell_type": "code",
   "execution_count": 1,
   "id": "e55230cd-079a-4b3e-b7cb-e2e9ff891d0c",
   "metadata": {},
   "outputs": [],
   "source": [
    "%matplotlib inline"
   ]
  },
  {
   "cell_type": "code",
   "execution_count": 52,
   "id": "85d83357-bdb9-4dee-b68a-25f7b2e7e540",
   "metadata": {},
   "outputs": [],
   "source": [
    "import numpy as np\n",
    "import pandas as pd\n",
    "import matplotlib.pyplot as plt\n",
    "\n",
    "import tensorflow as tf\n",
    "import torch\n",
    "\n",
    "from sklearn.datasets import load_iris\n",
    "\n",
    "from tensorflow.keras.models import Sequential\n",
    "from tensorflow.keras.layers import Input, Dense, Flatten, Dropout"
   ]
  },
  {
   "cell_type": "markdown",
   "id": "107407cf-f7cd-4dc1-b26c-4c98359a16e1",
   "metadata": {},
   "source": [
    "# Introduction to Deep Learning. Basic Models"
   ]
  },
  {
   "cell_type": "code",
   "execution_count": 3,
   "id": "afc1674e-493c-440e-9b5c-e818ac695c3c",
   "metadata": {},
   "outputs": [
    {
     "data": {
      "text/plain": [
       "2"
      ]
     },
     "execution_count": 3,
     "metadata": {},
     "output_type": "execute_result"
    }
   ],
   "source": [
    "2 # scalar"
   ]
  },
  {
   "cell_type": "code",
   "execution_count": 4,
   "id": "5e5e5079-0daa-41d0-9b65-e492bfaa5bf8",
   "metadata": {},
   "outputs": [
    {
     "data": {
      "text/plain": [
       "[2, 3]"
      ]
     },
     "execution_count": 4,
     "metadata": {},
     "output_type": "execute_result"
    }
   ],
   "source": [
    "[2, 3] # vector"
   ]
  },
  {
   "cell_type": "code",
   "execution_count": 5,
   "id": "961648d2-465b-4839-8cd9-e1df0e0940a2",
   "metadata": {},
   "outputs": [
    {
     "data": {
      "text/plain": [
       "[[2, 3], [4, 5]]"
      ]
     },
     "execution_count": 5,
     "metadata": {},
     "output_type": "execute_result"
    }
   ],
   "source": [
    "[\n",
    "    [2, 3], \n",
    "    [4, 5]\n",
    "] # 2D matrix"
   ]
  },
  {
   "cell_type": "code",
   "execution_count": 6,
   "id": "90471176-97c3-42ba-b437-0abd86af06b6",
   "metadata": {},
   "outputs": [
    {
     "data": {
      "text/plain": [
       "[[[2, 3, 18], [2, 3, 18], [2, 3, 18], [2, 3, 18]], [Ellipsis], [Ellipsis]]"
      ]
     },
     "execution_count": 6,
     "metadata": {},
     "output_type": "execute_result"
    }
   ],
   "source": [
    "# multidimensional matrix = tensor\n",
    "[\n",
    "    [\n",
    "        [2, 3, 18],\n",
    "        [2, 3, 18],\n",
    "        [2, 3, 18],\n",
    "        [2, 3, 18]\n",
    "    ],\n",
    "    [...],\n",
    "    [...]\n",
    "]"
   ]
  },
  {
   "cell_type": "code",
   "execution_count": 7,
   "id": "d2e8b672-a7e3-48c2-86bf-194bf9b25c1d",
   "metadata": {},
   "outputs": [
    {
     "name": "stdout",
     "output_type": "stream",
     "text": [
      "8100\n"
     ]
    },
    {
     "data": {
      "text/plain": [
       "int"
      ]
     },
     "execution_count": 7,
     "metadata": {},
     "output_type": "execute_result"
    }
   ],
   "source": [
    "a, b = 15, 20\n",
    "print((2 * a + 3 * b) ** 2)\n",
    "type((2 * a + 3 * b) ** 2)"
   ]
  },
  {
   "cell_type": "code",
   "execution_count": 8,
   "id": "240bf1ac-8acd-4616-9bdb-932b3b6ea785",
   "metadata": {},
   "outputs": [
    {
     "name": "stdout",
     "output_type": "stream",
     "text": [
      "[8100]\n"
     ]
    },
    {
     "data": {
      "text/plain": [
       "numpy.ndarray"
      ]
     },
     "execution_count": 8,
     "metadata": {},
     "output_type": "execute_result"
    }
   ],
   "source": [
    "a, b = np.array([15]), np.array([20])\n",
    "print((2 * a + 3 * b) ** 2)\n",
    "type((2 * a + 3 * b) ** 2)"
   ]
  },
  {
   "cell_type": "code",
   "execution_count": 9,
   "id": "fd4ac48c-e7a0-48dc-82d3-76d2a1ca6e6e",
   "metadata": {},
   "outputs": [
    {
     "data": {
      "text/plain": [
       "array([8100,  625, 2116,  441])"
      ]
     },
     "execution_count": 9,
     "metadata": {},
     "output_type": "execute_result"
    }
   ],
   "source": [
    "a = np.array([15, 8, -4, 3])\n",
    "b = np.array([20, 3, 18, 5])\n",
    "(2 * a + 3 * b) ** 2"
   ]
  },
  {
   "cell_type": "code",
   "execution_count": 10,
   "id": "ee8854cb-7039-4549-a21e-cdbc05d72cf8",
   "metadata": {},
   "outputs": [
    {
     "name": "stdout",
     "output_type": "stream",
     "text": [
      "tf.Tensor(8100, shape=(), dtype=int32)\n"
     ]
    },
    {
     "data": {
      "text/plain": [
       "tensorflow.python.framework.ops.EagerTensor"
      ]
     },
     "execution_count": 10,
     "metadata": {},
     "output_type": "execute_result"
    }
   ],
   "source": [
    "a, b = tf.constant(15), tf.constant(20)\n",
    "print((2 * a + 3 * b) ** 2)\n",
    "type((2 * a + 3 * b) ** 2)"
   ]
  },
  {
   "cell_type": "code",
   "execution_count": 11,
   "id": "3efefa3b-4c07-4013-8c12-206a5bacc28f",
   "metadata": {},
   "outputs": [
    {
     "name": "stdout",
     "output_type": "stream",
     "text": [
      "tf.Tensor([8100  625 2116  441], shape=(4,), dtype=int32)\n"
     ]
    },
    {
     "data": {
      "text/plain": [
       "array([8100,  625, 2116,  441])"
      ]
     },
     "execution_count": 11,
     "metadata": {},
     "output_type": "execute_result"
    }
   ],
   "source": [
    "a = tf.constant([15, 8, -4, 3])\n",
    "b = tf.constant([20, 3, 18, 5])\n",
    "print((2 * a + 3 * b) ** 2)\n",
    "((2 * a + 3 * b) ** 2).numpy()"
   ]
  },
  {
   "cell_type": "code",
   "execution_count": 12,
   "id": "268d939c-6a25-426f-a3fc-a6b3c1dfc026",
   "metadata": {},
   "outputs": [
    {
     "name": "stdout",
     "output_type": "stream",
     "text": [
      "tensor(8100)\n"
     ]
    },
    {
     "data": {
      "text/plain": [
       "torch.Tensor"
      ]
     },
     "execution_count": 12,
     "metadata": {},
     "output_type": "execute_result"
    }
   ],
   "source": [
    "a, b = torch.tensor(15), torch.tensor(20)\n",
    "print((2 * a + 3 * b) ** 2)\n",
    "type((2 * a + 3 * b) ** 2)"
   ]
  },
  {
   "cell_type": "code",
   "execution_count": 13,
   "id": "66be1890-a13e-4f91-a8b2-76b07fd33833",
   "metadata": {},
   "outputs": [
    {
     "name": "stdout",
     "output_type": "stream",
     "text": [
      "2.5.1+cpu\n"
     ]
    }
   ],
   "source": [
    "\n",
    "print(torch.__version__)\n"
   ]
  },
  {
   "cell_type": "markdown",
   "id": "d33e8ed4-ac52-4d60-a4c1-92a3199e1b91",
   "metadata": {},
   "source": [
    "__Iris dataset__"
   ]
  },
  {
   "cell_type": "markdown",
   "id": "48a41d2c-2ef9-41b9-9f38-d64adbe07a91",
   "metadata": {},
   "source": [
    "# tensorflow"
   ]
  },
  {
   "cell_type": "code",
   "execution_count": 14,
   "id": "06007d65-678d-4594-9fef-6d09ee949373",
   "metadata": {},
   "outputs": [],
   "source": [
    "iris_data = load_iris()"
   ]
  },
  {
   "cell_type": "code",
   "execution_count": 15,
   "id": "1c8368d4-f6f7-428d-b482-acd8a58a6b09",
   "metadata": {},
   "outputs": [],
   "source": [
    "attributes, labels = iris_data[\"data\"], iris_data[\"target\"]"
   ]
  },
  {
   "cell_type": "code",
   "execution_count": 16,
   "id": "5cb5fc4f-2f39-475e-8882-cb8e9843c0a2",
   "metadata": {
    "scrolled": true
   },
   "outputs": [],
   "source": [
    "# tf.Variable(attributes)"
   ]
  },
  {
   "cell_type": "code",
   "execution_count": 17,
   "id": "678d67ee-d68b-4dd3-977a-b78681a5c86c",
   "metadata": {},
   "outputs": [
    {
     "data": {
      "text/plain": [
       "4"
      ]
     },
     "execution_count": 17,
     "metadata": {},
     "output_type": "execute_result"
    }
   ],
   "source": [
    "attributes.shape[1] # number of features"
   ]
  },
  {
   "cell_type": "code",
   "execution_count": 18,
   "id": "b40f709b-dce0-43d1-8981-6fd7da07eb3b",
   "metadata": {},
   "outputs": [
    {
     "data": {
      "text/plain": [
       "3"
      ]
     },
     "execution_count": 18,
     "metadata": {},
     "output_type": "execute_result"
    }
   ],
   "source": [
    "len(set(labels)) # number of classes"
   ]
  },
  {
   "cell_type": "code",
   "execution_count": 19,
   "id": "223ab755-b9a7-47f1-b14e-919c062e267a",
   "metadata": {},
   "outputs": [],
   "source": [
    "# tf.keras.backend.clear_session() # save the earliar models"
   ]
  },
  {
   "cell_type": "code",
   "execution_count": 39,
   "id": "1ac00d5c-a055-49fa-bd07-a3d0afd58e4e",
   "metadata": {},
   "outputs": [],
   "source": [
    "model_tf = Sequential([\n",
    "    Input((attributes.shape[1],)), # input layer\n",
    "    Dense(len(set(labels)), activation = \"softmax\") # output layer\n",
    "])"
   ]
  },
  {
   "cell_type": "code",
   "execution_count": 21,
   "id": "28e33d7c-eac1-427e-9699-bff13fef4264",
   "metadata": {},
   "outputs": [
    {
     "data": {
      "text/html": [
       "<pre style=\"white-space:pre;overflow-x:auto;line-height:normal;font-family:Menlo,'DejaVu Sans Mono',consolas,'Courier New',monospace\"><span style=\"font-weight: bold\">Model: \"sequential\"</span>\n",
       "</pre>\n"
      ],
      "text/plain": [
       "\u001b[1mModel: \"sequential\"\u001b[0m\n"
      ]
     },
     "metadata": {},
     "output_type": "display_data"
    },
    {
     "data": {
      "text/html": [
       "<pre style=\"white-space:pre;overflow-x:auto;line-height:normal;font-family:Menlo,'DejaVu Sans Mono',consolas,'Courier New',monospace\">┏━━━━━━━━━━━━━━━━━━━━━━━━━━━━━━━━━━━━━━┳━━━━━━━━━━━━━━━━━━━━━━━━━━━━━┳━━━━━━━━━━━━━━━━━┓\n",
       "┃<span style=\"font-weight: bold\"> Layer (type)                         </span>┃<span style=\"font-weight: bold\"> Output Shape                </span>┃<span style=\"font-weight: bold\">         Param # </span>┃\n",
       "┡━━━━━━━━━━━━━━━━━━━━━━━━━━━━━━━━━━━━━━╇━━━━━━━━━━━━━━━━━━━━━━━━━━━━━╇━━━━━━━━━━━━━━━━━┩\n",
       "│ dense (<span style=\"color: #0087ff; text-decoration-color: #0087ff\">Dense</span>)                        │ (<span style=\"color: #00d7ff; text-decoration-color: #00d7ff\">None</span>, <span style=\"color: #00af00; text-decoration-color: #00af00\">3</span>)                   │              <span style=\"color: #00af00; text-decoration-color: #00af00\">15</span> │\n",
       "└──────────────────────────────────────┴─────────────────────────────┴─────────────────┘\n",
       "</pre>\n"
      ],
      "text/plain": [
       "┏━━━━━━━━━━━━━━━━━━━━━━━━━━━━━━━━━━━━━━┳━━━━━━━━━━━━━━━━━━━━━━━━━━━━━┳━━━━━━━━━━━━━━━━━┓\n",
       "┃\u001b[1m \u001b[0m\u001b[1mLayer (type)                        \u001b[0m\u001b[1m \u001b[0m┃\u001b[1m \u001b[0m\u001b[1mOutput Shape               \u001b[0m\u001b[1m \u001b[0m┃\u001b[1m \u001b[0m\u001b[1m        Param #\u001b[0m\u001b[1m \u001b[0m┃\n",
       "┡━━━━━━━━━━━━━━━━━━━━━━━━━━━━━━━━━━━━━━╇━━━━━━━━━━━━━━━━━━━━━━━━━━━━━╇━━━━━━━━━━━━━━━━━┩\n",
       "│ dense (\u001b[38;5;33mDense\u001b[0m)                        │ (\u001b[38;5;45mNone\u001b[0m, \u001b[38;5;34m3\u001b[0m)                   │              \u001b[38;5;34m15\u001b[0m │\n",
       "└──────────────────────────────────────┴─────────────────────────────┴─────────────────┘\n"
      ]
     },
     "metadata": {},
     "output_type": "display_data"
    },
    {
     "data": {
      "text/html": [
       "<pre style=\"white-space:pre;overflow-x:auto;line-height:normal;font-family:Menlo,'DejaVu Sans Mono',consolas,'Courier New',monospace\"><span style=\"font-weight: bold\"> Total params: </span><span style=\"color: #00af00; text-decoration-color: #00af00\">15</span> (60.00 B)\n",
       "</pre>\n"
      ],
      "text/plain": [
       "\u001b[1m Total params: \u001b[0m\u001b[38;5;34m15\u001b[0m (60.00 B)\n"
      ]
     },
     "metadata": {},
     "output_type": "display_data"
    },
    {
     "data": {
      "text/html": [
       "<pre style=\"white-space:pre;overflow-x:auto;line-height:normal;font-family:Menlo,'DejaVu Sans Mono',consolas,'Courier New',monospace\"><span style=\"font-weight: bold\"> Trainable params: </span><span style=\"color: #00af00; text-decoration-color: #00af00\">15</span> (60.00 B)\n",
       "</pre>\n"
      ],
      "text/plain": [
       "\u001b[1m Trainable params: \u001b[0m\u001b[38;5;34m15\u001b[0m (60.00 B)\n"
      ]
     },
     "metadata": {},
     "output_type": "display_data"
    },
    {
     "data": {
      "text/html": [
       "<pre style=\"white-space:pre;overflow-x:auto;line-height:normal;font-family:Menlo,'DejaVu Sans Mono',consolas,'Courier New',monospace\"><span style=\"font-weight: bold\"> Non-trainable params: </span><span style=\"color: #00af00; text-decoration-color: #00af00\">0</span> (0.00 B)\n",
       "</pre>\n"
      ],
      "text/plain": [
       "\u001b[1m Non-trainable params: \u001b[0m\u001b[38;5;34m0\u001b[0m (0.00 B)\n"
      ]
     },
     "metadata": {},
     "output_type": "display_data"
    }
   ],
   "source": [
    "model_tf.summary()"
   ]
  },
  {
   "cell_type": "code",
   "execution_count": 22,
   "id": "a8e92d53-24be-48f9-a452-8fc6d7febd3b",
   "metadata": {},
   "outputs": [],
   "source": [
    "model_tf.compile(loss = \"sparse_categorical_crossentropy\", optimizer = \"adam\", metrics = [\"accuracy\"])"
   ]
  },
  {
   "cell_type": "markdown",
   "id": "71725b3a-498f-4129-b991-76883939764b",
   "metadata": {},
   "source": [
    "The task of NN is defined by the loss function."
   ]
  },
  {
   "cell_type": "code",
   "execution_count": 23,
   "id": "5dbf5acf-af9e-49c3-b893-74d98c572e90",
   "metadata": {},
   "outputs": [],
   "source": [
    "# model_tf.fit(attributes, labels) # fit is partial fit"
   ]
  },
  {
   "cell_type": "code",
   "execution_count": 24,
   "id": "59716d56-da27-47d6-a8fe-fcc9b6562c39",
   "metadata": {
    "scrolled": true
   },
   "outputs": [
    {
     "name": "stdout",
     "output_type": "stream",
     "text": [
      "Epoch 1/50\n",
      "\u001b[1m19/19\u001b[0m \u001b[32m━━━━━━━━━━━━━━━━━━━━\u001b[0m\u001b[37m\u001b[0m \u001b[1m1s\u001b[0m 3ms/step - accuracy: 0.4099 - loss: 3.4562   \n",
      "Epoch 2/50\n",
      "\u001b[1m19/19\u001b[0m \u001b[32m━━━━━━━━━━━━━━━━━━━━\u001b[0m\u001b[37m\u001b[0m \u001b[1m0s\u001b[0m 3ms/step - accuracy: 0.4656 - loss: 2.9346 \n",
      "Epoch 3/50\n",
      "\u001b[1m19/19\u001b[0m \u001b[32m━━━━━━━━━━━━━━━━━━━━\u001b[0m\u001b[37m\u001b[0m \u001b[1m0s\u001b[0m 2ms/step - accuracy: 0.3982 - loss: 2.9336 \n",
      "Epoch 4/50\n",
      "\u001b[1m19/19\u001b[0m \u001b[32m━━━━━━━━━━━━━━━━━━━━\u001b[0m\u001b[37m\u001b[0m \u001b[1m0s\u001b[0m 4ms/step - accuracy: 0.3759 - loss: 2.8560 \n",
      "Epoch 5/50\n",
      "\u001b[1m19/19\u001b[0m \u001b[32m━━━━━━━━━━━━━━━━━━━━\u001b[0m\u001b[37m\u001b[0m \u001b[1m0s\u001b[0m 3ms/step - accuracy: 0.3170 - loss: 3.1183 \n",
      "Epoch 6/50\n",
      "\u001b[1m19/19\u001b[0m \u001b[32m━━━━━━━━━━━━━━━━━━━━\u001b[0m\u001b[37m\u001b[0m \u001b[1m0s\u001b[0m 3ms/step - accuracy: 0.3401 - loss: 2.9293 \n",
      "Epoch 7/50\n",
      "\u001b[1m19/19\u001b[0m \u001b[32m━━━━━━━━━━━━━━━━━━━━\u001b[0m\u001b[37m\u001b[0m \u001b[1m0s\u001b[0m 4ms/step - accuracy: 0.3405 - loss: 2.5779 \n",
      "Epoch 8/50\n",
      "\u001b[1m19/19\u001b[0m \u001b[32m━━━━━━━━━━━━━━━━━━━━\u001b[0m\u001b[37m\u001b[0m \u001b[1m0s\u001b[0m 4ms/step - accuracy: 0.3497 - loss: 2.6228 \n",
      "Epoch 9/50\n",
      "\u001b[1m19/19\u001b[0m \u001b[32m━━━━━━━━━━━━━━━━━━━━\u001b[0m\u001b[37m\u001b[0m \u001b[1m0s\u001b[0m 3ms/step - accuracy: 0.3226 - loss: 2.5000 \n",
      "Epoch 10/50\n",
      "\u001b[1m19/19\u001b[0m \u001b[32m━━━━━━━━━━━━━━━━━━━━\u001b[0m\u001b[37m\u001b[0m \u001b[1m0s\u001b[0m 4ms/step - accuracy: 0.3142 - loss: 2.3443 \n",
      "Epoch 11/50\n",
      "\u001b[1m19/19\u001b[0m \u001b[32m━━━━━━━━━━━━━━━━━━━━\u001b[0m\u001b[37m\u001b[0m \u001b[1m0s\u001b[0m 4ms/step - accuracy: 0.3814 - loss: 1.9762 \n",
      "Epoch 12/50\n",
      "\u001b[1m19/19\u001b[0m \u001b[32m━━━━━━━━━━━━━━━━━━━━\u001b[0m\u001b[37m\u001b[0m \u001b[1m0s\u001b[0m 4ms/step - accuracy: 0.3131 - loss: 2.2316 \n",
      "Epoch 13/50\n",
      "\u001b[1m19/19\u001b[0m \u001b[32m━━━━━━━━━━━━━━━━━━━━\u001b[0m\u001b[37m\u001b[0m \u001b[1m0s\u001b[0m 3ms/step - accuracy: 0.3101 - loss: 2.1475 \n",
      "Epoch 14/50\n",
      "\u001b[1m19/19\u001b[0m \u001b[32m━━━━━━━━━━━━━━━━━━━━\u001b[0m\u001b[37m\u001b[0m \u001b[1m0s\u001b[0m 2ms/step - accuracy: 0.3518 - loss: 1.8213 \n",
      "Epoch 15/50\n",
      "\u001b[1m19/19\u001b[0m \u001b[32m━━━━━━━━━━━━━━━━━━━━\u001b[0m\u001b[37m\u001b[0m \u001b[1m0s\u001b[0m 4ms/step - accuracy: 0.2934 - loss: 1.8196 \n",
      "Epoch 16/50\n",
      "\u001b[1m19/19\u001b[0m \u001b[32m━━━━━━━━━━━━━━━━━━━━\u001b[0m\u001b[37m\u001b[0m \u001b[1m0s\u001b[0m 3ms/step - accuracy: 0.3806 - loss: 1.6141 \n",
      "Epoch 17/50\n",
      "\u001b[1m19/19\u001b[0m \u001b[32m━━━━━━━━━━━━━━━━━━━━\u001b[0m\u001b[37m\u001b[0m \u001b[1m0s\u001b[0m 3ms/step - accuracy: 0.3159 - loss: 1.5843 \n",
      "Epoch 18/50\n",
      "\u001b[1m19/19\u001b[0m \u001b[32m━━━━━━━━━━━━━━━━━━━━\u001b[0m\u001b[37m\u001b[0m \u001b[1m0s\u001b[0m 6ms/step - accuracy: 0.3559 - loss: 1.6080\n",
      "Epoch 19/50\n",
      "\u001b[1m19/19\u001b[0m \u001b[32m━━━━━━━━━━━━━━━━━━━━\u001b[0m\u001b[37m\u001b[0m \u001b[1m0s\u001b[0m 4ms/step - accuracy: 0.3662 - loss: 1.4263 \n",
      "Epoch 20/50\n",
      "\u001b[1m19/19\u001b[0m \u001b[32m━━━━━━━━━━━━━━━━━━━━\u001b[0m\u001b[37m\u001b[0m \u001b[1m0s\u001b[0m 3ms/step - accuracy: 0.3656 - loss: 1.3619 \n",
      "Epoch 21/50\n",
      "\u001b[1m19/19\u001b[0m \u001b[32m━━━━━━━━━━━━━━━━━━━━\u001b[0m\u001b[37m\u001b[0m \u001b[1m0s\u001b[0m 3ms/step - accuracy: 0.3438 - loss: 1.4209 \n",
      "Epoch 22/50\n",
      "\u001b[1m19/19\u001b[0m \u001b[32m━━━━━━━━━━━━━━━━━━━━\u001b[0m\u001b[37m\u001b[0m \u001b[1m0s\u001b[0m 4ms/step - accuracy: 0.3385 - loss: 1.3940\n",
      "Epoch 23/50\n",
      "\u001b[1m19/19\u001b[0m \u001b[32m━━━━━━━━━━━━━━━━━━━━\u001b[0m\u001b[37m\u001b[0m \u001b[1m0s\u001b[0m 2ms/step - accuracy: 0.3385 - loss: 1.3711 \n",
      "Epoch 24/50\n",
      "\u001b[1m19/19\u001b[0m \u001b[32m━━━━━━━━━━━━━━━━━━━━\u001b[0m\u001b[37m\u001b[0m \u001b[1m0s\u001b[0m 5ms/step - accuracy: 0.3895 - loss: 1.2614 \n",
      "Epoch 25/50\n",
      "\u001b[1m19/19\u001b[0m \u001b[32m━━━━━━━━━━━━━━━━━━━━\u001b[0m\u001b[37m\u001b[0m \u001b[1m0s\u001b[0m 5ms/step - accuracy: 0.3313 - loss: 1.2622 \n",
      "Epoch 26/50\n",
      "\u001b[1m19/19\u001b[0m \u001b[32m━━━━━━━━━━━━━━━━━━━━\u001b[0m\u001b[37m\u001b[0m \u001b[1m0s\u001b[0m 3ms/step - accuracy: 0.3622 - loss: 1.1961 \n",
      "Epoch 27/50\n",
      "\u001b[1m19/19\u001b[0m \u001b[32m━━━━━━━━━━━━━━━━━━━━\u001b[0m\u001b[37m\u001b[0m \u001b[1m0s\u001b[0m 4ms/step - accuracy: 0.2975 - loss: 1.2367     \n",
      "Epoch 28/50\n",
      "\u001b[1m19/19\u001b[0m \u001b[32m━━━━━━━━━━━━━━━━━━━━\u001b[0m\u001b[37m\u001b[0m \u001b[1m0s\u001b[0m 4ms/step - accuracy: 0.2885 - loss: 1.2549 \n",
      "Epoch 29/50\n",
      "\u001b[1m19/19\u001b[0m \u001b[32m━━━━━━━━━━━━━━━━━━━━\u001b[0m\u001b[37m\u001b[0m \u001b[1m0s\u001b[0m 4ms/step - accuracy: 0.3711 - loss: 1.1171 \n",
      "Epoch 30/50\n",
      "\u001b[1m19/19\u001b[0m \u001b[32m━━━━━━━━━━━━━━━━━━━━\u001b[0m\u001b[37m\u001b[0m \u001b[1m0s\u001b[0m 2ms/step - accuracy: 0.3812 - loss: 1.1150 \n",
      "Epoch 31/50\n",
      "\u001b[1m19/19\u001b[0m \u001b[32m━━━━━━━━━━━━━━━━━━━━\u001b[0m\u001b[37m\u001b[0m \u001b[1m0s\u001b[0m 3ms/step - accuracy: 0.3792 - loss: 1.0825 \n",
      "Epoch 32/50\n",
      "\u001b[1m19/19\u001b[0m \u001b[32m━━━━━━━━━━━━━━━━━━━━\u001b[0m\u001b[37m\u001b[0m \u001b[1m0s\u001b[0m 2ms/step - accuracy: 0.3995 - loss: 1.0639 \n",
      "Epoch 33/50\n",
      "\u001b[1m19/19\u001b[0m \u001b[32m━━━━━━━━━━━━━━━━━━━━\u001b[0m\u001b[37m\u001b[0m \u001b[1m0s\u001b[0m 3ms/step - accuracy: 0.4148 - loss: 1.0233 \n",
      "Epoch 34/50\n",
      "\u001b[1m19/19\u001b[0m \u001b[32m━━━━━━━━━━━━━━━━━━━━\u001b[0m\u001b[37m\u001b[0m \u001b[1m0s\u001b[0m 3ms/step - accuracy: 0.3208 - loss: 1.0600 \n",
      "Epoch 35/50\n",
      "\u001b[1m19/19\u001b[0m \u001b[32m━━━━━━━━━━━━━━━━━━━━\u001b[0m\u001b[37m\u001b[0m \u001b[1m0s\u001b[0m 3ms/step - accuracy: 0.3255 - loss: 1.0500 \n",
      "Epoch 36/50\n",
      "\u001b[1m19/19\u001b[0m \u001b[32m━━━━━━━━━━━━━━━━━━━━\u001b[0m\u001b[37m\u001b[0m \u001b[1m0s\u001b[0m 3ms/step - accuracy: 0.3876 - loss: 0.9825 \n",
      "Epoch 37/50\n",
      "\u001b[1m19/19\u001b[0m \u001b[32m━━━━━━━━━━━━━━━━━━━━\u001b[0m\u001b[37m\u001b[0m \u001b[1m0s\u001b[0m 5ms/step - accuracy: 0.3625 - loss: 0.9689 \n",
      "Epoch 38/50\n",
      "\u001b[1m19/19\u001b[0m \u001b[32m━━━━━━━━━━━━━━━━━━━━\u001b[0m\u001b[37m\u001b[0m \u001b[1m0s\u001b[0m 4ms/step - accuracy: 0.3821 - loss: 0.9502 \n",
      "Epoch 39/50\n",
      "\u001b[1m19/19\u001b[0m \u001b[32m━━━━━━━━━━━━━━━━━━━━\u001b[0m\u001b[37m\u001b[0m \u001b[1m0s\u001b[0m 5ms/step - accuracy: 0.3241 - loss: 0.9574 \n",
      "Epoch 40/50\n",
      "\u001b[1m19/19\u001b[0m \u001b[32m━━━━━━━━━━━━━━━━━━━━\u001b[0m\u001b[37m\u001b[0m \u001b[1m0s\u001b[0m 3ms/step - accuracy: 0.3061 - loss: 0.9456 \n",
      "Epoch 41/50\n",
      "\u001b[1m19/19\u001b[0m \u001b[32m━━━━━━━━━━━━━━━━━━━━\u001b[0m\u001b[37m\u001b[0m \u001b[1m0s\u001b[0m 3ms/step - accuracy: 0.3887 - loss: 0.8891 \n",
      "Epoch 42/50\n",
      "\u001b[1m19/19\u001b[0m \u001b[32m━━━━━━━━━━━━━━━━━━━━\u001b[0m\u001b[37m\u001b[0m \u001b[1m0s\u001b[0m 4ms/step - accuracy: 0.3206 - loss: 0.9128 \n",
      "Epoch 43/50\n",
      "\u001b[1m19/19\u001b[0m \u001b[32m━━━━━━━━━━━━━━━━━━━━\u001b[0m\u001b[37m\u001b[0m \u001b[1m0s\u001b[0m 3ms/step - accuracy: 0.3861 - loss: 0.8707 \n",
      "Epoch 44/50\n",
      "\u001b[1m19/19\u001b[0m \u001b[32m━━━━━━━━━━━━━━━━━━━━\u001b[0m\u001b[37m\u001b[0m \u001b[1m0s\u001b[0m 3ms/step - accuracy: 0.3831 - loss: 0.8736 \n",
      "Epoch 45/50\n",
      "\u001b[1m19/19\u001b[0m \u001b[32m━━━━━━━━━━━━━━━━━━━━\u001b[0m\u001b[37m\u001b[0m \u001b[1m0s\u001b[0m 3ms/step - accuracy: 0.4151 - loss: 0.8441 \n",
      "Epoch 46/50\n",
      "\u001b[1m19/19\u001b[0m \u001b[32m━━━━━━━━━━━━━━━━━━━━\u001b[0m\u001b[37m\u001b[0m \u001b[1m0s\u001b[0m 4ms/step - accuracy: 0.4278 - loss: 0.8696 \n",
      "Epoch 47/50\n",
      "\u001b[1m19/19\u001b[0m \u001b[32m━━━━━━━━━━━━━━━━━━━━\u001b[0m\u001b[37m\u001b[0m \u001b[1m0s\u001b[0m 4ms/step - accuracy: 0.5647 - loss: 0.8270 \n",
      "Epoch 48/50\n",
      "\u001b[1m19/19\u001b[0m \u001b[32m━━━━━━━━━━━━━━━━━━━━\u001b[0m\u001b[37m\u001b[0m \u001b[1m0s\u001b[0m 17ms/step - accuracy: 0.6205 - loss: 0.8314 \n",
      "Epoch 49/50\n",
      "\u001b[1m19/19\u001b[0m \u001b[32m━━━━━━━━━━━━━━━━━━━━\u001b[0m\u001b[37m\u001b[0m \u001b[1m0s\u001b[0m 3ms/step - accuracy: 0.6316 - loss: 0.8179 \n",
      "Epoch 50/50\n",
      "\u001b[1m19/19\u001b[0m \u001b[32m━━━━━━━━━━━━━━━━━━━━\u001b[0m\u001b[37m\u001b[0m \u001b[1m0s\u001b[0m 4ms/step - accuracy: 0.6990 - loss: 0.7737 \n"
     ]
    },
    {
     "data": {
      "text/plain": [
       "<keras.src.callbacks.history.History at 0x2e833b66510>"
      ]
     },
     "execution_count": 24,
     "metadata": {},
     "output_type": "execute_result"
    }
   ],
   "source": [
    "model_tf.fit(attributes, labels, batch_size = 8, epochs = 50)"
   ]
  },
  {
   "cell_type": "code",
   "execution_count": 25,
   "id": "08dd7367-1021-49e2-9468-11be3c0bfa8e",
   "metadata": {
    "scrolled": true
   },
   "outputs": [
    {
     "name": "stdout",
     "output_type": "stream",
     "text": [
      "\u001b[1m5/5\u001b[0m \u001b[32m━━━━━━━━━━━━━━━━━━━━\u001b[0m\u001b[37m\u001b[0m \u001b[1m0s\u001b[0m 16ms/step\n"
     ]
    },
    {
     "data": {
      "text/plain": [
       "array([[0.48882157, 0.39331114, 0.11786736],\n",
       "       [0.4800382 , 0.38059238, 0.13936949],\n",
       "       [0.49410182, 0.38012046, 0.12577775],\n",
       "       [0.48896658, 0.36787647, 0.14315696],\n",
       "       [0.4945038 , 0.39090863, 0.11458753],\n",
       "       [0.45418176, 0.42670128, 0.11911701],\n",
       "       [0.4852481 , 0.38981837, 0.12493347],\n",
       "       [0.4867825 , 0.3850522 , 0.12816532],\n",
       "       [0.49082026, 0.36256433, 0.1466154 ],\n",
       "       [0.49565446, 0.36372104, 0.14062445],\n",
       "       [0.48345676, 0.40207225, 0.11447099],\n",
       "       [0.49012414, 0.37446353, 0.13541242],\n",
       "       [0.49794096, 0.36301744, 0.13904162],\n",
       "       [0.5195584 , 0.35745752, 0.12298398],\n",
       "       [0.4829765 , 0.42901888, 0.08800456],\n",
       "       [0.459872  , 0.44967076, 0.09045726],\n",
       "       [0.46029663, 0.44162634, 0.09807706],\n",
       "       [0.47338167, 0.40816116, 0.11845715],\n",
       "       [0.45808095, 0.42100078, 0.12091827],\n",
       "       [0.479522  , 0.40766987, 0.1128082 ],\n",
       "       [0.47067738, 0.39079395, 0.13852865],\n",
       "       [0.46140543, 0.42159653, 0.11699805],\n",
       "       [0.51336837, 0.3907117 , 0.09591992],\n",
       "       [0.4310083 , 0.42256373, 0.14642788],\n",
       "       [0.48194286, 0.36245736, 0.15559974],\n",
       "       [0.47193956, 0.375759  , 0.15230143],\n",
       "       [0.45407692, 0.41030058, 0.13562253],\n",
       "       [0.48385456, 0.39302507, 0.12312041],\n",
       "       [0.48312062, 0.39565942, 0.12121999],\n",
       "       [0.48667383, 0.36855358, 0.14477254],\n",
       "       [0.48068902, 0.37051606, 0.14879489],\n",
       "       [0.44459957, 0.42837474, 0.12702565],\n",
       "       [0.5154513 , 0.38386622, 0.10068242],\n",
       "       [0.49446508, 0.4133939 , 0.09214097],\n",
       "       [0.4805847 , 0.37791467, 0.14150064],\n",
       "       [0.48747867, 0.39404145, 0.11847987],\n",
       "       [0.47878575, 0.41077986, 0.11043442],\n",
       "       [0.51288384, 0.3728121 , 0.11430405],\n",
       "       [0.4966605 , 0.36772496, 0.13561448],\n",
       "       [0.48389924, 0.38845432, 0.12764648],\n",
       "       [0.47819218, 0.40841633, 0.11339147],\n",
       "       [0.45618024, 0.3749672 , 0.1688526 ],\n",
       "       [0.50272286, 0.37002623, 0.12725091],\n",
       "       [0.42656898, 0.44131735, 0.13211371],\n",
       "       [0.4560791 , 0.4068664 , 0.13705452],\n",
       "       [0.46774626, 0.39158738, 0.14066647],\n",
       "       [0.4931049 , 0.38915655, 0.11773849],\n",
       "       [0.49462992, 0.37299594, 0.13237408],\n",
       "       [0.48642278, 0.39862084, 0.11495641],\n",
       "       [0.48611012, 0.38768572, 0.12620418],\n",
       "       [0.18195026, 0.37681952, 0.44123027],\n",
       "       [0.18882918, 0.38765368, 0.42351717],\n",
       "       [0.16488555, 0.35786226, 0.4772522 ],\n",
       "       [0.20526966, 0.33880493, 0.4559254 ],\n",
       "       [0.17090178, 0.35839343, 0.47070485],\n",
       "       [0.19907501, 0.32481766, 0.47610736],\n",
       "       [0.17792225, 0.3805376 , 0.44154012],\n",
       "       [0.27892083, 0.35423037, 0.3668488 ],\n",
       "       [0.1881561 , 0.34768313, 0.46416074],\n",
       "       [0.2197229 , 0.3693984 , 0.41087875],\n",
       "       [0.2505177 , 0.32329682, 0.42618552],\n",
       "       [0.20000711, 0.38978067, 0.41021225],\n",
       "       [0.22067083, 0.31955674, 0.45977238],\n",
       "       [0.18178083, 0.3326329 , 0.4855863 ],\n",
       "       [0.24266881, 0.40783364, 0.34949756],\n",
       "       [0.19372354, 0.39109662, 0.4151798 ],\n",
       "       [0.19162041, 0.35170096, 0.45667857],\n",
       "       [0.23882343, 0.32915428, 0.4320223 ],\n",
       "       [0.15830766, 0.32499298, 0.5166994 ],\n",
       "       [0.23385243, 0.34089395, 0.42525357],\n",
       "       [0.16097687, 0.37187552, 0.46714756],\n",
       "       [0.21573165, 0.38330236, 0.400966  ],\n",
       "       [0.15117978, 0.3057059 , 0.54311436],\n",
       "       [0.19326335, 0.30887145, 0.49786517],\n",
       "       [0.20301561, 0.3700293 , 0.42695504],\n",
       "       [0.19168426, 0.38244385, 0.42587194],\n",
       "       [0.16707961, 0.3381755 , 0.49474493],\n",
       "       [0.14680414, 0.3544368 , 0.4987591 ],\n",
       "       [0.18360025, 0.3584975 , 0.45790225],\n",
       "       [0.26462588, 0.3719793 , 0.36339483],\n",
       "       [0.23596168, 0.34172693, 0.4223114 ],\n",
       "       [0.2502573 , 0.3399936 , 0.409749  ],\n",
       "       [0.22959855, 0.36721635, 0.4031851 ],\n",
       "       [0.1459369 , 0.29763752, 0.55642563],\n",
       "       [0.19393457, 0.3456101 , 0.4604553 ],\n",
       "       [0.19218501, 0.39624852, 0.41156653],\n",
       "       [0.17456062, 0.3717407 , 0.4536986 ],\n",
       "       [0.17876638, 0.32508007, 0.49615362],\n",
       "       [0.2257313 , 0.36844912, 0.40581957],\n",
       "       [0.21277374, 0.34912682, 0.43809947],\n",
       "       [0.20634545, 0.30847728, 0.48517725],\n",
       "       [0.1895423 , 0.34763572, 0.462822  ],\n",
       "       [0.22139645, 0.3532828 , 0.4253208 ],\n",
       "       [0.27312866, 0.35306296, 0.3738084 ],\n",
       "       [0.2100961 , 0.34416157, 0.4457424 ],\n",
       "       [0.22905174, 0.35221237, 0.41873583],\n",
       "       [0.21630332, 0.35747707, 0.42621955],\n",
       "       [0.20555495, 0.36377585, 0.4306692 ],\n",
       "       [0.2818047 , 0.40008333, 0.31811196],\n",
       "       [0.21695384, 0.3615039 , 0.4215422 ],\n",
       "       [0.08674143, 0.32288978, 0.59036875],\n",
       "       [0.13016948, 0.3172007 , 0.5526298 ],\n",
       "       [0.0947198 , 0.3051081 , 0.6001721 ],\n",
       "       [0.11999517, 0.28444144, 0.5955634 ],\n",
       "       [0.09662704, 0.30691972, 0.59645325],\n",
       "       [0.07384083, 0.24680069, 0.67935854],\n",
       "       [0.16692203, 0.3220408 , 0.5110372 ],\n",
       "       [0.09155385, 0.24240646, 0.66603976],\n",
       "       [0.10026312, 0.25242326, 0.6473137 ],\n",
       "       [0.08547825, 0.35823345, 0.5562883 ],\n",
       "       [0.13251075, 0.37801918, 0.48947003],\n",
       "       [0.11907618, 0.31368268, 0.5672412 ],\n",
       "       [0.10792091, 0.33965698, 0.55242205],\n",
       "       [0.12336996, 0.32100284, 0.55562717],\n",
       "       [0.10690895, 0.3670552 , 0.52603585],\n",
       "       [0.11117604, 0.38055325, 0.5082707 ],\n",
       "       [0.12498512, 0.3058363 , 0.56917864],\n",
       "       [0.08352529, 0.29497367, 0.621501  ],\n",
       "       [0.05440888, 0.211089  , 0.73450214],\n",
       "       [0.13971727, 0.2712801 , 0.58900267],\n",
       "       [0.09719417, 0.35068977, 0.55211604],\n",
       "       [0.13579804, 0.34692374, 0.51727825],\n",
       "       [0.07012898, 0.22212215, 0.7077489 ],\n",
       "       [0.1389667 , 0.34376723, 0.51726604],\n",
       "       [0.10987765, 0.33422804, 0.55589426],\n",
       "       [0.10901598, 0.28639132, 0.60459274],\n",
       "       [0.14621542, 0.35722962, 0.49655497],\n",
       "       [0.1494657 , 0.35584033, 0.494694  ],\n",
       "       [0.10265401, 0.3047814 , 0.5925645 ],\n",
       "       [0.1200134 , 0.27909473, 0.6008918 ],\n",
       "       [0.0909136 , 0.26532137, 0.643765  ],\n",
       "       [0.09850097, 0.31694183, 0.58455724],\n",
       "       [0.09830759, 0.31277636, 0.5889161 ],\n",
       "       [0.15288651, 0.30323428, 0.5438792 ],\n",
       "       [0.1326793 , 0.2336327 , 0.6336881 ],\n",
       "       [0.07901479, 0.3159589 , 0.60502636],\n",
       "       [0.10344446, 0.36588416, 0.53067136],\n",
       "       [0.12852697, 0.3089903 , 0.56248266],\n",
       "       [0.15397376, 0.36311212, 0.4829141 ],\n",
       "       [0.11249586, 0.36014107, 0.52736306],\n",
       "       [0.09455162, 0.3578873 , 0.5475611 ],\n",
       "       [0.11043573, 0.41243595, 0.47712833],\n",
       "       [0.13016948, 0.3172007 , 0.5526298 ],\n",
       "       [0.09251878, 0.3255001 , 0.5819811 ],\n",
       "       [0.09191656, 0.36869308, 0.5393904 ],\n",
       "       [0.10722148, 0.3879066 , 0.50487196],\n",
       "       [0.12435193, 0.32985225, 0.54579586],\n",
       "       [0.12419872, 0.3545347 , 0.5212665 ],\n",
       "       [0.11449614, 0.37631708, 0.5091868 ],\n",
       "       [0.14397533, 0.32933637, 0.5266883 ]], dtype=float32)"
      ]
     },
     "execution_count": 25,
     "metadata": {},
     "output_type": "execute_result"
    }
   ],
   "source": [
    "model_tf.predict(attributes)"
   ]
  },
  {
   "cell_type": "code",
   "execution_count": 26,
   "id": "ff3bb5a7-dccc-4196-b9bb-b284bb8d1f02",
   "metadata": {},
   "outputs": [
    {
     "name": "stdout",
     "output_type": "stream",
     "text": [
      "\u001b[1m5/5\u001b[0m \u001b[32m━━━━━━━━━━━━━━━━━━━━\u001b[0m\u001b[37m\u001b[0m \u001b[1m0s\u001b[0m 8ms/step \n"
     ]
    },
    {
     "data": {
      "text/plain": [
       "<tf.Tensor: shape=(150,), dtype=int64, numpy=\n",
       "array([0, 0, 0, 0, 0, 0, 0, 0, 0, 0, 0, 0, 0, 0, 0, 0, 0, 0, 0, 0, 0, 0,\n",
       "       0, 0, 0, 0, 0, 0, 0, 0, 0, 0, 0, 0, 0, 0, 0, 0, 0, 0, 0, 0, 0, 1,\n",
       "       0, 0, 0, 0, 0, 0, 2, 2, 2, 2, 2, 2, 2, 2, 2, 2, 2, 2, 2, 2, 1, 2,\n",
       "       2, 2, 2, 2, 2, 2, 2, 2, 2, 2, 2, 2, 2, 1, 2, 2, 2, 2, 2, 2, 2, 2,\n",
       "       2, 2, 2, 2, 2, 2, 2, 2, 2, 2, 1, 2, 2, 2, 2, 2, 2, 2, 2, 2, 2, 2,\n",
       "       2, 2, 2, 2, 2, 2, 2, 2, 2, 2, 2, 2, 2, 2, 2, 2, 2, 2, 2, 2, 2, 2,\n",
       "       2, 2, 2, 2, 2, 2, 2, 2, 2, 2, 2, 2, 2, 2, 2, 2, 2, 2], dtype=int64)>"
      ]
     },
     "execution_count": 26,
     "metadata": {},
     "output_type": "execute_result"
    }
   ],
   "source": [
    "tf.argmax(model_tf.predict(attributes), axis = 1)"
   ]
  },
  {
   "cell_type": "code",
   "execution_count": 27,
   "id": "4574d81b-ace3-4edc-96de-bfbda172a38c",
   "metadata": {},
   "outputs": [
    {
     "name": "stdout",
     "output_type": "stream",
     "text": [
      "\u001b[1m5/5\u001b[0m \u001b[32m━━━━━━━━━━━━━━━━━━━━\u001b[0m\u001b[37m\u001b[0m \u001b[1m0s\u001b[0m 12ms/step - accuracy: 0.7136 - loss: 0.8000 \n"
     ]
    },
    {
     "data": {
      "text/plain": [
       "[0.7823010087013245, 0.6800000071525574]"
      ]
     },
     "execution_count": 27,
     "metadata": {},
     "output_type": "execute_result"
    }
   ],
   "source": [
    "model_tf.evaluate(attributes, labels)"
   ]
  },
  {
   "cell_type": "markdown",
   "id": "c6315847-c05f-4348-8629-40fc07c0f61f",
   "metadata": {},
   "source": [
    "# pytorch"
   ]
  },
  {
   "cell_type": "code",
   "execution_count": 28,
   "id": "392984aa-80ff-464e-9d05-ad624df122bb",
   "metadata": {},
   "outputs": [],
   "source": [
    "attributes_pt = torch.FloatTensor(attributes)\n",
    "labels_pt = torch.LongTensor(labels)"
   ]
  },
  {
   "cell_type": "code",
   "execution_count": 56,
   "id": "4f6a1d57-e1e9-4b1f-8480-73c9ed50e26d",
   "metadata": {},
   "outputs": [],
   "source": [
    "class LogisticRegressionPT(torch.nn.Module):\n",
    "    def __init__(self):\n",
    "        super(LogisticRegressionPT, self).__init__()\n",
    "        self.layer = torch.nn.Linear(attributes.shape[1], len(set(labels)))\n",
    "    def forward(self, x):\n",
    "        x = torch.nn.functional.softmax(self.layer(x), dim = -1)\n",
    "        return x"
   ]
  },
  {
   "cell_type": "code",
   "execution_count": 57,
   "id": "a1fe4818-f37a-42ce-b1e2-c51ab305dd90",
   "metadata": {},
   "outputs": [],
   "source": [
    "model_pt = LogisticRegressionPT()"
   ]
  },
  {
   "cell_type": "code",
   "execution_count": 58,
   "id": "81ca7847-0ff7-429e-a5da-d961e7730018",
   "metadata": {},
   "outputs": [
    {
     "name": "stdout",
     "output_type": "stream",
     "text": [
      "LogisticRegressionPT(\n",
      "  (layer): Linear(in_features=4, out_features=3, bias=True)\n",
      ")\n"
     ]
    }
   ],
   "source": [
    "print(model_pt)"
   ]
  },
  {
   "cell_type": "code",
   "execution_count": 59,
   "id": "f41be017-ea0c-4ae7-a263-141bbcda5ef8",
   "metadata": {
    "scrolled": true
   },
   "outputs": [
    {
     "data": {
      "text/plain": [
       "tensor([[0.0729, 0.6520, 0.2751],\n",
       "        [0.0783, 0.5744, 0.3472],\n",
       "        [0.0813, 0.6170, 0.3018],\n",
       "        [0.0819, 0.5803, 0.3377],\n",
       "        [0.0736, 0.6666, 0.2598],\n",
       "        [0.0586, 0.6752, 0.2662],\n",
       "        [0.0769, 0.6348, 0.2883],\n",
       "        [0.0745, 0.6269, 0.2986],\n",
       "        [0.0867, 0.5592, 0.3541],\n",
       "        [0.0814, 0.5829, 0.3357],\n",
       "        [0.0671, 0.6712, 0.2617],\n",
       "        [0.0768, 0.6169, 0.3063],\n",
       "        [0.0842, 0.5777, 0.3381],\n",
       "        [0.0951, 0.6089, 0.2960],\n",
       "        [0.0604, 0.7384, 0.2012],\n",
       "        [0.0521, 0.7589, 0.1890],\n",
       "        [0.0597, 0.7127, 0.2276],\n",
       "        [0.0693, 0.6493, 0.2815],\n",
       "        [0.0588, 0.6628, 0.2784],\n",
       "        [0.0668, 0.6832, 0.2500],\n",
       "        [0.0678, 0.6050, 0.3273],\n",
       "        [0.0641, 0.6662, 0.2697],\n",
       "        [0.0807, 0.7024, 0.2169],\n",
       "        [0.0615, 0.5788, 0.3597],\n",
       "        [0.0748, 0.5850, 0.3402],\n",
       "        [0.0752, 0.5520, 0.3728],\n",
       "        [0.0665, 0.6101, 0.3233],\n",
       "        [0.0711, 0.6419, 0.2871],\n",
       "        [0.0721, 0.6369, 0.2910],\n",
       "        [0.0792, 0.5855, 0.3353],\n",
       "        [0.0780, 0.5691, 0.3529],\n",
       "        [0.0620, 0.6196, 0.3184],\n",
       "        [0.0696, 0.7274, 0.2030],\n",
       "        [0.0618, 0.7465, 0.1917],\n",
       "        [0.0773, 0.5797, 0.3430],\n",
       "        [0.0773, 0.6270, 0.2957],\n",
       "        [0.0679, 0.6614, 0.2706],\n",
       "        [0.0789, 0.6688, 0.2523],\n",
       "        [0.0871, 0.5859, 0.3269],\n",
       "        [0.0730, 0.6268, 0.3002],\n",
       "        [0.0710, 0.6593, 0.2697],\n",
       "        [0.0813, 0.4668, 0.4519],\n",
       "        [0.0861, 0.6171, 0.2969],\n",
       "        [0.0595, 0.6190, 0.3215],\n",
       "        [0.0619, 0.6408, 0.2973],\n",
       "        [0.0758, 0.5714, 0.3529],\n",
       "        [0.0699, 0.6762, 0.2538],\n",
       "        [0.0822, 0.6067, 0.3111],\n",
       "        [0.0684, 0.6713, 0.2603],\n",
       "        [0.0756, 0.6218, 0.3026],\n",
       "        [0.0115, 0.1766, 0.8118],\n",
       "        [0.0132, 0.1930, 0.7938],\n",
       "        [0.0100, 0.1496, 0.8404],\n",
       "        [0.0172, 0.1500, 0.8328],\n",
       "        [0.0111, 0.1441, 0.8448],\n",
       "        [0.0160, 0.1628, 0.8212],\n",
       "        [0.0122, 0.1851, 0.8027],\n",
       "        [0.0311, 0.2317, 0.7372],\n",
       "        [0.0129, 0.1596, 0.8276],\n",
       "        [0.0199, 0.1977, 0.7824],\n",
       "        [0.0257, 0.1685, 0.8058],\n",
       "        [0.0156, 0.1984, 0.7861],\n",
       "        [0.0182, 0.1473, 0.8345],\n",
       "        [0.0130, 0.1527, 0.8343],\n",
       "        [0.0224, 0.2507, 0.7269],\n",
       "        [0.0133, 0.1913, 0.7954],\n",
       "        [0.0151, 0.1770, 0.8079],\n",
       "        [0.0213, 0.1927, 0.7860],\n",
       "        [0.0102, 0.1038, 0.8860],\n",
       "        [0.0211, 0.1838, 0.7952],\n",
       "        [0.0109, 0.1626, 0.8264],\n",
       "        [0.0172, 0.1981, 0.7847],\n",
       "        [0.0095, 0.1045, 0.8860],\n",
       "        [0.0145, 0.1499, 0.8356],\n",
       "        [0.0149, 0.1831, 0.8020],\n",
       "        [0.0132, 0.1810, 0.8058],\n",
       "        [0.0103, 0.1329, 0.8567],\n",
       "        [0.0085, 0.1295, 0.8620],\n",
       "        [0.0134, 0.1638, 0.8229],\n",
       "        [0.0256, 0.2328, 0.7416],\n",
       "        [0.0217, 0.1813, 0.7970],\n",
       "        [0.0240, 0.1929, 0.7831],\n",
       "        [0.0198, 0.2010, 0.7791],\n",
       "        [0.0094, 0.1075, 0.8830],\n",
       "        [0.0158, 0.1785, 0.8057],\n",
       "        [0.0143, 0.2160, 0.7697],\n",
       "        [0.0112, 0.1647, 0.8240],\n",
       "        [0.0123, 0.1210, 0.8667],\n",
       "        [0.0197, 0.2177, 0.7626],\n",
       "        [0.0182, 0.1696, 0.8122],\n",
       "        [0.0175, 0.1549, 0.8276],\n",
       "        [0.0139, 0.1696, 0.8165],\n",
       "        [0.0187, 0.1818, 0.7996],\n",
       "        [0.0297, 0.2183, 0.7520],\n",
       "        [0.0176, 0.1751, 0.8074],\n",
       "        [0.0199, 0.2124, 0.7677],\n",
       "        [0.0182, 0.1964, 0.7854],\n",
       "        [0.0156, 0.1846, 0.7997],\n",
       "        [0.0311, 0.2676, 0.7013],\n",
       "        [0.0183, 0.1931, 0.7887],\n",
       "        [0.0040, 0.0833, 0.9127],\n",
       "        [0.0080, 0.1012, 0.8909],\n",
       "        [0.0041, 0.0756, 0.9203],\n",
       "        [0.0067, 0.0912, 0.9020],\n",
       "        [0.0046, 0.0797, 0.9157],\n",
       "        [0.0028, 0.0522, 0.9450],\n",
       "        [0.0133, 0.1279, 0.8588],\n",
       "        [0.0040, 0.0619, 0.9341],\n",
       "        [0.0049, 0.0618, 0.9333],\n",
       "        [0.0035, 0.0930, 0.9036],\n",
       "        [0.0074, 0.1325, 0.8601],\n",
       "        [0.0064, 0.0894, 0.9042],\n",
       "        [0.0052, 0.0929, 0.9019],\n",
       "        [0.0074, 0.0911, 0.9016],\n",
       "        [0.0058, 0.0960, 0.8982],\n",
       "        [0.0057, 0.1133, 0.8810],\n",
       "        [0.0069, 0.1013, 0.8918],\n",
       "        [0.0032, 0.0838, 0.9130],\n",
       "        [0.0018, 0.0319, 0.9663],\n",
       "        [0.0088, 0.0827, 0.9084],\n",
       "        [0.0044, 0.0916, 0.9040],\n",
       "        [0.0087, 0.1169, 0.8744],\n",
       "        [0.0026, 0.0440, 0.9534],\n",
       "        [0.0082, 0.1111, 0.8807],\n",
       "        [0.0055, 0.1037, 0.8908],\n",
       "        [0.0052, 0.0883, 0.9065],\n",
       "        [0.0090, 0.1247, 0.8663],\n",
       "        [0.0095, 0.1361, 0.8545],\n",
       "        [0.0051, 0.0789, 0.9160],\n",
       "        [0.0060, 0.0891, 0.9049],\n",
       "        [0.0038, 0.0618, 0.9344],\n",
       "        [0.0040, 0.1005, 0.8955],\n",
       "        [0.0048, 0.0770, 0.9182],\n",
       "        [0.0097, 0.1159, 0.8744],\n",
       "        [0.0085, 0.0829, 0.9087],\n",
       "        [0.0029, 0.0633, 0.9339],\n",
       "        [0.0052, 0.1102, 0.8846],\n",
       "        [0.0073, 0.1087, 0.8840],\n",
       "        [0.0101, 0.1429, 0.8470],\n",
       "        [0.0055, 0.1036, 0.8909],\n",
       "        [0.0043, 0.0885, 0.9072],\n",
       "        [0.0053, 0.1137, 0.8810],\n",
       "        [0.0080, 0.1012, 0.8909],\n",
       "        [0.0041, 0.0836, 0.9122],\n",
       "        [0.0041, 0.0942, 0.9017],\n",
       "        [0.0052, 0.1026, 0.8923],\n",
       "        [0.0069, 0.0906, 0.9025],\n",
       "        [0.0067, 0.1112, 0.8821],\n",
       "        [0.0062, 0.1243, 0.8695],\n",
       "        [0.0092, 0.1254, 0.8654]], grad_fn=<SoftmaxBackward0>)"
      ]
     },
     "execution_count": 59,
     "metadata": {},
     "output_type": "execute_result"
    }
   ],
   "source": [
    "model_pt(attributes_pt)"
   ]
  },
  {
   "cell_type": "code",
   "execution_count": 60,
   "id": "a76cd4f9-53db-424c-b9ba-4c2916ca855a",
   "metadata": {},
   "outputs": [],
   "source": [
    "learning_rate = 0.01\n",
    "criterion = torch.nn.CrossEntropyLoss()\n",
    "optimizer = torch.optim.Adam(model_pt.parameters(), lr = learning_rate)"
   ]
  },
  {
   "cell_type": "code",
   "execution_count": 61,
   "id": "5c811366-e253-40bc-b74f-676a8bf89ba6",
   "metadata": {},
   "outputs": [],
   "source": [
    "def train(model_pt, optimizer, criterion, attributes, labels, num_epochs, train_losses):\n",
    "    for epoch in range(num_epochs):\n",
    "        optimizer.zero_grad()\n",
    "        output_train = model_pt(attributes) # forward\n",
    "        loss_train = criterion(output_train, labels)\n",
    "        loss_train.backward() # backward\n",
    "        optimizer.step() # weight update\n",
    "        train_losses[epoch] = loss_train.item()\n",
    "        if (epoch + 1) % 50 == 0:\n",
    "            print(f\"Epoch {epoch+1}/{num_epochs}, Loss: {loss_train.item():.4f}\")"
   ]
  },
  {
   "cell_type": "code",
   "execution_count": 62,
   "id": "408802b7-b1f3-4fe1-9f45-0fe697958823",
   "metadata": {},
   "outputs": [
    {
     "name": "stdout",
     "output_type": "stream",
     "text": [
      "Epoch 50/50, Loss: 0.8649\n"
     ]
    }
   ],
   "source": [
    "num_epochs = 50\n",
    "train_losses = np.zeros(num_epochs)\n",
    "train(model_pt, optimizer, criterion, attributes_pt, labels_pt, num_epochs, train_losses)"
   ]
  },
  {
   "cell_type": "code",
   "execution_count": 36,
   "id": "442c9491-5fbe-4ad7-97fd-80150ab835bd",
   "metadata": {},
   "outputs": [
    {
     "name": "stdout",
     "output_type": "stream",
     "text": [
      "Epoch 10/50, Loss: 0.8913\n",
      "Epoch 20/50, Loss: 0.8454\n",
      "Epoch 30/50, Loss: 0.7238\n",
      "Epoch 40/50, Loss: 0.6783\n",
      "Epoch 50/50, Loss: 0.6322\n"
     ]
    }
   ],
   "source": [
    "# Logistic Regression model definition\n",
    "class LogisticRegressionPT(torch.nn.Module):\n",
    "    def __init__(self, input_size, num_classes):\n",
    "        super(LogisticRegressionPT, self).__init__()\n",
    "        self.layer = torch.nn.Linear(input_size, num_classes)\n",
    "    \n",
    "    def forward(self, x):\n",
    "        x = self.layer(x)\n",
    "        return x  # Outputs logits (not softmax for CrossEntropyLoss)\n",
    "\n",
    "# Model setup\n",
    "input_size = attributes.shape[1]  # Number of features\n",
    "num_classes = len(set(labels))  # Number of unique classes in labels\n",
    "model_pt = LogisticRegressionPT(input_size, num_classes)\n",
    "\n",
    "# Training setup\n",
    "learning_rate = 0.01\n",
    "criterion = torch.nn.CrossEntropyLoss()  # Includes softmax internally\n",
    "optimizer = torch.optim.Adam(model_pt.parameters(), lr = learning_rate)\n",
    "\n",
    "# Training function\n",
    "def train(model, optimizer, criterion, attributes, labels, num_epochs):\n",
    "    train_losses = []\n",
    "    for epoch in range(num_epochs):\n",
    "        # Forward pass\n",
    "        optimizer.zero_grad()  # Reset gradients\n",
    "        outputs = model(attributes)  # Forward\n",
    "        loss = criterion(outputs, labels)  # Compute loss\n",
    "        \n",
    "        # Backward pass\n",
    "        loss.backward()  # Backpropagation\n",
    "        optimizer.step()  # Update weights\n",
    "        \n",
    "        # Store and display loss\n",
    "        train_losses.append(loss.item())\n",
    "        if (epoch + 1) % 10 == 0:\n",
    "            print(f\"Epoch {epoch+1}/{num_epochs}, Loss: {loss.item():.4f}\")\n",
    "    \n",
    "    return train_losses\n",
    "\n",
    "# Run training\n",
    "num_epochs = 50\n",
    "train_losses = train(model_pt, optimizer, criterion, attributes_pt, labels_pt, num_epochs)\n"
   ]
  },
  {
   "cell_type": "code",
   "execution_count": 37,
   "id": "3ef25192-15aa-427d-8f33-c9760cf61041",
   "metadata": {},
   "outputs": [
    {
     "name": "stdout",
     "output_type": "stream",
     "text": [
      "2.5.1+cpu\n"
     ]
    }
   ],
   "source": [
    "print(torch.__version__)"
   ]
  },
  {
   "cell_type": "markdown",
   "id": "b6fbc629-257f-40f9-bb53-500195cf1bca",
   "metadata": {},
   "source": [
    "__Many layers in pythorch__"
   ]
  },
  {
   "cell_type": "code",
   "execution_count": 38,
   "id": "25593dae-30d0-4b46-9fb9-313c9ba6c17e",
   "metadata": {},
   "outputs": [],
   "source": [
    "class LogisticRegressionPT(torch.nn.Module):\n",
    "    def __init__(self):\n",
    "        super(LogisticRegressionPT, self).__init__()\n",
    "        self.layer1 = torch.nn.Linear(attributes.shape[1], 20)\n",
    "        self.layer2 = torch.nn.Linear(20, 15)\n",
    "        self.layer3 = torch.nn.Linear(15, 10)\n",
    "        self.layer4 = torch.nn.Linear(10, len(set(labels)))\n",
    "    def forward(self, x):\n",
    "        x = torch.nn.functional.relu(self.layer1(x))\n",
    "        x = torch.nn.functional.relu(self.layer2(x))\n",
    "        x = torch.nn.functional.relu(self.layer3(x))\n",
    "        x = torch.nn.functional.softmax(self.layer4(x))\n",
    "        return x"
   ]
  },
  {
   "cell_type": "markdown",
   "id": "5658833f-366e-4795-8254-8a5a374cdd78",
   "metadata": {},
   "source": [
    "__Many layers in Tensorflow__"
   ]
  },
  {
   "cell_type": "code",
   "execution_count": 41,
   "id": "b9800382-31fc-48b1-b75d-bbd4d8f8876b",
   "metadata": {},
   "outputs": [],
   "source": [
    "model_tf_multilayer = Sequential([\n",
    "    Input((attributes.shape[1],)), # input layer\n",
    "    Dense(20, activation = \"relu\"), \n",
    "    Dense(15, activation = \"relu\"),\n",
    "    Dense(15, activation = \"relu\"),\n",
    "    Dense(len(set(labels)), activation = \"softmax\") # output layer\n",
    "])"
   ]
  },
  {
   "cell_type": "code",
   "execution_count": 42,
   "id": "454e9224-c477-4ad5-91be-4447e93e8684",
   "metadata": {},
   "outputs": [
    {
     "data": {
      "text/html": [
       "<pre style=\"white-space:pre;overflow-x:auto;line-height:normal;font-family:Menlo,'DejaVu Sans Mono',consolas,'Courier New',monospace\"><span style=\"font-weight: bold\">Model: \"sequential_2\"</span>\n",
       "</pre>\n"
      ],
      "text/plain": [
       "\u001b[1mModel: \"sequential_2\"\u001b[0m\n"
      ]
     },
     "metadata": {},
     "output_type": "display_data"
    },
    {
     "data": {
      "text/html": [
       "<pre style=\"white-space:pre;overflow-x:auto;line-height:normal;font-family:Menlo,'DejaVu Sans Mono',consolas,'Courier New',monospace\">┏━━━━━━━━━━━━━━━━━━━━━━━━━━━━━━━━━━━━━━┳━━━━━━━━━━━━━━━━━━━━━━━━━━━━━┳━━━━━━━━━━━━━━━━━┓\n",
       "┃<span style=\"font-weight: bold\"> Layer (type)                         </span>┃<span style=\"font-weight: bold\"> Output Shape                </span>┃<span style=\"font-weight: bold\">         Param # </span>┃\n",
       "┡━━━━━━━━━━━━━━━━━━━━━━━━━━━━━━━━━━━━━━╇━━━━━━━━━━━━━━━━━━━━━━━━━━━━━╇━━━━━━━━━━━━━━━━━┩\n",
       "│ dense_2 (<span style=\"color: #0087ff; text-decoration-color: #0087ff\">Dense</span>)                      │ (<span style=\"color: #00d7ff; text-decoration-color: #00d7ff\">None</span>, <span style=\"color: #00af00; text-decoration-color: #00af00\">20</span>)                  │             <span style=\"color: #00af00; text-decoration-color: #00af00\">100</span> │\n",
       "├──────────────────────────────────────┼─────────────────────────────┼─────────────────┤\n",
       "│ dense_3 (<span style=\"color: #0087ff; text-decoration-color: #0087ff\">Dense</span>)                      │ (<span style=\"color: #00d7ff; text-decoration-color: #00d7ff\">None</span>, <span style=\"color: #00af00; text-decoration-color: #00af00\">15</span>)                  │             <span style=\"color: #00af00; text-decoration-color: #00af00\">315</span> │\n",
       "├──────────────────────────────────────┼─────────────────────────────┼─────────────────┤\n",
       "│ dense_4 (<span style=\"color: #0087ff; text-decoration-color: #0087ff\">Dense</span>)                      │ (<span style=\"color: #00d7ff; text-decoration-color: #00d7ff\">None</span>, <span style=\"color: #00af00; text-decoration-color: #00af00\">15</span>)                  │             <span style=\"color: #00af00; text-decoration-color: #00af00\">240</span> │\n",
       "├──────────────────────────────────────┼─────────────────────────────┼─────────────────┤\n",
       "│ dense_5 (<span style=\"color: #0087ff; text-decoration-color: #0087ff\">Dense</span>)                      │ (<span style=\"color: #00d7ff; text-decoration-color: #00d7ff\">None</span>, <span style=\"color: #00af00; text-decoration-color: #00af00\">3</span>)                   │              <span style=\"color: #00af00; text-decoration-color: #00af00\">48</span> │\n",
       "└──────────────────────────────────────┴─────────────────────────────┴─────────────────┘\n",
       "</pre>\n"
      ],
      "text/plain": [
       "┏━━━━━━━━━━━━━━━━━━━━━━━━━━━━━━━━━━━━━━┳━━━━━━━━━━━━━━━━━━━━━━━━━━━━━┳━━━━━━━━━━━━━━━━━┓\n",
       "┃\u001b[1m \u001b[0m\u001b[1mLayer (type)                        \u001b[0m\u001b[1m \u001b[0m┃\u001b[1m \u001b[0m\u001b[1mOutput Shape               \u001b[0m\u001b[1m \u001b[0m┃\u001b[1m \u001b[0m\u001b[1m        Param #\u001b[0m\u001b[1m \u001b[0m┃\n",
       "┡━━━━━━━━━━━━━━━━━━━━━━━━━━━━━━━━━━━━━━╇━━━━━━━━━━━━━━━━━━━━━━━━━━━━━╇━━━━━━━━━━━━━━━━━┩\n",
       "│ dense_2 (\u001b[38;5;33mDense\u001b[0m)                      │ (\u001b[38;5;45mNone\u001b[0m, \u001b[38;5;34m20\u001b[0m)                  │             \u001b[38;5;34m100\u001b[0m │\n",
       "├──────────────────────────────────────┼─────────────────────────────┼─────────────────┤\n",
       "│ dense_3 (\u001b[38;5;33mDense\u001b[0m)                      │ (\u001b[38;5;45mNone\u001b[0m, \u001b[38;5;34m15\u001b[0m)                  │             \u001b[38;5;34m315\u001b[0m │\n",
       "├──────────────────────────────────────┼─────────────────────────────┼─────────────────┤\n",
       "│ dense_4 (\u001b[38;5;33mDense\u001b[0m)                      │ (\u001b[38;5;45mNone\u001b[0m, \u001b[38;5;34m15\u001b[0m)                  │             \u001b[38;5;34m240\u001b[0m │\n",
       "├──────────────────────────────────────┼─────────────────────────────┼─────────────────┤\n",
       "│ dense_5 (\u001b[38;5;33mDense\u001b[0m)                      │ (\u001b[38;5;45mNone\u001b[0m, \u001b[38;5;34m3\u001b[0m)                   │              \u001b[38;5;34m48\u001b[0m │\n",
       "└──────────────────────────────────────┴─────────────────────────────┴─────────────────┘\n"
      ]
     },
     "metadata": {},
     "output_type": "display_data"
    },
    {
     "data": {
      "text/html": [
       "<pre style=\"white-space:pre;overflow-x:auto;line-height:normal;font-family:Menlo,'DejaVu Sans Mono',consolas,'Courier New',monospace\"><span style=\"font-weight: bold\"> Total params: </span><span style=\"color: #00af00; text-decoration-color: #00af00\">703</span> (2.75 KB)\n",
       "</pre>\n"
      ],
      "text/plain": [
       "\u001b[1m Total params: \u001b[0m\u001b[38;5;34m703\u001b[0m (2.75 KB)\n"
      ]
     },
     "metadata": {},
     "output_type": "display_data"
    },
    {
     "data": {
      "text/html": [
       "<pre style=\"white-space:pre;overflow-x:auto;line-height:normal;font-family:Menlo,'DejaVu Sans Mono',consolas,'Courier New',monospace\"><span style=\"font-weight: bold\"> Trainable params: </span><span style=\"color: #00af00; text-decoration-color: #00af00\">703</span> (2.75 KB)\n",
       "</pre>\n"
      ],
      "text/plain": [
       "\u001b[1m Trainable params: \u001b[0m\u001b[38;5;34m703\u001b[0m (2.75 KB)\n"
      ]
     },
     "metadata": {},
     "output_type": "display_data"
    },
    {
     "data": {
      "text/html": [
       "<pre style=\"white-space:pre;overflow-x:auto;line-height:normal;font-family:Menlo,'DejaVu Sans Mono',consolas,'Courier New',monospace\"><span style=\"font-weight: bold\"> Non-trainable params: </span><span style=\"color: #00af00; text-decoration-color: #00af00\">0</span> (0.00 B)\n",
       "</pre>\n"
      ],
      "text/plain": [
       "\u001b[1m Non-trainable params: \u001b[0m\u001b[38;5;34m0\u001b[0m (0.00 B)\n"
      ]
     },
     "metadata": {},
     "output_type": "display_data"
    }
   ],
   "source": [
    "model_tf_multilayer.summary()"
   ]
  },
  {
   "cell_type": "code",
   "execution_count": 43,
   "id": "8a31d0f0-9de7-4b72-872e-5cc361b9c85c",
   "metadata": {},
   "outputs": [],
   "source": [
    "model_tf_multilayer.compile(loss = \"sparse_categorical_crossentropy\", optimizer = \"adam\", metrics = [\"accuracy\"])"
   ]
  },
  {
   "cell_type": "code",
   "execution_count": 44,
   "id": "4d6befb9-cbd0-4700-b3da-6a40afb17c17",
   "metadata": {
    "scrolled": true
   },
   "outputs": [
    {
     "name": "stdout",
     "output_type": "stream",
     "text": [
      "Epoch 1/50\n",
      "\u001b[1m19/19\u001b[0m \u001b[32m━━━━━━━━━━━━━━━━━━━━\u001b[0m\u001b[37m\u001b[0m \u001b[1m2s\u001b[0m 3ms/step - accuracy: 0.2667 - loss: 1.2653\n",
      "Epoch 2/50\n",
      "\u001b[1m19/19\u001b[0m \u001b[32m━━━━━━━━━━━━━━━━━━━━\u001b[0m\u001b[37m\u001b[0m \u001b[1m0s\u001b[0m 3ms/step - accuracy: 0.2375 - loss: 1.1421 \n",
      "Epoch 3/50\n",
      "\u001b[1m19/19\u001b[0m \u001b[32m━━━━━━━━━━━━━━━━━━━━\u001b[0m\u001b[37m\u001b[0m \u001b[1m0s\u001b[0m 2ms/step - accuracy: 0.2791 - loss: 1.0922 \n",
      "Epoch 4/50\n",
      "\u001b[1m19/19\u001b[0m \u001b[32m━━━━━━━━━━━━━━━━━━━━\u001b[0m\u001b[37m\u001b[0m \u001b[1m0s\u001b[0m 2ms/step - accuracy: 0.3651 - loss: 1.0590 \n",
      "Epoch 5/50\n",
      "\u001b[1m19/19\u001b[0m \u001b[32m━━━━━━━━━━━━━━━━━━━━\u001b[0m\u001b[37m\u001b[0m \u001b[1m0s\u001b[0m 2ms/step - accuracy: 0.4571 - loss: 1.0089 \n",
      "Epoch 6/50\n",
      "\u001b[1m19/19\u001b[0m \u001b[32m━━━━━━━━━━━━━━━━━━━━\u001b[0m\u001b[37m\u001b[0m \u001b[1m0s\u001b[0m 2ms/step - accuracy: 0.3491 - loss: 0.9728 \n",
      "Epoch 7/50\n",
      "\u001b[1m19/19\u001b[0m \u001b[32m━━━━━━━━━━━━━━━━━━━━\u001b[0m\u001b[37m\u001b[0m \u001b[1m0s\u001b[0m 2ms/step - accuracy: 0.3652 - loss: 0.8920 \n",
      "Epoch 8/50\n",
      "\u001b[1m19/19\u001b[0m \u001b[32m━━━━━━━━━━━━━━━━━━━━\u001b[0m\u001b[37m\u001b[0m \u001b[1m0s\u001b[0m 3ms/step - accuracy: 0.4276 - loss: 0.8483 \n",
      "Epoch 9/50\n",
      "\u001b[1m19/19\u001b[0m \u001b[32m━━━━━━━━━━━━━━━━━━━━\u001b[0m\u001b[37m\u001b[0m \u001b[1m0s\u001b[0m 2ms/step - accuracy: 0.5038 - loss: 0.7993 \n",
      "Epoch 10/50\n",
      "\u001b[1m19/19\u001b[0m \u001b[32m━━━━━━━━━━━━━━━━━━━━\u001b[0m\u001b[37m\u001b[0m \u001b[1m0s\u001b[0m 3ms/step - accuracy: 0.8570 - loss: 0.7660 \n",
      "Epoch 11/50\n",
      "\u001b[1m19/19\u001b[0m \u001b[32m━━━━━━━━━━━━━━━━━━━━\u001b[0m\u001b[37m\u001b[0m \u001b[1m0s\u001b[0m 2ms/step - accuracy: 0.9578 - loss: 0.7142 \n",
      "Epoch 12/50\n",
      "\u001b[1m19/19\u001b[0m \u001b[32m━━━━━━━━━━━━━━━━━━━━\u001b[0m\u001b[37m\u001b[0m \u001b[1m0s\u001b[0m 3ms/step - accuracy: 0.8738 - loss: 0.6945 \n",
      "Epoch 13/50\n",
      "\u001b[1m19/19\u001b[0m \u001b[32m━━━━━━━━━━━━━━━━━━━━\u001b[0m\u001b[37m\u001b[0m \u001b[1m0s\u001b[0m 2ms/step - accuracy: 0.9594 - loss: 0.6287 \n",
      "Epoch 14/50\n",
      "\u001b[1m19/19\u001b[0m \u001b[32m━━━━━━━━━━━━━━━━━━━━\u001b[0m\u001b[37m\u001b[0m \u001b[1m0s\u001b[0m 2ms/step - accuracy: 0.9508 - loss: 0.5787 \n",
      "Epoch 15/50\n",
      "\u001b[1m19/19\u001b[0m \u001b[32m━━━━━━━━━━━━━━━━━━━━\u001b[0m\u001b[37m\u001b[0m \u001b[1m0s\u001b[0m 4ms/step - accuracy: 0.9755 - loss: 0.5456 \n",
      "Epoch 16/50\n",
      "\u001b[1m19/19\u001b[0m \u001b[32m━━━━━━━━━━━━━━━━━━━━\u001b[0m\u001b[37m\u001b[0m \u001b[1m0s\u001b[0m 4ms/step - accuracy: 0.9813 - loss: 0.5102 \n",
      "Epoch 17/50\n",
      "\u001b[1m19/19\u001b[0m \u001b[32m━━━━━━━━━━━━━━━━━━━━\u001b[0m\u001b[37m\u001b[0m \u001b[1m0s\u001b[0m 4ms/step - accuracy: 0.9479 - loss: 0.4554 \n",
      "Epoch 18/50\n",
      "\u001b[1m19/19\u001b[0m \u001b[32m━━━━━━━━━━━━━━━━━━━━\u001b[0m\u001b[37m\u001b[0m \u001b[1m0s\u001b[0m 3ms/step - accuracy: 0.9444 - loss: 0.4253 \n",
      "Epoch 19/50\n",
      "\u001b[1m19/19\u001b[0m \u001b[32m━━━━━━━━━━━━━━━━━━━━\u001b[0m\u001b[37m\u001b[0m \u001b[1m0s\u001b[0m 2ms/step - accuracy: 0.9503 - loss: 0.3759 \n",
      "Epoch 20/50\n",
      "\u001b[1m19/19\u001b[0m \u001b[32m━━━━━━━━━━━━━━━━━━━━\u001b[0m\u001b[37m\u001b[0m \u001b[1m0s\u001b[0m 2ms/step - accuracy: 0.8856 - loss: 0.3794 \n",
      "Epoch 21/50\n",
      "\u001b[1m19/19\u001b[0m \u001b[32m━━━━━━━━━━━━━━━━━━━━\u001b[0m\u001b[37m\u001b[0m \u001b[1m0s\u001b[0m 2ms/step - accuracy: 0.9873 - loss: 0.2961 \n",
      "Epoch 22/50\n",
      "\u001b[1m19/19\u001b[0m \u001b[32m━━━━━━━━━━━━━━━━━━━━\u001b[0m\u001b[37m\u001b[0m \u001b[1m0s\u001b[0m 3ms/step - accuracy: 0.9905 - loss: 0.2315 \n",
      "Epoch 23/50\n",
      "\u001b[1m19/19\u001b[0m \u001b[32m━━━━━━━━━━━━━━━━━━━━\u001b[0m\u001b[37m\u001b[0m \u001b[1m0s\u001b[0m 3ms/step - accuracy: 0.9665 - loss: 0.2086 \n",
      "Epoch 24/50\n",
      "\u001b[1m19/19\u001b[0m \u001b[32m━━━━━━━━━━━━━━━━━━━━\u001b[0m\u001b[37m\u001b[0m \u001b[1m0s\u001b[0m 2ms/step - accuracy: 0.9688 - loss: 0.1861 \n",
      "Epoch 25/50\n",
      "\u001b[1m19/19\u001b[0m \u001b[32m━━━━━━━━━━━━━━━━━━━━\u001b[0m\u001b[37m\u001b[0m \u001b[1m0s\u001b[0m 3ms/step - accuracy: 0.9744 - loss: 0.1583 \n",
      "Epoch 26/50\n",
      "\u001b[1m19/19\u001b[0m \u001b[32m━━━━━━━━━━━━━━━━━━━━\u001b[0m\u001b[37m\u001b[0m \u001b[1m0s\u001b[0m 3ms/step - accuracy: 0.9677 - loss: 0.1759 \n",
      "Epoch 27/50\n",
      "\u001b[1m19/19\u001b[0m \u001b[32m━━━━━━━━━━━━━━━━━━━━\u001b[0m\u001b[37m\u001b[0m \u001b[1m0s\u001b[0m 3ms/step - accuracy: 0.9667 - loss: 0.1541 \n",
      "Epoch 28/50\n",
      "\u001b[1m19/19\u001b[0m \u001b[32m━━━━━━━━━━━━━━━━━━━━\u001b[0m\u001b[37m\u001b[0m \u001b[1m0s\u001b[0m 3ms/step - accuracy: 0.9566 - loss: 0.1620 \n",
      "Epoch 29/50\n",
      "\u001b[1m19/19\u001b[0m \u001b[32m━━━━━━━━━━━━━━━━━━━━\u001b[0m\u001b[37m\u001b[0m \u001b[1m0s\u001b[0m 3ms/step - accuracy: 0.9879 - loss: 0.1514 \n",
      "Epoch 30/50\n",
      "\u001b[1m19/19\u001b[0m \u001b[32m━━━━━━━━━━━━━━━━━━━━\u001b[0m\u001b[37m\u001b[0m \u001b[1m0s\u001b[0m 3ms/step - accuracy: 0.9853 - loss: 0.1147 \n",
      "Epoch 31/50\n",
      "\u001b[1m19/19\u001b[0m \u001b[32m━━━━━━━━━━━━━━━━━━━━\u001b[0m\u001b[37m\u001b[0m \u001b[1m0s\u001b[0m 3ms/step - accuracy: 0.9602 - loss: 0.1307 \n",
      "Epoch 32/50\n",
      "\u001b[1m19/19\u001b[0m \u001b[32m━━━━━━━━━━━━━━━━━━━━\u001b[0m\u001b[37m\u001b[0m \u001b[1m0s\u001b[0m 2ms/step - accuracy: 0.9685 - loss: 0.1306 \n",
      "Epoch 33/50\n",
      "\u001b[1m19/19\u001b[0m \u001b[32m━━━━━━━━━━━━━━━━━━━━\u001b[0m\u001b[37m\u001b[0m \u001b[1m0s\u001b[0m 2ms/step - accuracy: 0.9841 - loss: 0.1008 \n",
      "Epoch 34/50\n",
      "\u001b[1m19/19\u001b[0m \u001b[32m━━━━━━━━━━━━━━━━━━━━\u001b[0m\u001b[37m\u001b[0m \u001b[1m0s\u001b[0m 2ms/step - accuracy: 0.9888 - loss: 0.1117 \n",
      "Epoch 35/50\n",
      "\u001b[1m19/19\u001b[0m \u001b[32m━━━━━━━━━━━━━━━━━━━━\u001b[0m\u001b[37m\u001b[0m \u001b[1m0s\u001b[0m 2ms/step - accuracy: 0.9797 - loss: 0.0915 \n",
      "Epoch 36/50\n",
      "\u001b[1m19/19\u001b[0m \u001b[32m━━━━━━━━━━━━━━━━━━━━\u001b[0m\u001b[37m\u001b[0m \u001b[1m0s\u001b[0m 2ms/step - accuracy: 0.9554 - loss: 0.0946 \n",
      "Epoch 37/50\n",
      "\u001b[1m19/19\u001b[0m \u001b[32m━━━━━━━━━━━━━━━━━━━━\u001b[0m\u001b[37m\u001b[0m \u001b[1m0s\u001b[0m 3ms/step - accuracy: 0.9773 - loss: 0.0830 \n",
      "Epoch 38/50\n",
      "\u001b[1m19/19\u001b[0m \u001b[32m━━━━━━━━━━━━━━━━━━━━\u001b[0m\u001b[37m\u001b[0m \u001b[1m0s\u001b[0m 3ms/step - accuracy: 0.9730 - loss: 0.0779 \n",
      "Epoch 39/50\n",
      "\u001b[1m19/19\u001b[0m \u001b[32m━━━━━━━━━━━━━━━━━━━━\u001b[0m\u001b[37m\u001b[0m \u001b[1m0s\u001b[0m 3ms/step - accuracy: 0.9679 - loss: 0.0810 \n",
      "Epoch 40/50\n",
      "\u001b[1m19/19\u001b[0m \u001b[32m━━━━━━━━━━━━━━━━━━━━\u001b[0m\u001b[37m\u001b[0m \u001b[1m0s\u001b[0m 2ms/step - accuracy: 0.9381 - loss: 0.1475 \n",
      "Epoch 41/50\n",
      "\u001b[1m19/19\u001b[0m \u001b[32m━━━━━━━━━━━━━━━━━━━━\u001b[0m\u001b[37m\u001b[0m \u001b[1m0s\u001b[0m 3ms/step - accuracy: 0.9592 - loss: 0.0910 \n",
      "Epoch 42/50\n",
      "\u001b[1m19/19\u001b[0m \u001b[32m━━━━━━━━━━━━━━━━━━━━\u001b[0m\u001b[37m\u001b[0m \u001b[1m0s\u001b[0m 3ms/step - accuracy: 0.9359 - loss: 0.1199 \n",
      "Epoch 43/50\n",
      "\u001b[1m19/19\u001b[0m \u001b[32m━━━━━━━━━━━━━━━━━━━━\u001b[0m\u001b[37m\u001b[0m \u001b[1m0s\u001b[0m 3ms/step - accuracy: 0.9675 - loss: 0.0965 \n",
      "Epoch 44/50\n",
      "\u001b[1m19/19\u001b[0m \u001b[32m━━━━━━━━━━━━━━━━━━━━\u001b[0m\u001b[37m\u001b[0m \u001b[1m0s\u001b[0m 2ms/step - accuracy: 0.9845 - loss: 0.0778 \n",
      "Epoch 45/50\n",
      "\u001b[1m19/19\u001b[0m \u001b[32m━━━━━━━━━━━━━━━━━━━━\u001b[0m\u001b[37m\u001b[0m \u001b[1m0s\u001b[0m 4ms/step - accuracy: 0.9754 - loss: 0.0873 \n",
      "Epoch 46/50\n",
      "\u001b[1m19/19\u001b[0m \u001b[32m━━━━━━━━━━━━━━━━━━━━\u001b[0m\u001b[37m\u001b[0m \u001b[1m0s\u001b[0m 3ms/step - accuracy: 0.9647 - loss: 0.0808 \n",
      "Epoch 47/50\n",
      "\u001b[1m19/19\u001b[0m \u001b[32m━━━━━━━━━━━━━━━━━━━━\u001b[0m\u001b[37m\u001b[0m \u001b[1m0s\u001b[0m 3ms/step - accuracy: 0.9764 - loss: 0.0773 \n",
      "Epoch 48/50\n",
      "\u001b[1m19/19\u001b[0m \u001b[32m━━━━━━━━━━━━━━━━━━━━\u001b[0m\u001b[37m\u001b[0m \u001b[1m0s\u001b[0m 1ms/step - accuracy: 0.9664 - loss: 0.0993 \n",
      "Epoch 49/50\n",
      "\u001b[1m19/19\u001b[0m \u001b[32m━━━━━━━━━━━━━━━━━━━━\u001b[0m\u001b[37m\u001b[0m \u001b[1m0s\u001b[0m 3ms/step - accuracy: 0.9750 - loss: 0.0716 \n",
      "Epoch 50/50\n",
      "\u001b[1m19/19\u001b[0m \u001b[32m━━━━━━━━━━━━━━━━━━━━\u001b[0m\u001b[37m\u001b[0m \u001b[1m0s\u001b[0m 2ms/step - accuracy: 0.9810 - loss: 0.0741 \n"
     ]
    },
    {
     "data": {
      "text/plain": [
       "<keras.src.callbacks.history.History at 0x2e83aff1750>"
      ]
     },
     "execution_count": 44,
     "metadata": {},
     "output_type": "execute_result"
    }
   ],
   "source": [
    "model_tf_multilayer.fit(attributes, labels, batch_size = 8, epochs = 50)"
   ]
  },
  {
   "cell_type": "code",
   "execution_count": 45,
   "id": "da519f44-e450-4d38-9d3b-67a7e23b96e7",
   "metadata": {
    "scrolled": true
   },
   "outputs": [
    {
     "name": "stdout",
     "output_type": "stream",
     "text": [
      "\u001b[1m5/5\u001b[0m \u001b[32m━━━━━━━━━━━━━━━━━━━━\u001b[0m\u001b[37m\u001b[0m \u001b[1m0s\u001b[0m 24ms/step\n"
     ]
    },
    {
     "data": {
      "text/plain": [
       "array([[9.98398244e-01, 1.60179078e-03, 1.71562675e-08],\n",
       "       [9.95978355e-01, 4.02149931e-03, 9.61487672e-08],\n",
       "       [9.97444749e-01, 2.55508930e-03, 6.22665439e-08],\n",
       "       [9.95613456e-01, 4.38644271e-03, 1.77172296e-07],\n",
       "       [9.98504519e-01, 1.49546238e-03, 1.78057640e-08],\n",
       "       [9.98498559e-01, 1.50141679e-03, 1.20843655e-08],\n",
       "       [9.97389019e-01, 2.61088763e-03, 8.12331606e-08],\n",
       "       [9.97749507e-01, 2.25050189e-03, 3.52778073e-08],\n",
       "       [9.94508088e-01, 5.49161574e-03, 3.26220203e-07],\n",
       "       [9.96552944e-01, 3.44693032e-03, 7.41828003e-08],\n",
       "       [9.98789608e-01, 1.21036929e-03, 7.35684713e-09],\n",
       "       [9.97048318e-01, 2.95157847e-03, 7.52746701e-08],\n",
       "       [9.96567607e-01, 3.43230669e-03, 8.42048209e-08],\n",
       "       [9.97110307e-01, 2.88961688e-03, 1.20174164e-07],\n",
       "       [9.99543965e-01, 4.55972389e-04, 7.01479486e-10],\n",
       "       [9.99428570e-01, 5.71421580e-04, 1.34125500e-09],\n",
       "       [9.99155402e-01, 8.44656082e-04, 3.98885458e-09],\n",
       "       [9.98290002e-01, 1.70994643e-03, 2.00012167e-08],\n",
       "       [9.98609781e-01, 1.39017124e-03, 6.40811626e-09],\n",
       "       [9.98645246e-01, 1.35482301e-03, 1.43406069e-08],\n",
       "       [9.97029901e-01, 2.97003402e-03, 2.94720426e-08],\n",
       "       [9.98329103e-01, 1.67085906e-03, 2.09089244e-08],\n",
       "       [9.98526037e-01, 1.47403020e-03, 2.00351966e-08],\n",
       "       [9.92310047e-01, 7.68974889e-03, 2.21001841e-07],\n",
       "       [9.94176865e-01, 5.82288951e-03, 2.15377455e-07],\n",
       "       [9.93726611e-01, 6.27320260e-03, 1.62911917e-07],\n",
       "       [9.96170938e-01, 3.82898049e-03, 8.55653397e-08],\n",
       "       [9.98240471e-01, 1.75952213e-03, 1.78298709e-08],\n",
       "       [9.98284280e-01, 1.71566429e-03, 1.65303362e-08],\n",
       "       [9.95594800e-01, 4.40511806e-03, 1.56084681e-07],\n",
       "       [9.94860232e-01, 5.13959117e-03, 1.63558667e-07],\n",
       "       [9.97036934e-01, 2.96306564e-03, 3.23106448e-08],\n",
       "       [9.99060214e-01, 9.39840975e-04, 5.36978284e-09],\n",
       "       [9.99357283e-01, 6.42663799e-04, 1.86214322e-09],\n",
       "       [9.96017635e-01, 3.98228271e-03, 9.49354302e-08],\n",
       "       [9.98149633e-01, 1.85037847e-03, 2.36836879e-08],\n",
       "       [9.98903394e-01, 1.09661254e-03, 5.20032195e-09],\n",
       "       [9.98505354e-01, 1.49472943e-03, 1.95042702e-08],\n",
       "       [9.96061862e-01, 3.93785397e-03, 1.91675468e-07],\n",
       "       [9.97878790e-01, 2.12126365e-03, 2.77547461e-08],\n",
       "       [9.98446405e-01, 1.55356724e-03, 1.91969782e-08],\n",
       "       [9.79406953e-01, 2.05909163e-02, 2.14451325e-06],\n",
       "       [9.96949136e-01, 3.05079343e-03, 1.27849304e-07],\n",
       "       [9.95165944e-01, 4.83396323e-03, 1.33313819e-07],\n",
       "       [9.96726751e-01, 3.27311410e-03, 6.26003853e-08],\n",
       "       [9.94954050e-01, 5.04578697e-03, 1.65000145e-07],\n",
       "       [9.98517454e-01, 1.48253411e-03, 1.62974931e-08],\n",
       "       [9.96841431e-01, 3.15851136e-03, 1.04526308e-07],\n",
       "       [9.98715878e-01, 1.28418300e-03, 9.35147870e-09],\n",
       "       [9.97805536e-01, 2.19443208e-03, 3.27068541e-08],\n",
       "       [1.07535603e-03, 9.96209264e-01, 2.71543441e-03],\n",
       "       [1.10888283e-03, 9.92465138e-01, 6.42599585e-03],\n",
       "       [3.17617349e-04, 9.84833956e-01, 1.48484334e-02],\n",
       "       [8.27934709e-04, 9.10439551e-01, 8.87324885e-02],\n",
       "       [3.31779040e-04, 9.59092081e-01, 4.05760929e-02],\n",
       "       [7.65272998e-04, 9.42882836e-01, 5.63518740e-02],\n",
       "       [6.44046289e-04, 9.76868689e-01, 2.24872194e-02],\n",
       "       [2.18676068e-02, 9.72777069e-01, 5.35528408e-03],\n",
       "       [8.23506096e-04, 9.92815852e-01, 6.36065612e-03],\n",
       "       [2.16311635e-03, 9.55115676e-01, 4.27212380e-02],\n",
       "       [3.92994890e-03, 9.75606501e-01, 2.04635151e-02],\n",
       "       [1.50369864e-03, 9.84127462e-01, 1.43687893e-02],\n",
       "       [2.02906341e-03, 9.89913702e-01, 8.05724412e-03],\n",
       "       [4.26945189e-04, 9.39707816e-01, 5.98652177e-02],\n",
       "       [1.39436545e-02, 9.83435214e-01, 2.62112007e-03],\n",
       "       [1.87590963e-03, 9.95411098e-01, 2.71297665e-03],\n",
       "       [6.86432642e-04, 9.01176035e-01, 9.81374830e-02],\n",
       "       [5.68777509e-03, 9.90022480e-01, 4.28979844e-03],\n",
       "       [6.30292634e-05, 5.57181180e-01, 4.42755729e-01],\n",
       "       [3.81917320e-03, 9.88090515e-01, 8.09027255e-03],\n",
       "       [1.51227403e-04, 6.44008040e-01, 3.55840743e-01],\n",
       "       [3.44110001e-03, 9.92425799e-01, 4.13312437e-03],\n",
       "       [4.13542839e-05, 5.05789161e-01, 4.94169503e-01],\n",
       "       [6.41951279e-04, 9.74203348e-01, 2.51546707e-02],\n",
       "       [1.97390700e-03, 9.93886411e-01, 4.13965294e-03],\n",
       "       [1.36651774e-03, 9.94464934e-01, 4.16861568e-03],\n",
       "       [2.75913015e-04, 9.76691842e-01, 2.30321959e-02],\n",
       "       [8.87496499e-05, 8.11616004e-01, 1.88295320e-01],\n",
       "       [5.21857408e-04, 9.36612129e-01, 6.28660470e-02],\n",
       "       [2.65716985e-02, 9.72067833e-01, 1.36046892e-03],\n",
       "       [3.79929296e-03, 9.86604631e-01, 9.59607679e-03],\n",
       "       [7.76956230e-03, 9.86990988e-01, 5.23942104e-03],\n",
       "       [4.80818423e-03, 9.90323901e-01, 4.86790854e-03],\n",
       "       [1.08229469e-05, 1.87994599e-01, 8.11994553e-01],\n",
       "       [6.70769077e-04, 8.50975990e-01, 1.48353234e-01],\n",
       "       [1.45733485e-03, 9.86597121e-01, 1.19455075e-02],\n",
       "       [5.27529803e-04, 9.88941729e-01, 1.05307400e-02],\n",
       "       [3.12243094e-04, 9.36574757e-01, 6.31129518e-02],\n",
       "       [4.15337086e-03, 9.88618612e-01, 7.22797820e-03],\n",
       "       [1.37590384e-03, 9.59001184e-01, 3.96228284e-02],\n",
       "       [8.19903391e-04, 9.24886048e-01, 7.42940456e-02],\n",
       "       [7.14856433e-04, 9.73284960e-01, 2.60001607e-02],\n",
       "       [2.64541921e-03, 9.89203274e-01, 8.15127417e-03],\n",
       "       [1.71960499e-02, 9.77117419e-01, 5.68646425e-03],\n",
       "       [1.32291287e-03, 9.67371464e-01, 3.13056335e-02],\n",
       "       [4.54802811e-03, 9.89612758e-01, 5.83920302e-03],\n",
       "       [2.22412660e-03, 9.87348557e-01, 1.04272962e-02],\n",
       "       [1.84979581e-03, 9.92318511e-01, 5.83171519e-03],\n",
       "       [5.16079143e-02, 9.46567178e-01, 1.82493613e-03],\n",
       "       [2.20697955e-03, 9.87195730e-01, 1.05972579e-02],\n",
       "       [5.25295674e-09, 1.78619963e-03, 9.98213768e-01],\n",
       "       [4.23141017e-07, 1.80989206e-02, 9.81900632e-01],\n",
       "       [5.56596049e-08, 1.63194165e-02, 9.83680606e-01],\n",
       "       [4.84858788e-07, 3.42654362e-02, 9.65734124e-01],\n",
       "       [1.01351381e-08, 3.04962532e-03, 9.96950448e-01],\n",
       "       [1.68329106e-09, 2.87632761e-03, 9.97123659e-01],\n",
       "       [5.38903805e-06, 4.11193967e-02, 9.58875239e-01],\n",
       "       [5.55839179e-08, 2.28091255e-02, 9.77190852e-01],\n",
       "       [2.61944972e-08, 7.61020742e-03, 9.92389739e-01],\n",
       "       [2.29103296e-08, 8.91256705e-03, 9.91087496e-01],\n",
       "       [1.93416945e-05, 3.49323452e-01, 6.50657296e-01],\n",
       "       [5.15646434e-07, 3.63729522e-02, 9.63626564e-01],\n",
       "       [3.88388059e-07, 4.15947959e-02, 9.58404839e-01],\n",
       "       [7.66644703e-08, 5.31141926e-03, 9.94688511e-01],\n",
       "       [2.50722803e-08, 2.73519754e-03, 9.97264862e-01],\n",
       "       [3.34702492e-07, 2.38641035e-02, 9.76135492e-01],\n",
       "       [2.88497404e-06, 1.25934452e-01, 8.74062598e-01],\n",
       "       [8.46706456e-08, 3.92193273e-02, 9.60780561e-01],\n",
       "       [3.60784493e-11, 3.00500571e-04, 9.99699473e-01],\n",
       "       [2.42099622e-06, 7.56874979e-02, 9.24310148e-01],\n",
       "       [7.04087526e-08, 1.44117409e-02, 9.85588193e-01],\n",
       "       [8.42292593e-07, 2.21497007e-02, 9.77849483e-01],\n",
       "       [1.04009246e-09, 2.36045220e-03, 9.97639537e-01],\n",
       "       [1.29366254e-05, 2.46589109e-01, 7.53397882e-01],\n",
       "       [5.78207050e-07, 5.01682647e-02, 9.49831188e-01],\n",
       "       [2.00852969e-06, 1.95235267e-01, 8.04762661e-01],\n",
       "       [3.17182348e-05, 3.74267817e-01, 6.25700474e-01],\n",
       "       [4.42587952e-05, 4.18388933e-01, 5.81566811e-01],\n",
       "       [1.86613267e-08, 4.07008920e-03, 9.95929897e-01],\n",
       "       [9.53192102e-06, 4.84422386e-01, 5.15568078e-01],\n",
       "       [5.71218450e-08, 2.39730012e-02, 9.76027071e-01],\n",
       "       [3.91781441e-06, 4.82226998e-01, 5.17769158e-01],\n",
       "       [8.96255070e-09, 2.53982074e-03, 9.97460186e-01],\n",
       "       [5.92727301e-05, 6.05957150e-01, 3.93983603e-01],\n",
       "       [2.05747028e-06, 8.24190602e-02, 9.17578876e-01],\n",
       "       [1.00875370e-08, 8.88573937e-03, 9.91114318e-01],\n",
       "       [5.94074443e-08, 7.05966121e-03, 9.92940187e-01],\n",
       "       [4.30933187e-06, 1.47881135e-01, 8.52114618e-01],\n",
       "       [6.45418331e-05, 4.67498481e-01, 5.32436967e-01],\n",
       "       [1.79739277e-06, 1.18986152e-01, 8.81012142e-01],\n",
       "       [1.64433018e-08, 4.44002682e-03, 9.95559931e-01],\n",
       "       [2.08093775e-06, 1.17716372e-01, 8.82281601e-01],\n",
       "       [4.23141017e-07, 1.80989206e-02, 9.81900632e-01],\n",
       "       [1.36349909e-08, 4.62636398e-03, 9.95373666e-01],\n",
       "       [1.30894184e-08, 3.73046356e-03, 9.96269464e-01],\n",
       "       [3.47351744e-07, 3.18115652e-02, 9.68188047e-01],\n",
       "       [8.40169207e-07, 4.38908972e-02, 9.56108272e-01],\n",
       "       [3.34037850e-06, 1.24601103e-01, 8.75395536e-01],\n",
       "       [4.75588195e-07, 2.51427479e-02, 9.74856853e-01],\n",
       "       [1.05461731e-05, 1.58570692e-01, 8.41418803e-01]], dtype=float32)"
      ]
     },
     "execution_count": 45,
     "metadata": {},
     "output_type": "execute_result"
    }
   ],
   "source": [
    "model_tf_multilayer.predict(attributes)"
   ]
  },
  {
   "cell_type": "code",
   "execution_count": 46,
   "id": "048fdb9e-be80-47e7-aeeb-fd0d3cbcbed3",
   "metadata": {},
   "outputs": [
    {
     "name": "stdout",
     "output_type": "stream",
     "text": [
      "\u001b[1m5/5\u001b[0m \u001b[32m━━━━━━━━━━━━━━━━━━━━\u001b[0m\u001b[37m\u001b[0m \u001b[1m0s\u001b[0m 7ms/step \n"
     ]
    },
    {
     "data": {
      "text/plain": [
       "<tf.Tensor: shape=(150,), dtype=int64, numpy=\n",
       "array([0, 0, 0, 0, 0, 0, 0, 0, 0, 0, 0, 0, 0, 0, 0, 0, 0, 0, 0, 0, 0, 0,\n",
       "       0, 0, 0, 0, 0, 0, 0, 0, 0, 0, 0, 0, 0, 0, 0, 0, 0, 0, 0, 0, 0, 0,\n",
       "       0, 0, 0, 0, 0, 0, 1, 1, 1, 1, 1, 1, 1, 1, 1, 1, 1, 1, 1, 1, 1, 1,\n",
       "       1, 1, 1, 1, 1, 1, 1, 1, 1, 1, 1, 1, 1, 1, 1, 1, 1, 2, 1, 1, 1, 1,\n",
       "       1, 1, 1, 1, 1, 1, 1, 1, 1, 1, 1, 1, 2, 2, 2, 2, 2, 2, 2, 2, 2, 2,\n",
       "       2, 2, 2, 2, 2, 2, 2, 2, 2, 2, 2, 2, 2, 2, 2, 2, 2, 2, 2, 2, 2, 2,\n",
       "       2, 1, 2, 2, 2, 2, 2, 2, 2, 2, 2, 2, 2, 2, 2, 2, 2, 2], dtype=int64)>"
      ]
     },
     "execution_count": 46,
     "metadata": {},
     "output_type": "execute_result"
    }
   ],
   "source": [
    "tf.argmax(model_tf_multilayer.predict(attributes), axis = 1)"
   ]
  },
  {
   "cell_type": "code",
   "execution_count": 47,
   "id": "249693be-7f66-4fb7-a5bb-17eefd6224f5",
   "metadata": {},
   "outputs": [
    {
     "name": "stdout",
     "output_type": "stream",
     "text": [
      "\u001b[1m5/5\u001b[0m \u001b[32m━━━━━━━━━━━━━━━━━━━━\u001b[0m\u001b[37m\u001b[0m \u001b[1m0s\u001b[0m 4ms/step - accuracy: 0.9925 - loss: 0.0463  \n"
     ]
    },
    {
     "data": {
      "text/plain": [
       "[0.07683354616165161, 0.9866666793823242]"
      ]
     },
     "execution_count": 47,
     "metadata": {},
     "output_type": "execute_result"
    }
   ],
   "source": [
    "model_tf_multilayer.evaluate(attributes, labels)"
   ]
  },
  {
   "cell_type": "markdown",
   "id": "85e614d3-5b38-48fb-9f9f-e7766ed7cb6c",
   "metadata": {},
   "source": [
    "A deeper model is trained faster."
   ]
  },
  {
   "cell_type": "markdown",
   "id": "45380bc9-ab30-482d-8342-dbf3ef35e9e0",
   "metadata": {},
   "source": [
    "Using wrong activation function (e.g. than instead of softmax) we will obtain wrong results (random classification)."
   ]
  },
  {
   "cell_type": "markdown",
   "id": "e79ed00c-729b-4d89-bccf-f3a28d3b5130",
   "metadata": {},
   "source": [
    "__Comparing numbers__"
   ]
  },
  {
   "cell_type": "code",
   "execution_count": 67,
   "id": "2846dc46-0d68-4019-a04f-23d9d9cb0f6f",
   "metadata": {},
   "outputs": [],
   "source": [
    "mnist = tf.keras.datasets.mnist\n",
    "(x_train, y_train), (x_test, y_test) = mnist.load_data()\n",
    "x_train, x_test = x_train / 255.0, x_test / 255.0"
   ]
  },
  {
   "cell_type": "code",
   "execution_count": 68,
   "id": "ecd9f03d-f431-4016-98a7-bdea3115bfee",
   "metadata": {},
   "outputs": [],
   "source": [
    "model = Sequential([\n",
    "    Flatten(),\n",
    "    Dense(512, activation = \"relu\"),\n",
    "    Dropout(0.2),\n",
    "    Dense(10, activation = \"softmax\")\n",
    "])"
   ]
  },
  {
   "cell_type": "code",
   "execution_count": 69,
   "id": "e02b87a8-03a2-4254-b955-91bc876e06a1",
   "metadata": {},
   "outputs": [],
   "source": [
    "model.compile(\n",
    "    optimizer = \"adam\",\n",
    "    loss = \"sparse_categorical_crossentropy\",\n",
    "    metrics = [\"accuracy\"]\n",
    ")"
   ]
  },
  {
   "cell_type": "code",
   "execution_count": 70,
   "id": "77dea9c4-5730-4927-bee4-0a4a762e05ac",
   "metadata": {},
   "outputs": [
    {
     "name": "stdout",
     "output_type": "stream",
     "text": [
      "Epoch 1/10\n",
      "\u001b[1m1875/1875\u001b[0m \u001b[32m━━━━━━━━━━━━━━━━━━━━\u001b[0m\u001b[37m\u001b[0m \u001b[1m9s\u001b[0m 4ms/step - accuracy: 0.8907 - loss: 0.3681\n",
      "Epoch 2/10\n",
      "\u001b[1m1875/1875\u001b[0m \u001b[32m━━━━━━━━━━━━━━━━━━━━\u001b[0m\u001b[37m\u001b[0m \u001b[1m9s\u001b[0m 5ms/step - accuracy: 0.9707 - loss: 0.0978\n",
      "Epoch 3/10\n",
      "\u001b[1m1875/1875\u001b[0m \u001b[32m━━━━━━━━━━━━━━━━━━━━\u001b[0m\u001b[37m\u001b[0m \u001b[1m8s\u001b[0m 4ms/step - accuracy: 0.9787 - loss: 0.0675\n",
      "Epoch 4/10\n",
      "\u001b[1m1875/1875\u001b[0m \u001b[32m━━━━━━━━━━━━━━━━━━━━\u001b[0m\u001b[37m\u001b[0m \u001b[1m8s\u001b[0m 4ms/step - accuracy: 0.9852 - loss: 0.0475\n",
      "Epoch 5/10\n",
      "\u001b[1m1875/1875\u001b[0m \u001b[32m━━━━━━━━━━━━━━━━━━━━\u001b[0m\u001b[37m\u001b[0m \u001b[1m8s\u001b[0m 4ms/step - accuracy: 0.9879 - loss: 0.0364\n",
      "Epoch 6/10\n",
      "\u001b[1m1875/1875\u001b[0m \u001b[32m━━━━━━━━━━━━━━━━━━━━\u001b[0m\u001b[37m\u001b[0m \u001b[1m8s\u001b[0m 4ms/step - accuracy: 0.9887 - loss: 0.0331\n",
      "Epoch 7/10\n",
      "\u001b[1m1875/1875\u001b[0m \u001b[32m━━━━━━━━━━━━━━━━━━━━\u001b[0m\u001b[37m\u001b[0m \u001b[1m9s\u001b[0m 5ms/step - accuracy: 0.9914 - loss: 0.0269\n",
      "Epoch 8/10\n",
      "\u001b[1m1875/1875\u001b[0m \u001b[32m━━━━━━━━━━━━━━━━━━━━\u001b[0m\u001b[37m\u001b[0m \u001b[1m9s\u001b[0m 5ms/step - accuracy: 0.9919 - loss: 0.0243\n",
      "Epoch 9/10\n",
      "\u001b[1m1875/1875\u001b[0m \u001b[32m━━━━━━━━━━━━━━━━━━━━\u001b[0m\u001b[37m\u001b[0m \u001b[1m9s\u001b[0m 5ms/step - accuracy: 0.9937 - loss: 0.0190\n",
      "Epoch 10/10\n",
      "\u001b[1m1875/1875\u001b[0m \u001b[32m━━━━━━━━━━━━━━━━━━━━\u001b[0m\u001b[37m\u001b[0m \u001b[1m9s\u001b[0m 5ms/step - accuracy: 0.9927 - loss: 0.0216\n",
      "\u001b[1m313/313\u001b[0m \u001b[32m━━━━━━━━━━━━━━━━━━━━\u001b[0m\u001b[37m\u001b[0m \u001b[1m1s\u001b[0m 1ms/step - accuracy: 0.9781 - loss: 0.0861\n"
     ]
    },
    {
     "data": {
      "text/plain": [
       "[0.07282503694295883, 0.9818000197410583]"
      ]
     },
     "execution_count": 70,
     "metadata": {},
     "output_type": "execute_result"
    }
   ],
   "source": [
    "model.fit(x_train, y_train, epochs = 10)\n",
    "model.evaluate(x_test, y_test)"
   ]
  },
  {
   "cell_type": "code",
   "execution_count": null,
   "id": "df144484-1bc2-4a02-a74d-2c819e9b41b1",
   "metadata": {},
   "outputs": [],
   "source": []
  }
 ],
 "metadata": {
  "kernelspec": {
   "display_name": "Python 3 (ipykernel)",
   "language": "python",
   "name": "python3"
  },
  "language_info": {
   "codemirror_mode": {
    "name": "ipython",
    "version": 3
   },
   "file_extension": ".py",
   "mimetype": "text/x-python",
   "name": "python",
   "nbconvert_exporter": "python",
   "pygments_lexer": "ipython3",
   "version": "3.11.7"
  }
 },
 "nbformat": 4,
 "nbformat_minor": 5
}
